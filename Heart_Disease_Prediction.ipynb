{
  "nbformat": 4,
  "nbformat_minor": 0,
  "metadata": {
    "colab": {
      "name": "Heart Disease Prediction.ipynb",
      "provenance": []
    },
    "kernelspec": {
      "name": "python3",
      "display_name": "Python 3"
    },
    "deepnote_notebook_id": "a8fff522-483a-4124-b794-7c912fa8058a",
    "deepnote": {},
    "deepnote_execution_queue": []
  },
  "cells": [
    {
      "cell_type": "markdown",
      "metadata": {
        "tags": [],
        "cell_id": "00000-32aa1e25-51ed-4c1c-a061-b50e4cbb736e",
        "deepnote_cell_type": "markdown",
        "id": "tJFOVyJsF_rJ"
      },
      "source": [
        "\n",
        "\n",
        "Machine Learning – Project\n",
        "\n",
        "Heart Disease Prediction\n",
        "\n",
        "___\n",
        "\n",
        "**Goal and objectives:** \n",
        "- Use a predictive model to classify patients who have heart failure, if given historical dataset with clinical parameters. \n",
        "- Evaluate the performance of the model \n",
        "- Suggest which features may be useful in heart failure prediction.\n",
        "\n",
        "\n",
        "**Data Source: ** Cleavland data from the UCI Machine Learning Repository. https://archive.ics.uci.edu/ml/datasets/heart+Disease"
      ]
    },
    {
      "cell_type": "markdown",
      "metadata": {
        "id": "8900tMa4U7y5",
        "cell_id": "00001-b1a49b24-49b6-4471-997e-a0bccc388323",
        "deepnote_cell_type": "markdown"
      },
      "source": [
        "**Features/Attribute Information**: Only 14 used\n",
        "   \n",
        "- 1. age: age in years -  **(numerical)**   \n",
        "- 2. sex: sex (1 = male; 0 = female) - **(categorical)**    \n",
        "- 3. cp: chest pain type - **(categorical)**  \n",
        "        -- Value 1: typical angina\n",
        "        -- Value 2: atypical angina\n",
        "        -- Value 3: non-anginal pain\n",
        "        -- Value 4: asymptomatic       \n",
        "- 4. trestbps: resting blood pressure (in mm Hg on admission to the hospital)  **(numerical)** \n",
        "- 5. chol: serum cholestoral in mg/dl **(numerical)**      \n",
        "- 6. fbs: (fasting blood sugar > 120 mg/dl)  (1 = true; 0 = false) - **(categorical)**  \n",
        "- 7. restecg: resting electrocardiographic results - **(categorical)**  \n",
        "        -- Value 0: normal\n",
        "        -- Value 1: having ST-T wave abnormality (T wave inversions and/or ST  elevation or depression of > 0.05 mV)\n",
        "        -- Value 2: showing probable or definite left ventricular hypertrophy  by Estes' criteria  \n",
        "- 8. thalach: maximum heart rate achieved  **(numerical)**  \n",
        "- 9. xhypo: (1 = yes; 0 = no)    - **(categorical)**  \n",
        "- 10. ST depression induced by exercise relative to rest\n",
        "- 11. slope: the slope of the peak exercise ST segment - **(categorical)**\n",
        "        -- Value 1: upsloping\n",
        "        -- Value 2: flat\n",
        "        -- Value 3: downsloping     \n",
        "- 12. ca: number of major vessels (0-3) colored by flourosopy  - **(categorical)**      \n",
        "- 13. thal: 3 = normal; 6 = fixed defect; 7 = reversable defect  - **(categorical)** \n",
        "- 14. target : diagnosis of heart disease (angiographic disease status) presence of disease (values 1,2,3,4), absence (value  0).  - **(categorical)**\n",
        "        "
      ]
    },
    {
      "cell_type": "code",
      "metadata": {
        "id": "Tvt1vW44Pw1O",
        "cell_id": "00000-365b12ce-2eac-4290-a27e-cdf3e12dd0fc",
        "deepnote_to_be_reexecuted": false,
        "source_hash": "b2e282c7",
        "execution_millis": 6,
        "execution_start": 1615412266927,
        "deepnote_cell_type": "code"
      },
      "source": [
        "# import all libraries and tools\n",
        "\n",
        "\n",
        "# EDA (exploratory data analysis) and visualisation libraries\n",
        "import numpy as np\n",
        "import pandas as pd\n",
        "import matplotlib.pyplot as plt\n",
        "import seaborn as sns\n",
        "\n",
        "# Plots to appear inside the notebook\n",
        "%matplotlib inline \n",
        "\n",
        "# Models from Scikit-Learn\n",
        "from sklearn.linear_model import LogisticRegression\n",
        "from sklearn.ensemble import RandomForestClassifier\n",
        "\n",
        "# Model Evaluations\n",
        "from sklearn.model_selection import train_test_split, cross_val_score\n",
        "from sklearn.model_selection import RandomizedSearchCV, GridSearchCV\n",
        "from sklearn.metrics import confusion_matrix, classification_report\n",
        "from sklearn.metrics import precision_score, recall_score, f1_score\n",
        "from sklearn.metrics import plot_roc_curve\n",
        "\n",
        "# Models from TensorFlow - ANN (Deep Learning)\n",
        "import tensorflow as tf\n",
        "from tensorflow import keras\n"
      ],
      "execution_count": 1,
      "outputs": []
    },
    {
      "cell_type": "code",
      "metadata": {
        "id": "xmKcp4GwQcZu",
        "cell_id": "00003-0a7c8115-0d54-4fd1-ae68-9eff90522754",
        "deepnote_to_be_reexecuted": false,
        "source_hash": "b85eacef",
        "execution_millis": 8,
        "execution_start": 1615412291905,
        "deepnote_cell_type": "code",
        "colab": {
          "base_uri": "https://localhost:8080/"
        },
        "outputId": "843586c3-19c0-4238-d5d3-94603dcbd774"
      },
      "source": [
        "#Import dataset\n",
        "#Set column heads appropriately\n",
        "\n",
        "hd_data = pd.read_csv('processed.cleveland.csv', header= None)\n",
        "\n",
        "col_names = ['age', 'sex', 'cp', 'trestbps', 'chol', 'fbs', \n",
        "            'restecg', 'thalach', 'exang', 'oldpeak', 'slope', 'ca', 'thal', 'target']\n",
        "\n",
        "\n",
        "\n",
        "hd_data.columns = col_names\n",
        "\n",
        "hd_data.info()"
      ],
      "execution_count": 2,
      "outputs": [
        {
          "output_type": "stream",
          "text": [
            "<class 'pandas.core.frame.DataFrame'>\n",
            "RangeIndex: 303 entries, 0 to 302\n",
            "Data columns (total 14 columns):\n",
            " #   Column    Non-Null Count  Dtype  \n",
            "---  ------    --------------  -----  \n",
            " 0   age       303 non-null    float64\n",
            " 1   sex       303 non-null    float64\n",
            " 2   cp        303 non-null    float64\n",
            " 3   trestbps  303 non-null    float64\n",
            " 4   chol      303 non-null    float64\n",
            " 5   fbs       303 non-null    float64\n",
            " 6   restecg   303 non-null    float64\n",
            " 7   thalach   303 non-null    float64\n",
            " 8   exang     303 non-null    float64\n",
            " 9   oldpeak   303 non-null    float64\n",
            " 10  slope     303 non-null    float64\n",
            " 11  ca        303 non-null    object \n",
            " 12  thal      303 non-null    object \n",
            " 13  target    303 non-null    int64  \n",
            "dtypes: float64(11), int64(1), object(2)\n",
            "memory usage: 33.3+ KB\n"
          ],
          "name": "stdout"
        }
      ]
    },
    {
      "cell_type": "markdown",
      "metadata": {
        "tags": [],
        "cell_id": "00004-eaf02754-fd57-4b6b-84f4-8c502079ed9c",
        "deepnote_cell_type": "markdown",
        "id": "PgEPHlYiF_rb"
      },
      "source": [
        "### **Data Clean up**"
      ]
    },
    {
      "cell_type": "code",
      "metadata": {
        "id": "8_HAglibQ0b-",
        "cell_id": "00004-84d3e2f5-b739-4679-ae39-d867f5a84cb8",
        "deepnote_to_be_reexecuted": false,
        "source_hash": "8316e0c2",
        "execution_millis": 165,
        "execution_start": 1615412334897,
        "deepnote_cell_type": "code",
        "colab": {
          "base_uri": "https://localhost:8080/",
          "height": 296
        },
        "outputId": "1358727f-a0b4-4808-b3cf-3a1d184d30be"
      },
      "source": [
        "#Seems some columns have strings values (or missing values) in them\n",
        "#Get and plot distinct values in 'ca'and 'thal'\n",
        "\n",
        "sns.countplot(x = 'ca', data = hd_data)"
      ],
      "execution_count": 3,
      "outputs": [
        {
          "output_type": "execute_result",
          "data": {
            "text/plain": [
              "<matplotlib.axes._subplots.AxesSubplot at 0x7fa2fb810550>"
            ]
          },
          "metadata": {
            "tags": []
          },
          "execution_count": 3
        },
        {
          "output_type": "display_data",
          "data": {
            "image/png": "[encoded data removed]",
            "text/plain": [
              "<Figure size 432x288 with 1 Axes>"
            ]
          },
          "metadata": {
            "tags": [],
            "needs_background": "light"
          }
        }
      ]
    },
    {
      "cell_type": "code",
      "metadata": {
        "tags": [],
        "cell_id": "00006-7aeac443-b553-4c1a-a49c-99de6552a39e",
        "deepnote_to_be_reexecuted": false,
        "source_hash": "49ce172",
        "execution_millis": 128,
        "execution_start": 1615412335062,
        "deepnote_cell_type": "code",
        "colab": {
          "base_uri": "https://localhost:8080/",
          "height": 296
        },
        "id": "Dv-tah1vF_rd",
        "outputId": "43a48377-4e19-4e3d-a15b-b9578139e7fb"
      },
      "source": [
        "sns.countplot(x = 'thal', data = hd_data)"
      ],
      "execution_count": 4,
      "outputs": [
        {
          "output_type": "execute_result",
          "data": {
            "text/plain": [
              "<matplotlib.axes._subplots.AxesSubplot at 0x7fa2b3acb790>"
            ]
          },
          "metadata": {
            "tags": []
          },
          "execution_count": 4
        },
        {
          "output_type": "display_data",
          "data": {
            "image/png": "[encoded data removed]",
            "text/plain": [
              "<Figure size 432x288 with 1 Axes>"
            ]
          },
          "metadata": {
            "tags": [],
            "needs_background": "light"
          }
        }
      ]
    },
    {
      "cell_type": "code",
      "metadata": {
        "colab": {
          "base_uri": "https://localhost:8080/"
        },
        "id": "etxk-9Ildo31",
        "cell_id": "00007-03727ff2-f17f-40d6-b382-d3be832251a1",
        "deepnote_to_be_reexecuted": false,
        "source_hash": "33f97904",
        "execution_millis": 7,
        "execution_start": 1615412369769,
        "deepnote_cell_type": "code",
        "outputId": "bc84763c-bfc1-4905-b29a-3e4ed5e7144c"
      },
      "source": [
        "#Counts values for 'ca' and 'thal'\n",
        "\n",
        "hd_data.thal.value_counts()\n",
        "#hd_data.ca.value_counts()"
      ],
      "execution_count": 5,
      "outputs": [
        {
          "output_type": "execute_result",
          "data": {
            "text/plain": [
              "3.0    166\n",
              "7.0    117\n",
              "6.0     18\n",
              "?        2\n",
              "Name: thal, dtype: int64"
            ]
          },
          "metadata": {
            "tags": []
          },
          "execution_count": 5
        }
      ]
    },
    {
      "cell_type": "code",
      "metadata": {
        "colab": {
          "base_uri": "https://localhost:8080/",
          "height": 173
        },
        "id": "mlOSNRPDQY-L",
        "cell_id": "00008-2c0257eb-4b00-4ae9-a604-96b7d7e2c145",
        "deepnote_to_be_reexecuted": false,
        "source_hash": "4f5d145d",
        "execution_millis": 21,
        "execution_start": 1615412369770,
        "deepnote_cell_type": "code",
        "outputId": "aa5afdfc-4a19-4202-c3e1-75d009afc3b9"
      },
      "source": [
        "#View rows with the '?' values\n",
        "\n",
        "hd_data[hd_data['ca'] == '?']\n",
        "#hd_data[hd_data['thal'] == '?']"
      ],
      "execution_count": 6,
      "outputs": [
        {
          "output_type": "execute_result",
          "data": {
            "text/html": [
              "<div>\n",
              "<style scoped>\n",
              "    .dataframe tbody tr th:only-of-type {\n",
              "        vertical-align: middle;\n",
              "    }\n",
              "\n",
              "    .dataframe tbody tr th {\n",
              "        vertical-align: top;\n",
              "    }\n",
              "\n",
              "    .dataframe thead th {\n",
              "        text-align: right;\n",
              "    }\n",
              "</style>\n",
              "<table border=\"1\" class=\"dataframe\">\n",
              "  <thead>\n",
              "    <tr style=\"text-align: right;\">\n",
              "      <th></th>\n",
              "      <th>age</th>\n",
              "      <th>sex</th>\n",
              "      <th>cp</th>\n",
              "      <th>trestbps</th>\n",
              "      <th>chol</th>\n",
              "      <th>fbs</th>\n",
              "      <th>restecg</th>\n",
              "      <th>thalach</th>\n",
              "      <th>exang</th>\n",
              "      <th>oldpeak</th>\n",
              "      <th>slope</th>\n",
              "      <th>ca</th>\n",
              "      <th>thal</th>\n",
              "      <th>target</th>\n",
              "    </tr>\n",
              "  </thead>\n",
              "  <tbody>\n",
              "    <tr>\n",
              "      <th>166</th>\n",
              "      <td>52.0</td>\n",
              "      <td>1.0</td>\n",
              "      <td>3.0</td>\n",
              "      <td>138.0</td>\n",
              "      <td>223.0</td>\n",
              "      <td>0.0</td>\n",
              "      <td>0.0</td>\n",
              "      <td>169.0</td>\n",
              "      <td>0.0</td>\n",
              "      <td>0.0</td>\n",
              "      <td>1.0</td>\n",
              "      <td>?</td>\n",
              "      <td>3.0</td>\n",
              "      <td>0</td>\n",
              "    </tr>\n",
              "    <tr>\n",
              "      <th>192</th>\n",
              "      <td>43.0</td>\n",
              "      <td>1.0</td>\n",
              "      <td>4.0</td>\n",
              "      <td>132.0</td>\n",
              "      <td>247.0</td>\n",
              "      <td>1.0</td>\n",
              "      <td>2.0</td>\n",
              "      <td>143.0</td>\n",
              "      <td>1.0</td>\n",
              "      <td>0.1</td>\n",
              "      <td>2.0</td>\n",
              "      <td>?</td>\n",
              "      <td>7.0</td>\n",
              "      <td>1</td>\n",
              "    </tr>\n",
              "    <tr>\n",
              "      <th>287</th>\n",
              "      <td>58.0</td>\n",
              "      <td>1.0</td>\n",
              "      <td>2.0</td>\n",
              "      <td>125.0</td>\n",
              "      <td>220.0</td>\n",
              "      <td>0.0</td>\n",
              "      <td>0.0</td>\n",
              "      <td>144.0</td>\n",
              "      <td>0.0</td>\n",
              "      <td>0.4</td>\n",
              "      <td>2.0</td>\n",
              "      <td>?</td>\n",
              "      <td>7.0</td>\n",
              "      <td>0</td>\n",
              "    </tr>\n",
              "    <tr>\n",
              "      <th>302</th>\n",
              "      <td>38.0</td>\n",
              "      <td>1.0</td>\n",
              "      <td>3.0</td>\n",
              "      <td>138.0</td>\n",
              "      <td>175.0</td>\n",
              "      <td>0.0</td>\n",
              "      <td>0.0</td>\n",
              "      <td>173.0</td>\n",
              "      <td>0.0</td>\n",
              "      <td>0.0</td>\n",
              "      <td>1.0</td>\n",
              "      <td>?</td>\n",
              "      <td>3.0</td>\n",
              "      <td>0</td>\n",
              "    </tr>\n",
              "  </tbody>\n",
              "</table>\n",
              "</div>"
            ],
            "text/plain": [
              "      age  sex   cp  trestbps   chol  ...  oldpeak  slope  ca  thal  target\n",
              "166  52.0  1.0  3.0     138.0  223.0  ...      0.0    1.0   ?   3.0       0\n",
              "192  43.0  1.0  4.0     132.0  247.0  ...      0.1    2.0   ?   7.0       1\n",
              "287  58.0  1.0  2.0     125.0  220.0  ...      0.4    2.0   ?   7.0       0\n",
              "302  38.0  1.0  3.0     138.0  175.0  ...      0.0    1.0   ?   3.0       0\n",
              "\n",
              "[4 rows x 14 columns]"
            ]
          },
          "metadata": {
            "tags": []
          },
          "execution_count": 6
        }
      ]
    },
    {
      "cell_type": "markdown",
      "metadata": {
        "tags": [],
        "cell_id": "00009-7c46e23a-faf7-4933-b2e8-28caf4be6702",
        "deepnote_cell_type": "markdown",
        "id": "Mix7Thh2F_re"
      },
      "source": [
        "#### How many distinct values in the 'target' column"
      ]
    },
    {
      "cell_type": "code",
      "metadata": {
        "tags": [],
        "cell_id": "00010-a370d4a2-c77d-4cce-a1d5-6e4aea60bd40",
        "deepnote_to_be_reexecuted": false,
        "source_hash": "9d351c72",
        "execution_millis": 57,
        "execution_start": 1615412369783,
        "deepnote_cell_type": "code",
        "colab": {
          "base_uri": "https://localhost:8080/"
        },
        "id": "0mxxUToqF_rf",
        "outputId": "21d1ded2-18b7-4458-f0d0-eba549f38b8f"
      },
      "source": [
        "hd_data.target.value_counts()"
      ],
      "execution_count": 7,
      "outputs": [
        {
          "output_type": "execute_result",
          "data": {
            "text/plain": [
              "0    164\n",
              "1     55\n",
              "2     36\n",
              "3     35\n",
              "4     13\n",
              "Name: target, dtype: int64"
            ]
          },
          "metadata": {
            "tags": []
          },
          "execution_count": 7
        }
      ]
    },
    {
      "cell_type": "code",
      "metadata": {
        "tags": [],
        "cell_id": "00011-f8c72873-8979-4717-9ed5-e036d10a1522",
        "deepnote_to_be_reexecuted": false,
        "source_hash": "d88225b4",
        "execution_millis": 118,
        "execution_start": 1615412401021,
        "deepnote_cell_type": "code",
        "colab": {
          "base_uri": "https://localhost:8080/",
          "height": 296
        },
        "id": "oQkoAmGEF_rf",
        "outputId": "d48e8ef6-e483-4d3e-8a16-5f6986f713e6"
      },
      "source": [
        "#Visualise\n",
        "\n",
        "sns.countplot(x = 'target', data = hd_data)"
      ],
      "execution_count": 8,
      "outputs": [
        {
          "output_type": "execute_result",
          "data": {
            "text/plain": [
              "<matplotlib.axes._subplots.AxesSubplot at 0x7fa2b3605890>"
            ]
          },
          "metadata": {
            "tags": []
          },
          "execution_count": 8
        },
        {
          "output_type": "display_data",
          "data": {
            "image/png": "[encoded data removed]",
            "text/plain": [
              "<Figure size 432x288 with 1 Axes>"
            ]
          },
          "metadata": {
            "tags": [],
            "needs_background": "light"
          }
        }
      ]
    },
    {
      "cell_type": "markdown",
      "metadata": {
        "tags": [],
        "cell_id": "00002-08a10f13-b8f7-4c5d-aee7-6c7c7d457bdf",
        "deepnote_cell_type": "markdown",
        "id": "tIIdZ4rmF_rg"
      },
      "source": [
        " *Need the make the target column binary i.e heart disease present or not, '1' and '0' respectively"
      ]
    },
    {
      "cell_type": "markdown",
      "metadata": {
        "tags": [],
        "cell_id": "00010-9db80f29-ee11-441d-a1ae-41a154ec9d24",
        "deepnote_cell_type": "markdown",
        "id": "_ru3T5-sF_rg"
      },
      "source": [
        "#### **Clean up tasks**\n",
        "- Replace string values with NaN (Null values)\n",
        "- Edit the target column to feature only two categories instead of six\n",
        "    - Category '1' - presence of disease (values 1,2,3,4)\n",
        "    - Category '0' - absence of disease (value 0). "
      ]
    },
    {
      "cell_type": "code",
      "metadata": {
        "id": "GjkrIxR3PwqJ",
        "cell_id": "00009-e69d7ae6-e1a1-46bb-9ee5-da1c4ef5d9d7",
        "deepnote_to_be_reexecuted": false,
        "source_hash": "78737abd",
        "execution_millis": 2,
        "execution_start": 1615412406910,
        "deepnote_cell_type": "code"
      },
      "source": [
        "#Some values with '?' string which may indicate missing values\n",
        "#replace '?' with NaN\n",
        "\n",
        "hd_data = hd_data.replace('?', np.nan)"
      ],
      "execution_count": 9,
      "outputs": []
    },
    {
      "cell_type": "markdown",
      "metadata": {
        "tags": [],
        "cell_id": "00015-3eecc776-b6a9-455a-9259-96398bde9065",
        "deepnote_cell_type": "markdown",
        "id": "jIdPUPtKF_ri"
      },
      "source": [
        "** *Missing values will be dealt with using Scikit-learn object later after the data is split into testing and training datasets.**"
      ]
    },
    {
      "cell_type": "code",
      "metadata": {
        "id": "eiikhlMAboaW",
        "cell_id": "00010-1d69b12d-9b43-410e-ab29-9b7e9807c039",
        "deepnote_to_be_reexecuted": false,
        "source_hash": "3163b7aa",
        "execution_millis": 2,
        "execution_start": 1615412413999,
        "deepnote_cell_type": "code"
      },
      "source": [
        "#Convert datatype from object to int as well as other categorical data \n",
        " \n",
        "hd_data[['ca', 'thal']] = hd_data[['ca', 'thal']].astype(float)"
      ],
      "execution_count": 10,
      "outputs": []
    },
    {
      "cell_type": "code",
      "metadata": {
        "id": "2XaKRr_VczBQ",
        "cell_id": "00012-132550e1-38bb-40e9-ad90-9e591d7e9c01",
        "deepnote_to_be_reexecuted": false,
        "source_hash": "7d3de712",
        "execution_millis": 1,
        "execution_start": 1615412436249,
        "deepnote_cell_type": "code"
      },
      "source": [
        "#Change target column to binary class 0 and 1: '0' >> absence of disease (value 0) and '1' >> presence of disease (values 1,2,3,4)\n",
        "\n",
        "hd_data = hd_data.replace({'target': [2,3,4]}, 1)\n"
      ],
      "execution_count": 12,
      "outputs": []
    },
    {
      "cell_type": "code",
      "metadata": {
        "colab": {
          "base_uri": "https://localhost:8080/",
          "height": 297
        },
        "id": "EvLJw-PkclSy",
        "cell_id": "00013-58561480-c3d9-4092-ba78-fb0b91b69eab",
        "deepnote_to_be_reexecuted": false,
        "source_hash": "f97338dd",
        "execution_millis": 37,
        "execution_start": 1615412436250,
        "deepnote_cell_type": "code",
        "outputId": "58693e80-4d57-41e6-ac38-176577669492"
      },
      "source": [
        "# View the dataset\n",
        "\n",
        "#hd_data.head()\n",
        "#hd_data.tail(10)\n",
        "hd_data.describe()"
      ],
      "execution_count": 13,
      "outputs": [
        {
          "output_type": "execute_result",
          "data": {
            "text/html": [
              "<div>\n",
              "<style scoped>\n",
              "    .dataframe tbody tr th:only-of-type {\n",
              "        vertical-align: middle;\n",
              "    }\n",
              "\n",
              "    .dataframe tbody tr th {\n",
              "        vertical-align: top;\n",
              "    }\n",
              "\n",
              "    .dataframe thead th {\n",
              "        text-align: right;\n",
              "    }\n",
              "</style>\n",
              "<table border=\"1\" class=\"dataframe\">\n",
              "  <thead>\n",
              "    <tr style=\"text-align: right;\">\n",
              "      <th></th>\n",
              "      <th>age</th>\n",
              "      <th>sex</th>\n",
              "      <th>cp</th>\n",
              "      <th>trestbps</th>\n",
              "      <th>chol</th>\n",
              "      <th>fbs</th>\n",
              "      <th>restecg</th>\n",
              "      <th>thalach</th>\n",
              "      <th>exang</th>\n",
              "      <th>oldpeak</th>\n",
              "      <th>slope</th>\n",
              "      <th>ca</th>\n",
              "      <th>thal</th>\n",
              "      <th>target</th>\n",
              "    </tr>\n",
              "  </thead>\n",
              "  <tbody>\n",
              "    <tr>\n",
              "      <th>count</th>\n",
              "      <td>303.000000</td>\n",
              "      <td>303.000000</td>\n",
              "      <td>303.000000</td>\n",
              "      <td>303.000000</td>\n",
              "      <td>303.000000</td>\n",
              "      <td>303.000000</td>\n",
              "      <td>303.000000</td>\n",
              "      <td>303.000000</td>\n",
              "      <td>303.000000</td>\n",
              "      <td>303.000000</td>\n",
              "      <td>303.000000</td>\n",
              "      <td>299.000000</td>\n",
              "      <td>301.000000</td>\n",
              "      <td>303.000000</td>\n",
              "    </tr>\n",
              "    <tr>\n",
              "      <th>mean</th>\n",
              "      <td>54.438944</td>\n",
              "      <td>0.679868</td>\n",
              "      <td>3.158416</td>\n",
              "      <td>131.689769</td>\n",
              "      <td>246.693069</td>\n",
              "      <td>0.148515</td>\n",
              "      <td>0.990099</td>\n",
              "      <td>149.607261</td>\n",
              "      <td>0.326733</td>\n",
              "      <td>1.039604</td>\n",
              "      <td>1.600660</td>\n",
              "      <td>0.672241</td>\n",
              "      <td>4.734219</td>\n",
              "      <td>0.458746</td>\n",
              "    </tr>\n",
              "    <tr>\n",
              "      <th>std</th>\n",
              "      <td>9.038662</td>\n",
              "      <td>0.467299</td>\n",
              "      <td>0.960126</td>\n",
              "      <td>17.599748</td>\n",
              "      <td>51.776918</td>\n",
              "      <td>0.356198</td>\n",
              "      <td>0.994971</td>\n",
              "      <td>22.875003</td>\n",
              "      <td>0.469794</td>\n",
              "      <td>1.161075</td>\n",
              "      <td>0.616226</td>\n",
              "      <td>0.937438</td>\n",
              "      <td>1.939706</td>\n",
              "      <td>0.499120</td>\n",
              "    </tr>\n",
              "    <tr>\n",
              "      <th>min</th>\n",
              "      <td>29.000000</td>\n",
              "      <td>0.000000</td>\n",
              "      <td>1.000000</td>\n",
              "      <td>94.000000</td>\n",
              "      <td>126.000000</td>\n",
              "      <td>0.000000</td>\n",
              "      <td>0.000000</td>\n",
              "      <td>71.000000</td>\n",
              "      <td>0.000000</td>\n",
              "      <td>0.000000</td>\n",
              "      <td>1.000000</td>\n",
              "      <td>0.000000</td>\n",
              "      <td>3.000000</td>\n",
              "      <td>0.000000</td>\n",
              "    </tr>\n",
              "    <tr>\n",
              "      <th>25%</th>\n",
              "      <td>48.000000</td>\n",
              "      <td>0.000000</td>\n",
              "      <td>3.000000</td>\n",
              "      <td>120.000000</td>\n",
              "      <td>211.000000</td>\n",
              "      <td>0.000000</td>\n",
              "      <td>0.000000</td>\n",
              "      <td>133.500000</td>\n",
              "      <td>0.000000</td>\n",
              "      <td>0.000000</td>\n",
              "      <td>1.000000</td>\n",
              "      <td>0.000000</td>\n",
              "      <td>3.000000</td>\n",
              "      <td>0.000000</td>\n",
              "    </tr>\n",
              "    <tr>\n",
              "      <th>50%</th>\n",
              "      <td>56.000000</td>\n",
              "      <td>1.000000</td>\n",
              "      <td>3.000000</td>\n",
              "      <td>130.000000</td>\n",
              "      <td>241.000000</td>\n",
              "      <td>0.000000</td>\n",
              "      <td>1.000000</td>\n",
              "      <td>153.000000</td>\n",
              "      <td>0.000000</td>\n",
              "      <td>0.800000</td>\n",
              "      <td>2.000000</td>\n",
              "      <td>0.000000</td>\n",
              "      <td>3.000000</td>\n",
              "      <td>0.000000</td>\n",
              "    </tr>\n",
              "    <tr>\n",
              "      <th>75%</th>\n",
              "      <td>61.000000</td>\n",
              "      <td>1.000000</td>\n",
              "      <td>4.000000</td>\n",
              "      <td>140.000000</td>\n",
              "      <td>275.000000</td>\n",
              "      <td>0.000000</td>\n",
              "      <td>2.000000</td>\n",
              "      <td>166.000000</td>\n",
              "      <td>1.000000</td>\n",
              "      <td>1.600000</td>\n",
              "      <td>2.000000</td>\n",
              "      <td>1.000000</td>\n",
              "      <td>7.000000</td>\n",
              "      <td>1.000000</td>\n",
              "    </tr>\n",
              "    <tr>\n",
              "      <th>max</th>\n",
              "      <td>77.000000</td>\n",
              "      <td>1.000000</td>\n",
              "      <td>4.000000</td>\n",
              "      <td>200.000000</td>\n",
              "      <td>564.000000</td>\n",
              "      <td>1.000000</td>\n",
              "      <td>2.000000</td>\n",
              "      <td>202.000000</td>\n",
              "      <td>1.000000</td>\n",
              "      <td>6.200000</td>\n",
              "      <td>3.000000</td>\n",
              "      <td>3.000000</td>\n",
              "      <td>7.000000</td>\n",
              "      <td>1.000000</td>\n",
              "    </tr>\n",
              "  </tbody>\n",
              "</table>\n",
              "</div>"
            ],
            "text/plain": [
              "              age         sex          cp  ...          ca        thal      target\n",
              "count  303.000000  303.000000  303.000000  ...  299.000000  301.000000  303.000000\n",
              "mean    54.438944    0.679868    3.158416  ...    0.672241    4.734219    0.458746\n",
              "std      9.038662    0.467299    0.960126  ...    0.937438    1.939706    0.499120\n",
              "min     29.000000    0.000000    1.000000  ...    0.000000    3.000000    0.000000\n",
              "25%     48.000000    0.000000    3.000000  ...    0.000000    3.000000    0.000000\n",
              "50%     56.000000    1.000000    3.000000  ...    0.000000    3.000000    0.000000\n",
              "75%     61.000000    1.000000    4.000000  ...    1.000000    7.000000    1.000000\n",
              "max     77.000000    1.000000    4.000000  ...    3.000000    7.000000    1.000000\n",
              "\n",
              "[8 rows x 14 columns]"
            ]
          },
          "metadata": {
            "tags": []
          },
          "execution_count": 13
        }
      ]
    },
    {
      "cell_type": "markdown",
      "metadata": {
        "tags": [],
        "cell_id": "00016-b3888eab-4594-4fe6-89e8-98a736c28e38",
        "deepnote_cell_type": "markdown",
        "id": "PM2t_3w1F_rk"
      },
      "source": [
        "## ** Some EDAs and Visualisation**\n",
        "Before Training ML models"
      ]
    },
    {
      "cell_type": "code",
      "metadata": {
        "colab": {
          "base_uri": "https://localhost:8080/",
          "height": 296
        },
        "id": "h--Z9cpAFgqr",
        "cell_id": "00006-e1b29e5a-8ae5-41db-a88a-cf8b702ffebf",
        "deepnote_to_be_reexecuted": false,
        "source_hash": "25354b10",
        "execution_millis": 82,
        "execution_start": 1615412474245,
        "deepnote_cell_type": "code",
        "outputId": "fc0c6247-c538-463a-cf81-c1e502dd44ec"
      },
      "source": [
        "# Explore the data with plots\n",
        "\n",
        "# How many class are there in the target now after clean up.\n",
        "\n",
        "sns.countplot(x = 'target', data = hd_data)\n"
      ],
      "execution_count": 14,
      "outputs": [
        {
          "output_type": "execute_result",
          "data": {
            "text/plain": [
              "<matplotlib.axes._subplots.AxesSubplot at 0x7fa2b35a1810>"
            ]
          },
          "metadata": {
            "tags": []
          },
          "execution_count": 14
        },
        {
          "output_type": "display_data",
          "data": {
            "image/png": "[encoded data removed]",
            "text/plain": [
              "<Figure size 432x288 with 1 Axes>"
            ]
          },
          "metadata": {
            "tags": [],
            "needs_background": "light"
          }
        }
      ]
    },
    {
      "cell_type": "code",
      "metadata": {
        "colab": {
          "base_uri": "https://localhost:8080/"
        },
        "id": "ohr93Nl_F3C6",
        "cell_id": "00011-d454929f-6a4a-4d30-a18c-63bc296d8cb5",
        "deepnote_to_be_reexecuted": false,
        "source_hash": "9d351c72",
        "execution_millis": 47,
        "execution_start": 1615412474320,
        "deepnote_cell_type": "code",
        "outputId": "45b79c45-076b-4c2b-9fc5-c169150067ea"
      },
      "source": [
        "hd_data.target.value_counts()"
      ],
      "execution_count": 15,
      "outputs": [
        {
          "output_type": "execute_result",
          "data": {
            "text/plain": [
              "0    164\n",
              "1    139\n",
              "Name: target, dtype: int64"
            ]
          },
          "metadata": {
            "tags": []
          },
          "execution_count": 15
        }
      ]
    },
    {
      "cell_type": "markdown",
      "metadata": {
        "tags": [],
        "cell_id": "00022-bfd7e4d3-0271-4cb9-a5a0-6f442823766a",
        "deepnote_cell_type": "markdown",
        "id": "vBw3V3-bF_rl"
      },
      "source": [
        "#### Distribution plots and correlation using heat map."
      ]
    },
    {
      "cell_type": "code",
      "metadata": {
        "tags": [],
        "cell_id": "00023-ce2d0297-f520-4f3b-9bcc-7c0feadeb184",
        "deepnote_to_be_reexecuted": false,
        "source_hash": "8573bb4f",
        "execution_millis": 2101,
        "execution_start": 1615412474362,
        "deepnote_cell_type": "code",
        "colab": {
          "base_uri": "https://localhost:8080/",
          "height": 1000
        },
        "id": "0wJDb5xYF_rl",
        "outputId": "fdd97c31-4170-490b-8413-1711b08c9e5d"
      },
      "source": [
        "#sns.pairplot(hd_data, hue = 'target', vars = ['age', 'sex', 'cp', 'trestbps', 'thalach', 'exang', 'oldpeak', 'slope', 'ca', 'thal'])\n",
        "\n",
        "hd_data.hist( bins = 10, figsize =( 20,15))"
      ],
      "execution_count": 16,
      "outputs": [
        {
          "output_type": "execute_result",
          "data": {
            "text/plain": [
              "array([[<matplotlib.axes._subplots.AxesSubplot object at 0x7fa2b34f6150>,\n",
              "        <matplotlib.axes._subplots.AxesSubplot object at 0x7fa2b349d1d0>,\n",
              "        <matplotlib.axes._subplots.AxesSubplot object at 0x7fa2b3452850>,\n",
              "        <matplotlib.axes._subplots.AxesSubplot object at 0x7fa2b3406ed0>],\n",
              "       [<matplotlib.axes._subplots.AxesSubplot object at 0x7fa2b33cd250>,\n",
              "        <matplotlib.axes._subplots.AxesSubplot object at 0x7fa2b33837d0>,\n",
              "        <matplotlib.axes._subplots.AxesSubplot object at 0x7fa2b33b7d50>,\n",
              "        <matplotlib.axes._subplots.AxesSubplot object at 0x7fa2b3379310>],\n",
              "       [<matplotlib.axes._subplots.AxesSubplot object at 0x7fa2b3303810>,\n",
              "        <matplotlib.axes._subplots.AxesSubplot object at 0x7fa2b3339e10>,\n",
              "        <matplotlib.axes._subplots.AxesSubplot object at 0x7fa2b32a83d0>,\n",
              "        <matplotlib.axes._subplots.AxesSubplot object at 0x7fa2b325c950>],\n",
              "       [<matplotlib.axes._subplots.AxesSubplot object at 0x7fa2b3213ed0>,\n",
              "        <matplotlib.axes._subplots.AxesSubplot object at 0x7fa2b31d4490>,\n",
              "        <matplotlib.axes._subplots.AxesSubplot object at 0x7fa2b318aa10>,\n",
              "        <matplotlib.axes._subplots.AxesSubplot object at 0x7fa2b3141f90>]],\n",
              "      dtype=object)"
            ]
          },
          "metadata": {
            "tags": []
          },
          "execution_count": 16
        },
        {
          "output_type": "display_data",
          "data": {
            "image/png": "[encoded data removed]",
            "text/plain": [
              "<Figure size 1440x1080 with 16 Axes>"
            ]
          },
          "metadata": {
            "tags": [],
            "needs_background": "light"
          }
        }
      ]
    },
    {
      "cell_type": "code",
      "metadata": {
        "colab": {
          "base_uri": "https://localhost:8080/",
          "height": 595
        },
        "id": "oiSMVWnWHtjC",
        "cell_id": "00022-d2da4721-368a-4254-8c39-fc2cd45e542d",
        "deepnote_to_be_reexecuted": false,
        "source_hash": "fdd96018",
        "execution_millis": 2058,
        "execution_start": 1615403422323,
        "deepnote_cell_type": "code",
        "outputId": "52c4f7eb-d479-40eb-deca-29a6ce8868de"
      },
      "source": [
        "# Correlation matrix for the features\n",
        "\n",
        "# More information on the feature importance will be provided after model trainings.\n",
        "\n",
        "corrmat=hd_data.corr() \n",
        "top_corr_features=corrmat.index \n",
        "plt.figure(figsize=(15,10)) \n",
        "\n",
        "#plot heat map \n",
        "g=sns.heatmap(hd_data[top_corr_features].corr(),annot=True,cmap=\"RdYlGn\")"
      ],
      "execution_count": 17,
      "outputs": [
        {
          "output_type": "display_data",
          "data": {
            "image/png": "[encoded data removed]",
            "text/plain": [
              "<Figure size 1080x720 with 2 Axes>"
            ]
          },
          "metadata": {
            "tags": [],
            "needs_background": "light"
          }
        }
      ]
    },
    {
      "cell_type": "markdown",
      "metadata": {
        "tags": [],
        "cell_id": "00024-dd22816b-f29a-4cac-9339-5ae06705edcd",
        "deepnote_cell_type": "markdown",
        "id": "6Fnhmhr7F_rm"
      },
      "source": [
        "#### Visualise how some features relate to the 'target' in order to understand the data more.\n"
      ]
    },
    {
      "cell_type": "code",
      "metadata": {
        "tags": [],
        "cell_id": "00027-cca0123a-d2fe-4202-a3da-047d57b34994",
        "deepnote_to_be_reexecuted": false,
        "source_hash": "f5b380fa",
        "execution_millis": 13,
        "execution_start": 1615403424368,
        "deepnote_cell_type": "code",
        "colab": {
          "base_uri": "https://localhost:8080/"
        },
        "id": "IITomwPvF_rm",
        "outputId": "d9c36fdd-9b6c-4477-ead4-8c6104022a70"
      },
      "source": [
        "# Heart disease in relation to sex (male = 1, female = 0)\n",
        "\n",
        "hd_data.sex.value_counts()"
      ],
      "execution_count": 18,
      "outputs": [
        {
          "output_type": "execute_result",
          "data": {
            "text/plain": [
              "1.0    206\n",
              "0.0     97\n",
              "Name: sex, dtype: int64"
            ]
          },
          "metadata": {
            "tags": []
          },
          "execution_count": 18
        }
      ]
    },
    {
      "cell_type": "code",
      "metadata": {
        "tags": [],
        "cell_id": "00028-ba8439d7-2dc0-47c7-ac5d-f96c29b3c800",
        "deepnote_to_be_reexecuted": false,
        "source_hash": "164ca3ce",
        "execution_millis": 28,
        "execution_start": 1615403424373,
        "deepnote_cell_type": "code",
        "colab": {
          "base_uri": "https://localhost:8080/",
          "height": 142
        },
        "id": "v5o7INN1F_ro",
        "outputId": "aaf42d57-8e82-43c7-bea3-ea60d264add7"
      },
      "source": [
        "# Compare target column with sex column\n",
        "\n",
        "pd.crosstab(hd_data.target, hd_data.sex)"
      ],
      "execution_count": 19,
      "outputs": [
        {
          "output_type": "execute_result",
          "data": {
            "text/html": [
              "<div>\n",
              "<style scoped>\n",
              "    .dataframe tbody tr th:only-of-type {\n",
              "        vertical-align: middle;\n",
              "    }\n",
              "\n",
              "    .dataframe tbody tr th {\n",
              "        vertical-align: top;\n",
              "    }\n",
              "\n",
              "    .dataframe thead th {\n",
              "        text-align: right;\n",
              "    }\n",
              "</style>\n",
              "<table border=\"1\" class=\"dataframe\">\n",
              "  <thead>\n",
              "    <tr style=\"text-align: right;\">\n",
              "      <th>sex</th>\n",
              "      <th>0.0</th>\n",
              "      <th>1.0</th>\n",
              "    </tr>\n",
              "    <tr>\n",
              "      <th>target</th>\n",
              "      <th></th>\n",
              "      <th></th>\n",
              "    </tr>\n",
              "  </thead>\n",
              "  <tbody>\n",
              "    <tr>\n",
              "      <th>0</th>\n",
              "      <td>72</td>\n",
              "      <td>92</td>\n",
              "    </tr>\n",
              "    <tr>\n",
              "      <th>1</th>\n",
              "      <td>25</td>\n",
              "      <td>114</td>\n",
              "    </tr>\n",
              "  </tbody>\n",
              "</table>\n",
              "</div>"
            ],
            "text/plain": [
              "sex     0.0  1.0\n",
              "target          \n",
              "0        72   92\n",
              "1        25  114"
            ]
          },
          "metadata": {
            "tags": []
          },
          "execution_count": 19
        }
      ]
    },
    {
      "cell_type": "code",
      "metadata": {
        "tags": [],
        "cell_id": "00029-0955b433-e356-4ba0-b186-5e114ac3230c",
        "deepnote_to_be_reexecuted": false,
        "source_hash": "f1d4b6e6",
        "execution_millis": 167,
        "execution_start": 1615403424413,
        "deepnote_cell_type": "code",
        "colab": {
          "base_uri": "https://localhost:8080/",
          "height": 404
        },
        "id": "R7-jyqfNF_ro",
        "outputId": "04de7ec2-4467-4bdd-8330-d1ffc810f320"
      },
      "source": [
        "# Create a plot of crosstab\n",
        "\n",
        "pd.crosstab(hd_data.target, hd_data.sex).plot(kind=\"bar\",\n",
        "                                    figsize=(10, 6),\n",
        "                                    color=[\"pink\", \"lightblue\"])\n",
        "\n",
        "plt.title(\"Heart Disease counts for Sex\")\n",
        "plt.xlabel(\"0 = No Disease, 1 = Disease\")\n",
        "plt.ylabel(\"Amount\")\n",
        "plt.legend([\"Female\", \"Male\"]);\n",
        "plt.xticks(rotation=0);"
      ],
      "execution_count": 20,
      "outputs": [
        {
          "output_type": "display_data",
          "data": {
            "image/png": "[encoded data removed]",
            "text/plain": [
              "<Figure size 720x432 with 1 Axes>"
            ]
          },
          "metadata": {
            "tags": [],
            "needs_background": "light"
          }
        }
      ]
    },
    {
      "cell_type": "markdown",
      "metadata": {
        "tags": [],
        "cell_id": "00030-badd6e4c-ad80-4259-86f9-4fcee3e9df53",
        "deepnote_cell_type": "markdown",
        "id": "QXA5PYcnF_ro"
      },
      "source": [
        "**Heart Disease in relation Chest Pain Type** \n",
        "\n",
        "cp - chest pain type\n",
        "- 1: Typical angina: chest pain related decrease blood supply to the heart\n",
        "- 2: Atypical angina: chest pain not related to heart\n",
        "- 3: Non-anginal pain: typically esophageal spasms (non heart related)\n",
        "- 4: Asymptomatic: chest pain not showing signs of disease"
      ]
    },
    {
      "cell_type": "code",
      "metadata": {
        "colab": {
          "base_uri": "https://localhost:8080/",
          "height": 204
        },
        "id": "bsal5HsfbKRp",
        "cell_id": "00015-3de1a64e-9371-4935-87b0-3db98e4f50a7",
        "deepnote_to_be_reexecuted": false,
        "source_hash": "adb6a041",
        "execution_millis": 33,
        "execution_start": 1615403424583,
        "deepnote_cell_type": "code",
        "outputId": "4c6dfd45-8cfd-460f-e19a-059c012e8c4d"
      },
      "source": [
        "pd.crosstab(hd_data.cp, hd_data.target)"
      ],
      "execution_count": 21,
      "outputs": [
        {
          "output_type": "execute_result",
          "data": {
            "text/html": [
              "<div>\n",
              "<style scoped>\n",
              "    .dataframe tbody tr th:only-of-type {\n",
              "        vertical-align: middle;\n",
              "    }\n",
              "\n",
              "    .dataframe tbody tr th {\n",
              "        vertical-align: top;\n",
              "    }\n",
              "\n",
              "    .dataframe thead th {\n",
              "        text-align: right;\n",
              "    }\n",
              "</style>\n",
              "<table border=\"1\" class=\"dataframe\">\n",
              "  <thead>\n",
              "    <tr style=\"text-align: right;\">\n",
              "      <th>target</th>\n",
              "      <th>0</th>\n",
              "      <th>1</th>\n",
              "    </tr>\n",
              "    <tr>\n",
              "      <th>cp</th>\n",
              "      <th></th>\n",
              "      <th></th>\n",
              "    </tr>\n",
              "  </thead>\n",
              "  <tbody>\n",
              "    <tr>\n",
              "      <th>1.0</th>\n",
              "      <td>16</td>\n",
              "      <td>7</td>\n",
              "    </tr>\n",
              "    <tr>\n",
              "      <th>2.0</th>\n",
              "      <td>41</td>\n",
              "      <td>9</td>\n",
              "    </tr>\n",
              "    <tr>\n",
              "      <th>3.0</th>\n",
              "      <td>68</td>\n",
              "      <td>18</td>\n",
              "    </tr>\n",
              "    <tr>\n",
              "      <th>4.0</th>\n",
              "      <td>39</td>\n",
              "      <td>105</td>\n",
              "    </tr>\n",
              "  </tbody>\n",
              "</table>\n",
              "</div>"
            ],
            "text/plain": [
              "target   0    1\n",
              "cp             \n",
              "1.0     16    7\n",
              "2.0     41    9\n",
              "3.0     68   18\n",
              "4.0     39  105"
            ]
          },
          "metadata": {
            "tags": []
          },
          "execution_count": 21
        }
      ]
    },
    {
      "cell_type": "code",
      "metadata": {
        "tags": [],
        "cell_id": "00032-809c632f-bfd4-4edb-b994-260b99e37767",
        "deepnote_to_be_reexecuted": false,
        "source_hash": "fb57a261",
        "execution_millis": 196,
        "execution_start": 1615403424607,
        "deepnote_cell_type": "code",
        "colab": {
          "base_uri": "https://localhost:8080/",
          "height": 404
        },
        "id": "5JSImuf3F_rs",
        "outputId": "6e8b7e36-3fc5-4f0e-9c6c-3acf0958b9c0"
      },
      "source": [
        "# crosstab for more visual\n",
        "pd.crosstab(hd_data.cp, hd_data.target).plot(kind=\"bar\",\n",
        "                                   figsize=(10, 6),\n",
        "                                   color=[\"pink\", \"lightblue\"])\n",
        "\n",
        "# Add some communication\n",
        "plt.title(\"Heart Disease Counts Per Chest Pain Type\")\n",
        "plt.xlabel(\"Chest Pain Type\")\n",
        "plt.ylabel(\"Amount\")\n",
        "plt.legend([\"No Disease\", \"Disease\"])\n",
        "plt.xticks(rotation=0);"
      ],
      "execution_count": 22,
      "outputs": [
        {
          "output_type": "display_data",
          "data": {
            "image/png": "[encoded data removed]",
            "text/plain": [
              "<Figure size 720x432 with 1 Axes>"
            ]
          },
          "metadata": {
            "tags": [],
            "needs_background": "light"
          }
        }
      ]
    },
    {
      "cell_type": "markdown",
      "metadata": {
        "tags": [],
        "cell_id": "00033-24384f0d-e04f-40cb-9fa4-af0bfd06bbff",
        "deepnote_cell_type": "markdown",
        "id": "SPHInnxeF_rs"
      },
      "source": [
        "Chest Pain Type 4: "
      ]
    },
    {
      "cell_type": "code",
      "metadata": {
        "colab": {
          "base_uri": "https://localhost:8080/",
          "height": 399
        },
        "id": "qZ-IJA9RuJt_",
        "cell_id": "00020-51916ba6-1544-44e3-98e1-01ee33c3a584",
        "deepnote_to_be_reexecuted": false,
        "source_hash": "fa7376c3",
        "execution_millis": 472,
        "execution_start": 1615403424800,
        "deepnote_cell_type": "code",
        "outputId": "e0fb8bbe-9841-4ab8-847c-56fa5f7f987f"
      },
      "source": [
        "#plot age vs sex with respect to the target\n",
        "sns.catplot(kind = 'bar', data = hd_data, y = 'age', x = 'sex', hue = 'target')\n",
        "                                   \n",
        "plt.title('Age vs sex with the target class')\n",
        "plt.xlabel(\"Sex: 1 - Male, 0 - Female\")\n",
        "plt.ylabel(\"Age\")\n",
        "plt.xticks(rotation=0);\n",
        "plt.show()"
      ],
      "execution_count": 23,
      "outputs": [
        {
          "output_type": "display_data",
          "data": {
            "image/png": "[encoded data removed]",
            "text/plain": [
              "<Figure size 402.375x360 with 1 Axes>"
            ]
          },
          "metadata": {
            "tags": [],
            "needs_background": "light"
          }
        }
      ]
    },
    {
      "cell_type": "markdown",
      "metadata": {
        "id": "mrj7VHMwcWnk",
        "cell_id": "00023-1d6a55ca-9c29-4d41-aa00-9cfc384b909b",
        "deepnote_cell_type": "markdown"
      },
      "source": [
        "### **Split Data into Training and testing Set**"
      ]
    },
    {
      "cell_type": "code",
      "metadata": {
        "id": "9lDApOAZMk4J",
        "cell_id": "00024-dc35d6e5-b03a-4b4a-a407-909cc33565aa",
        "deepnote_to_be_reexecuted": false,
        "source_hash": "ded6492",
        "execution_millis": 2,
        "execution_start": 1615403425256,
        "deepnote_cell_type": "code"
      },
      "source": [
        "y = hd_data['target']\n",
        "X = hd_data.drop(['target'], axis=1)"
      ],
      "execution_count": 24,
      "outputs": []
    },
    {
      "cell_type": "code",
      "metadata": {
        "id": "aPBC_mh5cg7E",
        "cell_id": "00025-9efb1840-d4b8-413b-bc90-f8a7219c8cbb",
        "deepnote_to_be_reexecuted": false,
        "source_hash": "7702d453",
        "execution_millis": 4,
        "execution_start": 1615403425262,
        "deepnote_cell_type": "code"
      },
      "source": [
        "from sklearn.model_selection import train_test_split\n",
        "X_train, X_test, y_train, y_test = train_test_split(X, y, test_size = 0.20)"
      ],
      "execution_count": 25,
      "outputs": []
    },
    {
      "cell_type": "code",
      "metadata": {
        "colab": {
          "base_uri": "https://localhost:8080/"
        },
        "id": "jZVM8xrke_Hm",
        "cell_id": "00026-24788315-44d5-4bcf-85b3-52718c89e4e9",
        "deepnote_to_be_reexecuted": false,
        "source_hash": "db9da3bf",
        "execution_millis": 12,
        "execution_start": 1615403425274,
        "deepnote_cell_type": "code",
        "outputId": "42a16b7f-2ae1-439e-d0a7-d190eed0dde8"
      },
      "source": [
        "X_train.isnull().mean()"
      ],
      "execution_count": 26,
      "outputs": [
        {
          "output_type": "execute_result",
          "data": {
            "text/plain": [
              "age         0.000000\n",
              "sex         0.000000\n",
              "cp          0.000000\n",
              "trestbps    0.000000\n",
              "chol        0.000000\n",
              "fbs         0.000000\n",
              "restecg     0.000000\n",
              "thalach     0.000000\n",
              "exang       0.000000\n",
              "oldpeak     0.000000\n",
              "slope       0.000000\n",
              "ca          0.016529\n",
              "thal        0.004132\n",
              "dtype: float64"
            ]
          },
          "metadata": {
            "tags": []
          },
          "execution_count": 26
        }
      ]
    },
    {
      "cell_type": "markdown",
      "metadata": {
        "tags": [],
        "cell_id": "00039-655902bb-794d-4e16-9a42-cc22a7c44cd8",
        "deepnote_cell_type": "markdown",
        "id": "ddJ-zHyhF_ru"
      },
      "source": [
        "##### **Deal with missing data**"
      ]
    },
    {
      "cell_type": "code",
      "metadata": {
        "id": "o0X9g0FViQ15",
        "cell_id": "00027-9e403c90-11fe-4999-9606-d4fbb1edf503",
        "deepnote_to_be_reexecuted": false,
        "source_hash": "c6faff90",
        "execution_millis": 10,
        "execution_start": 1615403425279,
        "deepnote_cell_type": "code"
      },
      "source": [
        "#Deal with missing data using Scikit-learn objects\n",
        "#use most frequent category\n",
        "\n",
        "from sklearn.impute import SimpleImputer\n",
        "from sklearn.compose import ColumnTransformer\n",
        "from sklearn.pipeline import Pipeline"
      ],
      "execution_count": 28,
      "outputs": []
    },
    {
      "cell_type": "code",
      "metadata": {
        "colab": {
          "base_uri": "https://localhost:8080/"
        },
        "id": "pbCkFGU1iiyo",
        "cell_id": "00028-89f6a49f-1156-42a2-a40a-b61eea7c6e81",
        "deepnote_to_be_reexecuted": false,
        "source_hash": "eb0d3f7e",
        "execution_millis": 23,
        "execution_start": 1615403425293,
        "deepnote_cell_type": "code",
        "outputId": "98bba10f-df15-4eb0-8405-82e81ce9d09e"
      },
      "source": [
        "# Now we impute the missing values with SimpleImputer\n",
        "# cols = ['ca', 'thal']\n",
        "# create an instance of the simple imputer\n",
        "# we indicate that we want to impute with the \n",
        "# most frequent category\n",
        "\n",
        "imputer = SimpleImputer(strategy='most_frequent')\n",
        "\n",
        "# fit the imputer to the train set\n",
        "\n",
        "imputer.fit(X_train)"
      ],
      "execution_count": 29,
      "outputs": [
        {
          "output_type": "execute_result",
          "data": {
            "text/plain": [
              "SimpleImputer(add_indicator=False, copy=True, fill_value=None,\n",
              "              missing_values=nan, strategy='most_frequent', verbose=0)"
            ]
          },
          "metadata": {
            "tags": []
          },
          "execution_count": 29
        }
      ]
    },
    {
      "cell_type": "code",
      "metadata": {
        "colab": {
          "base_uri": "https://localhost:8080/"
        },
        "id": "TAHVVOpHjq_U",
        "cell_id": "00029-40495ac7-abb4-47da-a0f1-540486fe20a1",
        "deepnote_to_be_reexecuted": false,
        "source_hash": "b21b8596",
        "execution_millis": 14,
        "execution_start": 1615403425305,
        "deepnote_cell_type": "code",
        "outputId": "9c281520-cbbc-481b-9942-a16b86df50ad"
      },
      "source": [
        "#Quick look at the learnt frequent values like this:\n",
        "imputer.statistics_"
      ],
      "execution_count": 30,
      "outputs": [
        {
          "output_type": "execute_result",
          "data": {
            "text/plain": [
              "array([ 57.,   1.,   4., 120., 197.,   0.,   0., 163.,   0.,   0.,   2.,\n",
              "         0.,   3.])"
            ]
          },
          "metadata": {
            "tags": []
          },
          "execution_count": 30
        }
      ]
    },
    {
      "cell_type": "code",
      "metadata": {
        "colab": {
          "base_uri": "https://localhost:8080/"
        },
        "id": "duf5l4fBkoh-",
        "cell_id": "00030-44b0463c-2c8d-4063-9d0a-9d85fbd866c3",
        "deepnote_to_be_reexecuted": false,
        "source_hash": "1564e9a6",
        "execution_millis": 7,
        "execution_start": 1615403425353,
        "deepnote_cell_type": "code",
        "outputId": "d7787058-80a3-4337-f653-f134b3d6ae28"
      },
      "source": [
        "# and now we impute the train and test set\n",
        "\n",
        "#data is returned as a numpy array!!!\n",
        "X_train = imputer.transform(X_train)\n",
        "X_test = imputer.transform(X_test)\n",
        "\n",
        "X_train"
      ],
      "execution_count": 31,
      "outputs": [
        {
          "output_type": "execute_result",
          "data": {
            "text/plain": [
              "array([[35.,  0.,  4., ...,  1.,  0.,  3.],\n",
              "       [47.,  1.,  3., ...,  1.,  0.,  3.],\n",
              "       [56.,  1.,  4., ...,  3.,  0.,  7.],\n",
              "       ...,\n",
              "       [44.,  1.,  4., ...,  1.,  1.,  3.],\n",
              "       [40.,  1.,  1., ...,  1.,  0.,  7.],\n",
              "       [71.,  0.,  2., ...,  1.,  2.,  3.]])"
            ]
          },
          "metadata": {
            "tags": []
          },
          "execution_count": 31
        }
      ]
    },
    {
      "cell_type": "code",
      "metadata": {
        "colab": {
          "base_uri": "https://localhost:8080/",
          "height": 204
        },
        "id": "HX5O64BJlSxZ",
        "cell_id": "00031-148b1a6e-dce6-4bfd-8df4-f1a89bb1572a",
        "deepnote_to_be_reexecuted": false,
        "source_hash": "1e19c29f",
        "execution_millis": 34,
        "execution_start": 1615403425354,
        "deepnote_cell_type": "code",
        "outputId": "2aafbd87-579a-46a8-8550-e533712240b9"
      },
      "source": [
        "# encode the train set back to a dataframe:\n",
        "\n",
        "col_names.remove('target')\n",
        "\n",
        "pd.DataFrame(X_train, columns=col_names).head()"
      ],
      "execution_count": 32,
      "outputs": [
        {
          "output_type": "execute_result",
          "data": {
            "text/html": [
              "<div>\n",
              "<style scoped>\n",
              "    .dataframe tbody tr th:only-of-type {\n",
              "        vertical-align: middle;\n",
              "    }\n",
              "\n",
              "    .dataframe tbody tr th {\n",
              "        vertical-align: top;\n",
              "    }\n",
              "\n",
              "    .dataframe thead th {\n",
              "        text-align: right;\n",
              "    }\n",
              "</style>\n",
              "<table border=\"1\" class=\"dataframe\">\n",
              "  <thead>\n",
              "    <tr style=\"text-align: right;\">\n",
              "      <th></th>\n",
              "      <th>age</th>\n",
              "      <th>sex</th>\n",
              "      <th>cp</th>\n",
              "      <th>trestbps</th>\n",
              "      <th>chol</th>\n",
              "      <th>fbs</th>\n",
              "      <th>restecg</th>\n",
              "      <th>thalach</th>\n",
              "      <th>exang</th>\n",
              "      <th>oldpeak</th>\n",
              "      <th>slope</th>\n",
              "      <th>ca</th>\n",
              "      <th>thal</th>\n",
              "    </tr>\n",
              "  </thead>\n",
              "  <tbody>\n",
              "    <tr>\n",
              "      <th>0</th>\n",
              "      <td>35.0</td>\n",
              "      <td>0.0</td>\n",
              "      <td>4.0</td>\n",
              "      <td>138.0</td>\n",
              "      <td>183.0</td>\n",
              "      <td>0.0</td>\n",
              "      <td>0.0</td>\n",
              "      <td>182.0</td>\n",
              "      <td>0.0</td>\n",
              "      <td>1.4</td>\n",
              "      <td>1.0</td>\n",
              "      <td>0.0</td>\n",
              "      <td>3.0</td>\n",
              "    </tr>\n",
              "    <tr>\n",
              "      <th>1</th>\n",
              "      <td>47.0</td>\n",
              "      <td>1.0</td>\n",
              "      <td>3.0</td>\n",
              "      <td>130.0</td>\n",
              "      <td>253.0</td>\n",
              "      <td>0.0</td>\n",
              "      <td>0.0</td>\n",
              "      <td>179.0</td>\n",
              "      <td>0.0</td>\n",
              "      <td>0.0</td>\n",
              "      <td>1.0</td>\n",
              "      <td>0.0</td>\n",
              "      <td>3.0</td>\n",
              "    </tr>\n",
              "    <tr>\n",
              "      <th>2</th>\n",
              "      <td>56.0</td>\n",
              "      <td>1.0</td>\n",
              "      <td>4.0</td>\n",
              "      <td>130.0</td>\n",
              "      <td>283.0</td>\n",
              "      <td>1.0</td>\n",
              "      <td>2.0</td>\n",
              "      <td>103.0</td>\n",
              "      <td>1.0</td>\n",
              "      <td>1.6</td>\n",
              "      <td>3.0</td>\n",
              "      <td>0.0</td>\n",
              "      <td>7.0</td>\n",
              "    </tr>\n",
              "    <tr>\n",
              "      <th>3</th>\n",
              "      <td>45.0</td>\n",
              "      <td>1.0</td>\n",
              "      <td>4.0</td>\n",
              "      <td>115.0</td>\n",
              "      <td>260.0</td>\n",
              "      <td>0.0</td>\n",
              "      <td>2.0</td>\n",
              "      <td>185.0</td>\n",
              "      <td>0.0</td>\n",
              "      <td>0.0</td>\n",
              "      <td>1.0</td>\n",
              "      <td>0.0</td>\n",
              "      <td>3.0</td>\n",
              "    </tr>\n",
              "    <tr>\n",
              "      <th>4</th>\n",
              "      <td>63.0</td>\n",
              "      <td>0.0</td>\n",
              "      <td>2.0</td>\n",
              "      <td>140.0</td>\n",
              "      <td>195.0</td>\n",
              "      <td>0.0</td>\n",
              "      <td>0.0</td>\n",
              "      <td>179.0</td>\n",
              "      <td>0.0</td>\n",
              "      <td>0.0</td>\n",
              "      <td>1.0</td>\n",
              "      <td>2.0</td>\n",
              "      <td>3.0</td>\n",
              "    </tr>\n",
              "  </tbody>\n",
              "</table>\n",
              "</div>"
            ],
            "text/plain": [
              "    age  sex   cp  trestbps   chol  ...  exang  oldpeak  slope   ca  thal\n",
              "0  35.0  0.0  4.0     138.0  183.0  ...    0.0      1.4    1.0  0.0   3.0\n",
              "1  47.0  1.0  3.0     130.0  253.0  ...    0.0      0.0    1.0  0.0   3.0\n",
              "2  56.0  1.0  4.0     130.0  283.0  ...    1.0      1.6    3.0  0.0   7.0\n",
              "3  45.0  1.0  4.0     115.0  260.0  ...    0.0      0.0    1.0  0.0   3.0\n",
              "4  63.0  0.0  2.0     140.0  195.0  ...    0.0      0.0    1.0  2.0   3.0\n",
              "\n",
              "[5 rows x 13 columns]"
            ]
          },
          "metadata": {
            "tags": []
          },
          "execution_count": 32
        }
      ]
    },
    {
      "cell_type": "code",
      "metadata": {
        "colab": {
          "base_uri": "https://localhost:8080/"
        },
        "id": "uVF_w8FpOwQw",
        "cell_id": "00032-80c78726-8e82-45c1-8792-bd2c8be99ad5",
        "deepnote_to_be_reexecuted": false,
        "source_hash": "8bc4ef62",
        "execution_millis": 22,
        "execution_start": 1615403425366,
        "deepnote_cell_type": "code",
        "outputId": "15cd8d9e-df42-4f18-9942-3d2553914571"
      },
      "source": [
        "X_train\n"
      ],
      "execution_count": 33,
      "outputs": [
        {
          "output_type": "execute_result",
          "data": {
            "text/plain": [
              "array([[35.,  0.,  4., ...,  1.,  0.,  3.],\n",
              "       [47.,  1.,  3., ...,  1.,  0.,  3.],\n",
              "       [56.,  1.,  4., ...,  3.,  0.,  7.],\n",
              "       ...,\n",
              "       [44.,  1.,  4., ...,  1.,  1.,  3.],\n",
              "       [40.,  1.,  1., ...,  1.,  0.,  7.],\n",
              "       [71.,  0.,  2., ...,  1.,  2.,  3.]])"
            ]
          },
          "metadata": {
            "tags": []
          },
          "execution_count": 33
        }
      ]
    },
    {
      "cell_type": "markdown",
      "metadata": {
        "tags": [],
        "cell_id": "00046-7d6ce4c1-dfda-43c1-8edb-b6ee1b5f8c2b",
        "deepnote_cell_type": "markdown",
        "id": "tggcGwsjF_rw"
      },
      "source": [
        "### **Build, Train and Test Models**\n",
        "\n",
        "- **Model01** = Random Forest Classifier \n",
        "- **Model02** = Logistic Regression\n",
        "\n",
        "*ANN -  Deep learning is a good option but the data set is too small for a reasonable deep learning model"
      ]
    },
    {
      "cell_type": "markdown",
      "metadata": {
        "id": "EZEpOc8uqEkK",
        "cell_id": "00038-79badc92-10d8-4b00-8609-3d49c447d249",
        "deepnote_cell_type": "markdown"
      },
      "source": [
        "#### **RandomForest Classifier Model**"
      ]
    },
    {
      "cell_type": "code",
      "metadata": {
        "colab": {
          "base_uri": "https://localhost:8080/"
        },
        "id": "ClzZ3YB8oyeP",
        "cell_id": "00037-2012787d-6cb9-4855-ab72-8f822ff72130",
        "deepnote_to_be_reexecuted": false,
        "source_hash": "2073a231",
        "execution_millis": 15,
        "execution_start": 1615403425373,
        "deepnote_cell_type": "code",
        "outputId": "5625e318-f392-41fd-efc0-3496bb5c3b23"
      },
      "source": [
        "X_train.shape, X_test.shape, y_train.shape, y_test.shape"
      ],
      "execution_count": 34,
      "outputs": [
        {
          "output_type": "execute_result",
          "data": {
            "text/plain": [
              "((242, 13), (61, 13), (242,), (61,))"
            ]
          },
          "metadata": {
            "tags": []
          },
          "execution_count": 34
        }
      ]
    },
    {
      "cell_type": "code",
      "metadata": {
        "colab": {
          "base_uri": "https://localhost:8080/"
        },
        "id": "OIsfZCKrsrFX",
        "cell_id": "00040-790ef76d-eadb-4126-8bc0-5ad118941a4e",
        "deepnote_to_be_reexecuted": false,
        "source_hash": "b89fa225",
        "execution_millis": 13,
        "execution_start": 1615403425378,
        "deepnote_cell_type": "code",
        "outputId": "bfe8a47c-0453-417d-c97c-0ee6747c7b1a"
      },
      "source": [
        "n_estimators = [int(x) for x in np.linspace(start = 10, stop = 1200, num = 20)]\n",
        "print(n_estimators)"
      ],
      "execution_count": 35,
      "outputs": [
        {
          "output_type": "stream",
          "text": [
            "[10, 72, 135, 197, 260, 323, 385, 448, 511, 573, 636, 698, 761, 824, 886, 949, 1012, 1074, 1137, 1200]\n"
          ],
          "name": "stdout"
        }
      ]
    },
    {
      "cell_type": "code",
      "metadata": {
        "id": "64YMa8hatcw-",
        "cell_id": "00041-78711081-9a07-4cba-b76d-b3376a98e3be",
        "deepnote_to_be_reexecuted": false,
        "source_hash": "fc448fe0",
        "execution_millis": 1,
        "execution_start": 1615403425396,
        "deepnote_cell_type": "code"
      },
      "source": [
        "##Hyperparameters\n",
        "\n",
        "# Number of trees in random forest\n",
        "n_estimators = [int(x) for x in np.linspace(start = 10, stop = 1200, num = 20)]\n",
        "# Number of features to consider at every split\n",
        "max_features = ['auto', 'sqrt']\n",
        "# Maximum number of levels in tree\n",
        "max_depth = [int(x) for x in np.linspace(3, 20, num = 4)]\n",
        "max_depth.append(None)\n",
        "# Minimum number of samples required to split a node\n",
        "min_samples_split = np.arange(2, 20, 2)\n",
        "# Minimum number of samples required at each leaf node\n",
        "min_samples_leaf = np.arange(1, 20, 2)"
      ],
      "execution_count": 36,
      "outputs": []
    },
    {
      "cell_type": "code",
      "metadata": {
        "colab": {
          "base_uri": "https://localhost:8080/"
        },
        "id": "nTk0oVHPuCz9",
        "cell_id": "00042-2c958f80-9eec-42eb-96f6-abd19d053ab8",
        "deepnote_to_be_reexecuted": false,
        "source_hash": "deefb157",
        "execution_millis": 15,
        "execution_start": 1615403425397,
        "deepnote_cell_type": "code",
        "outputId": "0126e674-0027-4146-ef34-0eccc8fce55a"
      },
      "source": [
        "random_grid = {'n_estimators': n_estimators,\n",
        "               'max_features': max_features,\n",
        "               'max_depth': max_depth,\n",
        "               'min_samples_split': min_samples_split,\n",
        "               'min_samples_leaf': min_samples_leaf}\n",
        "\n",
        "\n",
        "print(random_grid)"
      ],
      "execution_count": 37,
      "outputs": [
        {
          "output_type": "stream",
          "text": [
            "{'n_estimators': [10, 72, 135, 197, 260, 323, 385, 448, 511, 573, 636, 698, 761, 824, 886, 949, 1012, 1074, 1137, 1200], 'max_features': ['auto', 'sqrt'], 'max_depth': [3, 8, 14, 20, None], 'min_samples_split': array([ 2,  4,  6,  8, 10, 12, 14, 16, 18]), 'min_samples_leaf': array([ 1,  3,  5,  7,  9, 11, 13, 15, 17, 19])}\n"
          ],
          "name": "stdout"
        }
      ]
    },
    {
      "cell_type": "code",
      "metadata": {
        "id": "dM8WQKzwuWtb",
        "cell_id": "00043-01bbe956-284d-43d0-8398-cf92d85b701f",
        "deepnote_to_be_reexecuted": false,
        "source_hash": "8f679a9",
        "execution_millis": 0,
        "execution_start": 1615403425399,
        "deepnote_cell_type": "code"
      },
      "source": [
        "# Use the random grid to search for best hyperparameters\n",
        "# First create the base model to tune\n",
        "rf_model = RandomForestClassifier()"
      ],
      "execution_count": 38,
      "outputs": []
    },
    {
      "cell_type": "code",
      "metadata": {
        "id": "TGCBdFC0u8CI",
        "cell_id": "00044-70ce7497-1742-4fbb-9aa3-fdaf3055f67c",
        "deepnote_to_be_reexecuted": false,
        "source_hash": "98a8c5bc",
        "execution_millis": 0,
        "execution_start": 1615403425403,
        "deepnote_cell_type": "code"
      },
      "source": [
        "# Random search of parameters, using 5 fold cross validation, \n",
        "# search across 100 different combinations\n",
        "rf_random = RandomizedSearchCV(estimator = rf_model, param_distributions= random_grid, n_iter=20,\n",
        "                         cv = 5, verbose=2, n_jobs = 1)"
      ],
      "execution_count": 39,
      "outputs": []
    },
    {
      "cell_type": "code",
      "metadata": {
        "colab": {
          "base_uri": "https://localhost:8080/"
        },
        "id": "mg7-iId3xEoj",
        "cell_id": "00045-1973ed06-f84a-4e94-867d-c1f7b7c4a685",
        "deepnote_to_be_reexecuted": false,
        "source_hash": "de18a413",
        "execution_millis": 83430,
        "execution_start": 1615403425408,
        "deepnote_cell_type": "code",
        "outputId": "7b94029b-5b02-4a7e-98af-ad13dbe1edd1"
      },
      "source": [
        "rf_random.fit(X_train, y_train)"
      ],
      "execution_count": 40,
      "outputs": [
        {
          "output_type": "stream",
          "text": [
            "Fitting 5 folds for each of 20 candidates, totalling 100 fits\n",
            "[CV] n_estimators=197, min_samples_split=10, min_samples_leaf=13, max_features=auto, max_depth=None \n"
          ],
          "name": "stdout"
        },
        {
          "output_type": "stream",
          "text": [
            "[Parallel(n_jobs=1)]: Using backend SequentialBackend with 1 concurrent workers.\n"
          ],
          "name": "stderr"
        },
        {
          "output_type": "stream",
          "text": [
            "[CV]  n_estimators=197, min_samples_split=10, min_samples_leaf=13, max_features=auto, max_depth=None, total=   0.3s\n",
            "[CV] n_estimators=197, min_samples_split=10, min_samples_leaf=13, max_features=auto, max_depth=None \n"
          ],
          "name": "stdout"
        },
        {
          "output_type": "stream",
          "text": [
            "[Parallel(n_jobs=1)]: Done   1 out of   1 | elapsed:    0.3s remaining:    0.0s\n"
          ],
          "name": "stderr"
        },
        {
          "output_type": "stream",
          "text": [
            "[CV]  n_estimators=197, min_samples_split=10, min_samples_leaf=13, max_features=auto, max_depth=None, total=   0.3s\n",
            "[CV] n_estimators=197, min_samples_split=10, min_samples_leaf=13, max_features=auto, max_depth=None \n",
            "[CV]  n_estimators=197, min_samples_split=10, min_samples_leaf=13, max_features=auto, max_depth=None, total=   0.3s\n",
            "[CV] n_estimators=197, min_samples_split=10, min_samples_leaf=13, max_features=auto, max_depth=None \n",
            "[CV]  n_estimators=197, min_samples_split=10, min_samples_leaf=13, max_features=auto, max_depth=None, total=   0.3s\n",
            "[CV] n_estimators=197, min_samples_split=10, min_samples_leaf=13, max_features=auto, max_depth=None \n",
            "[CV]  n_estimators=197, min_samples_split=10, min_samples_leaf=13, max_features=auto, max_depth=None, total=   0.3s\n",
            "[CV] n_estimators=10, min_samples_split=14, min_samples_leaf=15, max_features=auto, max_depth=20 \n",
            "[CV]  n_estimators=10, min_samples_split=14, min_samples_leaf=15, max_features=auto, max_depth=20, total=   0.0s\n",
            "[CV] n_estimators=10, min_samples_split=14, min_samples_leaf=15, max_features=auto, max_depth=20 \n",
            "[CV]  n_estimators=10, min_samples_split=14, min_samples_leaf=15, max_features=auto, max_depth=20, total=   0.0s\n",
            "[CV] n_estimators=10, min_samples_split=14, min_samples_leaf=15, max_features=auto, max_depth=20 \n",
            "[CV]  n_estimators=10, min_samples_split=14, min_samples_leaf=15, max_features=auto, max_depth=20, total=   0.0s\n",
            "[CV] n_estimators=10, min_samples_split=14, min_samples_leaf=15, max_features=auto, max_depth=20 \n",
            "[CV]  n_estimators=10, min_samples_split=14, min_samples_leaf=15, max_features=auto, max_depth=20, total=   0.0s\n",
            "[CV] n_estimators=10, min_samples_split=14, min_samples_leaf=15, max_features=auto, max_depth=20 \n",
            "[CV]  n_estimators=10, min_samples_split=14, min_samples_leaf=15, max_features=auto, max_depth=20, total=   0.0s\n",
            "[CV] n_estimators=135, min_samples_split=2, min_samples_leaf=11, max_features=auto, max_depth=20 \n",
            "[CV]  n_estimators=135, min_samples_split=2, min_samples_leaf=11, max_features=auto, max_depth=20, total=   0.2s\n",
            "[CV] n_estimators=135, min_samples_split=2, min_samples_leaf=11, max_features=auto, max_depth=20 \n",
            "[CV]  n_estimators=135, min_samples_split=2, min_samples_leaf=11, max_features=auto, max_depth=20, total=   0.2s\n",
            "[CV] n_estimators=135, min_samples_split=2, min_samples_leaf=11, max_features=auto, max_depth=20 \n",
            "[CV]  n_estimators=135, min_samples_split=2, min_samples_leaf=11, max_features=auto, max_depth=20, total=   0.2s\n",
            "[CV] n_estimators=135, min_samples_split=2, min_samples_leaf=11, max_features=auto, max_depth=20 \n",
            "[CV]  n_estimators=135, min_samples_split=2, min_samples_leaf=11, max_features=auto, max_depth=20, total=   0.2s\n",
            "[CV] n_estimators=135, min_samples_split=2, min_samples_leaf=11, max_features=auto, max_depth=20 \n",
            "[CV]  n_estimators=135, min_samples_split=2, min_samples_leaf=11, max_features=auto, max_depth=20, total=   0.2s\n",
            "[CV] n_estimators=573, min_samples_split=18, min_samples_leaf=11, max_features=sqrt, max_depth=3 \n",
            "[CV]  n_estimators=573, min_samples_split=18, min_samples_leaf=11, max_features=sqrt, max_depth=3, total=   0.9s\n",
            "[CV] n_estimators=573, min_samples_split=18, min_samples_leaf=11, max_features=sqrt, max_depth=3 \n",
            "[CV]  n_estimators=573, min_samples_split=18, min_samples_leaf=11, max_features=sqrt, max_depth=3, total=   0.9s\n",
            "[CV] n_estimators=573, min_samples_split=18, min_samples_leaf=11, max_features=sqrt, max_depth=3 \n",
            "[CV]  n_estimators=573, min_samples_split=18, min_samples_leaf=11, max_features=sqrt, max_depth=3, total=   0.9s\n",
            "[CV] n_estimators=573, min_samples_split=18, min_samples_leaf=11, max_features=sqrt, max_depth=3 \n",
            "[CV]  n_estimators=573, min_samples_split=18, min_samples_leaf=11, max_features=sqrt, max_depth=3, total=   0.9s\n",
            "[CV] n_estimators=573, min_samples_split=18, min_samples_leaf=11, max_features=sqrt, max_depth=3 \n",
            "[CV]  n_estimators=573, min_samples_split=18, min_samples_leaf=11, max_features=sqrt, max_depth=3, total=   0.9s\n",
            "[CV] n_estimators=886, min_samples_split=16, min_samples_leaf=19, max_features=sqrt, max_depth=3 \n",
            "[CV]  n_estimators=886, min_samples_split=16, min_samples_leaf=19, max_features=sqrt, max_depth=3, total=   1.4s\n",
            "[CV] n_estimators=886, min_samples_split=16, min_samples_leaf=19, max_features=sqrt, max_depth=3 \n",
            "[CV]  n_estimators=886, min_samples_split=16, min_samples_leaf=19, max_features=sqrt, max_depth=3, total=   1.4s\n",
            "[CV] n_estimators=886, min_samples_split=16, min_samples_leaf=19, max_features=sqrt, max_depth=3 \n",
            "[CV]  n_estimators=886, min_samples_split=16, min_samples_leaf=19, max_features=sqrt, max_depth=3, total=   1.3s\n",
            "[CV] n_estimators=886, min_samples_split=16, min_samples_leaf=19, max_features=sqrt, max_depth=3 \n",
            "[CV]  n_estimators=886, min_samples_split=16, min_samples_leaf=19, max_features=sqrt, max_depth=3, total=   1.3s\n",
            "[CV] n_estimators=886, min_samples_split=16, min_samples_leaf=19, max_features=sqrt, max_depth=3 \n",
            "[CV]  n_estimators=886, min_samples_split=16, min_samples_leaf=19, max_features=sqrt, max_depth=3, total=   1.3s\n",
            "[CV] n_estimators=698, min_samples_split=6, min_samples_leaf=1, max_features=sqrt, max_depth=8 \n",
            "[CV]  n_estimators=698, min_samples_split=6, min_samples_leaf=1, max_features=sqrt, max_depth=8, total=   1.1s\n",
            "[CV] n_estimators=698, min_samples_split=6, min_samples_leaf=1, max_features=sqrt, max_depth=8 \n",
            "[CV]  n_estimators=698, min_samples_split=6, min_samples_leaf=1, max_features=sqrt, max_depth=8, total=   1.1s\n",
            "[CV] n_estimators=698, min_samples_split=6, min_samples_leaf=1, max_features=sqrt, max_depth=8 \n",
            "[CV]  n_estimators=698, min_samples_split=6, min_samples_leaf=1, max_features=sqrt, max_depth=8, total=   1.1s\n",
            "[CV] n_estimators=698, min_samples_split=6, min_samples_leaf=1, max_features=sqrt, max_depth=8 \n",
            "[CV]  n_estimators=698, min_samples_split=6, min_samples_leaf=1, max_features=sqrt, max_depth=8, total=   1.1s\n",
            "[CV] n_estimators=698, min_samples_split=6, min_samples_leaf=1, max_features=sqrt, max_depth=8 \n",
            "[CV]  n_estimators=698, min_samples_split=6, min_samples_leaf=1, max_features=sqrt, max_depth=8, total=   1.2s\n",
            "[CV] n_estimators=636, min_samples_split=16, min_samples_leaf=11, max_features=auto, max_depth=8 \n",
            "[CV]  n_estimators=636, min_samples_split=16, min_samples_leaf=11, max_features=auto, max_depth=8, total=   1.0s\n",
            "[CV] n_estimators=636, min_samples_split=16, min_samples_leaf=11, max_features=auto, max_depth=8 \n",
            "[CV]  n_estimators=636, min_samples_split=16, min_samples_leaf=11, max_features=auto, max_depth=8, total=   0.9s\n",
            "[CV] n_estimators=636, min_samples_split=16, min_samples_leaf=11, max_features=auto, max_depth=8 \n",
            "[CV]  n_estimators=636, min_samples_split=16, min_samples_leaf=11, max_features=auto, max_depth=8, total=   1.0s\n",
            "[CV] n_estimators=636, min_samples_split=16, min_samples_leaf=11, max_features=auto, max_depth=8 \n",
            "[CV]  n_estimators=636, min_samples_split=16, min_samples_leaf=11, max_features=auto, max_depth=8, total=   1.0s\n",
            "[CV] n_estimators=636, min_samples_split=16, min_samples_leaf=11, max_features=auto, max_depth=8 \n",
            "[CV]  n_estimators=636, min_samples_split=16, min_samples_leaf=11, max_features=auto, max_depth=8, total=   0.9s\n",
            "[CV] n_estimators=10, min_samples_split=6, min_samples_leaf=7, max_features=sqrt, max_depth=None \n",
            "[CV]  n_estimators=10, min_samples_split=6, min_samples_leaf=7, max_features=sqrt, max_depth=None, total=   0.0s\n",
            "[CV] n_estimators=10, min_samples_split=6, min_samples_leaf=7, max_features=sqrt, max_depth=None \n",
            "[CV]  n_estimators=10, min_samples_split=6, min_samples_leaf=7, max_features=sqrt, max_depth=None, total=   0.0s\n",
            "[CV] n_estimators=10, min_samples_split=6, min_samples_leaf=7, max_features=sqrt, max_depth=None \n",
            "[CV]  n_estimators=10, min_samples_split=6, min_samples_leaf=7, max_features=sqrt, max_depth=None, total=   0.0s\n",
            "[CV] n_estimators=10, min_samples_split=6, min_samples_leaf=7, max_features=sqrt, max_depth=None \n",
            "[CV]  n_estimators=10, min_samples_split=6, min_samples_leaf=7, max_features=sqrt, max_depth=None, total=   0.0s\n",
            "[CV] n_estimators=10, min_samples_split=6, min_samples_leaf=7, max_features=sqrt, max_depth=None \n",
            "[CV]  n_estimators=10, min_samples_split=6, min_samples_leaf=7, max_features=sqrt, max_depth=None, total=   0.0s\n",
            "[CV] n_estimators=385, min_samples_split=2, min_samples_leaf=9, max_features=auto, max_depth=8 \n",
            "[CV]  n_estimators=385, min_samples_split=2, min_samples_leaf=9, max_features=auto, max_depth=8, total=   0.6s\n",
            "[CV] n_estimators=385, min_samples_split=2, min_samples_leaf=9, max_features=auto, max_depth=8 \n",
            "[CV]  n_estimators=385, min_samples_split=2, min_samples_leaf=9, max_features=auto, max_depth=8, total=   0.6s\n",
            "[CV] n_estimators=385, min_samples_split=2, min_samples_leaf=9, max_features=auto, max_depth=8 \n",
            "[CV]  n_estimators=385, min_samples_split=2, min_samples_leaf=9, max_features=auto, max_depth=8, total=   0.7s\n",
            "[CV] n_estimators=385, min_samples_split=2, min_samples_leaf=9, max_features=auto, max_depth=8 \n",
            "[CV]  n_estimators=385, min_samples_split=2, min_samples_leaf=9, max_features=auto, max_depth=8, total=   0.7s\n",
            "[CV] n_estimators=385, min_samples_split=2, min_samples_leaf=9, max_features=auto, max_depth=8 \n",
            "[CV]  n_estimators=385, min_samples_split=2, min_samples_leaf=9, max_features=auto, max_depth=8, total=   0.6s\n",
            "[CV] n_estimators=824, min_samples_split=14, min_samples_leaf=13, max_features=sqrt, max_depth=3 \n",
            "[CV]  n_estimators=824, min_samples_split=14, min_samples_leaf=13, max_features=sqrt, max_depth=3, total=   1.4s\n",
            "[CV] n_estimators=824, min_samples_split=14, min_samples_leaf=13, max_features=sqrt, max_depth=3 \n",
            "[CV]  n_estimators=824, min_samples_split=14, min_samples_leaf=13, max_features=sqrt, max_depth=3, total=   1.4s\n",
            "[CV] n_estimators=824, min_samples_split=14, min_samples_leaf=13, max_features=sqrt, max_depth=3 \n",
            "[CV]  n_estimators=824, min_samples_split=14, min_samples_leaf=13, max_features=sqrt, max_depth=3, total=   1.4s\n",
            "[CV] n_estimators=824, min_samples_split=14, min_samples_leaf=13, max_features=sqrt, max_depth=3 \n",
            "[CV]  n_estimators=824, min_samples_split=14, min_samples_leaf=13, max_features=sqrt, max_depth=3, total=   1.3s\n",
            "[CV] n_estimators=824, min_samples_split=14, min_samples_leaf=13, max_features=sqrt, max_depth=3 \n",
            "[CV]  n_estimators=824, min_samples_split=14, min_samples_leaf=13, max_features=sqrt, max_depth=3, total=   1.2s\n",
            "[CV] n_estimators=949, min_samples_split=6, min_samples_leaf=1, max_features=auto, max_depth=14 \n",
            "[CV]  n_estimators=949, min_samples_split=6, min_samples_leaf=1, max_features=auto, max_depth=14, total=   1.8s\n",
            "[CV] n_estimators=949, min_samples_split=6, min_samples_leaf=1, max_features=auto, max_depth=14 \n",
            "[CV]  n_estimators=949, min_samples_split=6, min_samples_leaf=1, max_features=auto, max_depth=14, total=   1.9s\n",
            "[CV] n_estimators=949, min_samples_split=6, min_samples_leaf=1, max_features=auto, max_depth=14 \n",
            "[CV]  n_estimators=949, min_samples_split=6, min_samples_leaf=1, max_features=auto, max_depth=14, total=   1.5s\n",
            "[CV] n_estimators=949, min_samples_split=6, min_samples_leaf=1, max_features=auto, max_depth=14 \n",
            "[CV]  n_estimators=949, min_samples_split=6, min_samples_leaf=1, max_features=auto, max_depth=14, total=   1.5s\n",
            "[CV] n_estimators=949, min_samples_split=6, min_samples_leaf=1, max_features=auto, max_depth=14 \n",
            "[CV]  n_estimators=949, min_samples_split=6, min_samples_leaf=1, max_features=auto, max_depth=14, total=   1.5s\n",
            "[CV] n_estimators=949, min_samples_split=10, min_samples_leaf=15, max_features=sqrt, max_depth=3 \n",
            "[CV]  n_estimators=949, min_samples_split=10, min_samples_leaf=15, max_features=sqrt, max_depth=3, total=   1.5s\n",
            "[CV] n_estimators=949, min_samples_split=10, min_samples_leaf=15, max_features=sqrt, max_depth=3 \n",
            "[CV]  n_estimators=949, min_samples_split=10, min_samples_leaf=15, max_features=sqrt, max_depth=3, total=   1.5s\n",
            "[CV] n_estimators=949, min_samples_split=10, min_samples_leaf=15, max_features=sqrt, max_depth=3 \n",
            "[CV]  n_estimators=949, min_samples_split=10, min_samples_leaf=15, max_features=sqrt, max_depth=3, total=   1.5s\n",
            "[CV] n_estimators=949, min_samples_split=10, min_samples_leaf=15, max_features=sqrt, max_depth=3 \n",
            "[CV]  n_estimators=949, min_samples_split=10, min_samples_leaf=15, max_features=sqrt, max_depth=3, total=   1.5s\n",
            "[CV] n_estimators=949, min_samples_split=10, min_samples_leaf=15, max_features=sqrt, max_depth=3 \n",
            "[CV]  n_estimators=949, min_samples_split=10, min_samples_leaf=15, max_features=sqrt, max_depth=3, total=   1.5s\n",
            "[CV] n_estimators=511, min_samples_split=16, min_samples_leaf=3, max_features=auto, max_depth=3 \n",
            "[CV]  n_estimators=511, min_samples_split=16, min_samples_leaf=3, max_features=auto, max_depth=3, total=   0.8s\n",
            "[CV] n_estimators=511, min_samples_split=16, min_samples_leaf=3, max_features=auto, max_depth=3 \n",
            "[CV]  n_estimators=511, min_samples_split=16, min_samples_leaf=3, max_features=auto, max_depth=3, total=   0.8s\n",
            "[CV] n_estimators=511, min_samples_split=16, min_samples_leaf=3, max_features=auto, max_depth=3 \n",
            "[CV]  n_estimators=511, min_samples_split=16, min_samples_leaf=3, max_features=auto, max_depth=3, total=   0.8s\n",
            "[CV] n_estimators=511, min_samples_split=16, min_samples_leaf=3, max_features=auto, max_depth=3 \n",
            "[CV]  n_estimators=511, min_samples_split=16, min_samples_leaf=3, max_features=auto, max_depth=3, total=   0.8s\n",
            "[CV] n_estimators=511, min_samples_split=16, min_samples_leaf=3, max_features=auto, max_depth=3 \n",
            "[CV]  n_estimators=511, min_samples_split=16, min_samples_leaf=3, max_features=auto, max_depth=3, total=   0.8s\n",
            "[CV] n_estimators=72, min_samples_split=4, min_samples_leaf=17, max_features=auto, max_depth=None \n",
            "[CV]  n_estimators=72, min_samples_split=4, min_samples_leaf=17, max_features=auto, max_depth=None, total=   0.1s\n",
            "[CV] n_estimators=72, min_samples_split=4, min_samples_leaf=17, max_features=auto, max_depth=None \n",
            "[CV]  n_estimators=72, min_samples_split=4, min_samples_leaf=17, max_features=auto, max_depth=None, total=   0.1s\n",
            "[CV] n_estimators=72, min_samples_split=4, min_samples_leaf=17, max_features=auto, max_depth=None \n",
            "[CV]  n_estimators=72, min_samples_split=4, min_samples_leaf=17, max_features=auto, max_depth=None, total=   0.1s\n",
            "[CV] n_estimators=72, min_samples_split=4, min_samples_leaf=17, max_features=auto, max_depth=None \n",
            "[CV]  n_estimators=72, min_samples_split=4, min_samples_leaf=17, max_features=auto, max_depth=None, total=   0.1s\n",
            "[CV] n_estimators=72, min_samples_split=4, min_samples_leaf=17, max_features=auto, max_depth=None \n",
            "[CV]  n_estimators=72, min_samples_split=4, min_samples_leaf=17, max_features=auto, max_depth=None, total=   0.1s\n",
            "[CV] n_estimators=10, min_samples_split=2, min_samples_leaf=5, max_features=sqrt, max_depth=20 \n",
            "[CV]  n_estimators=10, min_samples_split=2, min_samples_leaf=5, max_features=sqrt, max_depth=20, total=   0.0s\n",
            "[CV] n_estimators=10, min_samples_split=2, min_samples_leaf=5, max_features=sqrt, max_depth=20 \n",
            "[CV]  n_estimators=10, min_samples_split=2, min_samples_leaf=5, max_features=sqrt, max_depth=20, total=   0.0s\n",
            "[CV] n_estimators=10, min_samples_split=2, min_samples_leaf=5, max_features=sqrt, max_depth=20 \n",
            "[CV]  n_estimators=10, min_samples_split=2, min_samples_leaf=5, max_features=sqrt, max_depth=20, total=   0.0s\n",
            "[CV] n_estimators=10, min_samples_split=2, min_samples_leaf=5, max_features=sqrt, max_depth=20 \n",
            "[CV]  n_estimators=10, min_samples_split=2, min_samples_leaf=5, max_features=sqrt, max_depth=20, total=   0.0s\n",
            "[CV] n_estimators=10, min_samples_split=2, min_samples_leaf=5, max_features=sqrt, max_depth=20 \n",
            "[CV]  n_estimators=10, min_samples_split=2, min_samples_leaf=5, max_features=sqrt, max_depth=20, total=   0.0s\n",
            "[CV] n_estimators=72, min_samples_split=12, min_samples_leaf=13, max_features=auto, max_depth=None \n",
            "[CV]  n_estimators=72, min_samples_split=12, min_samples_leaf=13, max_features=auto, max_depth=None, total=   0.1s\n",
            "[CV] n_estimators=72, min_samples_split=12, min_samples_leaf=13, max_features=auto, max_depth=None \n",
            "[CV]  n_estimators=72, min_samples_split=12, min_samples_leaf=13, max_features=auto, max_depth=None, total=   0.1s\n",
            "[CV] n_estimators=72, min_samples_split=12, min_samples_leaf=13, max_features=auto, max_depth=None \n",
            "[CV]  n_estimators=72, min_samples_split=12, min_samples_leaf=13, max_features=auto, max_depth=None, total=   0.1s\n",
            "[CV] n_estimators=72, min_samples_split=12, min_samples_leaf=13, max_features=auto, max_depth=None \n",
            "[CV]  n_estimators=72, min_samples_split=12, min_samples_leaf=13, max_features=auto, max_depth=None, total=   0.1s\n",
            "[CV] n_estimators=72, min_samples_split=12, min_samples_leaf=13, max_features=auto, max_depth=None \n",
            "[CV]  n_estimators=72, min_samples_split=12, min_samples_leaf=13, max_features=auto, max_depth=None, total=   0.1s\n",
            "[CV] n_estimators=1074, min_samples_split=10, min_samples_leaf=7, max_features=auto, max_depth=None \n",
            "[CV]  n_estimators=1074, min_samples_split=10, min_samples_leaf=7, max_features=auto, max_depth=None, total=   1.7s\n",
            "[CV] n_estimators=1074, min_samples_split=10, min_samples_leaf=7, max_features=auto, max_depth=None \n",
            "[CV]  n_estimators=1074, min_samples_split=10, min_samples_leaf=7, max_features=auto, max_depth=None, total=   1.7s\n",
            "[CV] n_estimators=1074, min_samples_split=10, min_samples_leaf=7, max_features=auto, max_depth=None \n",
            "[CV]  n_estimators=1074, min_samples_split=10, min_samples_leaf=7, max_features=auto, max_depth=None, total=   1.7s\n",
            "[CV] n_estimators=1074, min_samples_split=10, min_samples_leaf=7, max_features=auto, max_depth=None \n",
            "[CV]  n_estimators=1074, min_samples_split=10, min_samples_leaf=7, max_features=auto, max_depth=None, total=   1.7s\n",
            "[CV] n_estimators=1074, min_samples_split=10, min_samples_leaf=7, max_features=auto, max_depth=None \n",
            "[CV]  n_estimators=1074, min_samples_split=10, min_samples_leaf=7, max_features=auto, max_depth=None, total=   1.7s\n",
            "[CV] n_estimators=824, min_samples_split=14, min_samples_leaf=5, max_features=sqrt, max_depth=20 \n",
            "[CV]  n_estimators=824, min_samples_split=14, min_samples_leaf=5, max_features=sqrt, max_depth=20, total=   1.3s\n",
            "[CV] n_estimators=824, min_samples_split=14, min_samples_leaf=5, max_features=sqrt, max_depth=20 \n",
            "[CV]  n_estimators=824, min_samples_split=14, min_samples_leaf=5, max_features=sqrt, max_depth=20, total=   1.3s\n",
            "[CV] n_estimators=824, min_samples_split=14, min_samples_leaf=5, max_features=sqrt, max_depth=20 \n",
            "[CV]  n_estimators=824, min_samples_split=14, min_samples_leaf=5, max_features=sqrt, max_depth=20, total=   1.3s\n",
            "[CV] n_estimators=824, min_samples_split=14, min_samples_leaf=5, max_features=sqrt, max_depth=20 \n",
            "[CV]  n_estimators=824, min_samples_split=14, min_samples_leaf=5, max_features=sqrt, max_depth=20, total=   1.3s\n",
            "[CV] n_estimators=824, min_samples_split=14, min_samples_leaf=5, max_features=sqrt, max_depth=20 \n",
            "[CV]  n_estimators=824, min_samples_split=14, min_samples_leaf=5, max_features=sqrt, max_depth=20, total=   1.3s\n",
            "[CV] n_estimators=1137, min_samples_split=12, min_samples_leaf=11, max_features=auto, max_depth=14 \n",
            "[CV]  n_estimators=1137, min_samples_split=12, min_samples_leaf=11, max_features=auto, max_depth=14, total=   1.7s\n",
            "[CV] n_estimators=1137, min_samples_split=12, min_samples_leaf=11, max_features=auto, max_depth=14 \n",
            "[CV]  n_estimators=1137, min_samples_split=12, min_samples_leaf=11, max_features=auto, max_depth=14, total=   1.7s\n",
            "[CV] n_estimators=1137, min_samples_split=12, min_samples_leaf=11, max_features=auto, max_depth=14 \n",
            "[CV]  n_estimators=1137, min_samples_split=12, min_samples_leaf=11, max_features=auto, max_depth=14, total=   1.8s\n",
            "[CV] n_estimators=1137, min_samples_split=12, min_samples_leaf=11, max_features=auto, max_depth=14 \n",
            "[CV]  n_estimators=1137, min_samples_split=12, min_samples_leaf=11, max_features=auto, max_depth=14, total=   1.8s\n",
            "[CV] n_estimators=1137, min_samples_split=12, min_samples_leaf=11, max_features=auto, max_depth=14 \n",
            "[CV]  n_estimators=1137, min_samples_split=12, min_samples_leaf=11, max_features=auto, max_depth=14, total=   1.8s\n",
            "[CV] n_estimators=636, min_samples_split=18, min_samples_leaf=17, max_features=auto, max_depth=20 \n",
            "[CV]  n_estimators=636, min_samples_split=18, min_samples_leaf=17, max_features=auto, max_depth=20, total=   0.9s\n",
            "[CV] n_estimators=636, min_samples_split=18, min_samples_leaf=17, max_features=auto, max_depth=20 \n",
            "[CV]  n_estimators=636, min_samples_split=18, min_samples_leaf=17, max_features=auto, max_depth=20, total=   1.0s\n",
            "[CV] n_estimators=636, min_samples_split=18, min_samples_leaf=17, max_features=auto, max_depth=20 \n",
            "[CV]  n_estimators=636, min_samples_split=18, min_samples_leaf=17, max_features=auto, max_depth=20, total=   0.8s\n",
            "[CV] n_estimators=636, min_samples_split=18, min_samples_leaf=17, max_features=auto, max_depth=20 \n",
            "[CV]  n_estimators=636, min_samples_split=18, min_samples_leaf=17, max_features=auto, max_depth=20, total=   0.9s\n",
            "[CV] n_estimators=636, min_samples_split=18, min_samples_leaf=17, max_features=auto, max_depth=20 \n",
            "[CV]  n_estimators=636, min_samples_split=18, min_samples_leaf=17, max_features=auto, max_depth=20, total=   0.9s\n"
          ],
          "name": "stdout"
        },
        {
          "output_type": "stream",
          "text": [
            "[Parallel(n_jobs=1)]: Done 100 out of 100 | elapsed:  1.4min finished\n"
          ],
          "name": "stderr"
        },
        {
          "output_type": "execute_result",
          "data": {
            "text/plain": [
              "RandomizedSearchCV(cv=5, error_score=nan,\n",
              "                   estimator=RandomForestClassifier(bootstrap=True,\n",
              "                                                    ccp_alpha=0.0,\n",
              "                                                    class_weight=None,\n",
              "                                                    criterion='gini',\n",
              "                                                    max_depth=None,\n",
              "                                                    max_features='auto',\n",
              "                                                    max_leaf_nodes=None,\n",
              "                                                    max_samples=None,\n",
              "                                                    min_impurity_decrease=0.0,\n",
              "                                                    min_impurity_split=None,\n",
              "                                                    min_samples_leaf=1,\n",
              "                                                    min_samples_split=2,\n",
              "                                                    min_weight_fraction_leaf=0.0,\n",
              "                                                    n_estimators=100,\n",
              "                                                    n_jobs...\n",
              "                   param_distributions={'max_depth': [3, 8, 14, 20, None],\n",
              "                                        'max_features': ['auto', 'sqrt'],\n",
              "                                        'min_samples_leaf': array([ 1,  3,  5,  7,  9, 11, 13, 15, 17, 19]),\n",
              "                                        'min_samples_split': array([ 2,  4,  6,  8, 10, 12, 14, 16, 18]),\n",
              "                                        'n_estimators': [10, 72, 135, 197, 260,\n",
              "                                                         323, 385, 448, 511,\n",
              "                                                         573, 636, 698, 761,\n",
              "                                                         824, 886, 949, 1012,\n",
              "                                                         1074, 1137, 1200]},\n",
              "                   pre_dispatch='2*n_jobs', random_state=None, refit=True,\n",
              "                   return_train_score=False, scoring=None, verbose=2)"
            ]
          },
          "metadata": {
            "tags": []
          },
          "execution_count": 40
        }
      ]
    },
    {
      "cell_type": "code",
      "metadata": {
        "colab": {
          "base_uri": "https://localhost:8080/"
        },
        "id": "YYOYQHB2xVND",
        "cell_id": "00046-7a91176d-bcd3-44f3-ad26-dfbb13f01027",
        "deepnote_to_be_reexecuted": false,
        "source_hash": "bdb41631",
        "execution_millis": 9,
        "execution_start": 1615403508838,
        "deepnote_cell_type": "code",
        "outputId": "f8392c1b-de6f-4383-d8e6-e86388bfcb50"
      },
      "source": [
        "rf_random.best_params_"
      ],
      "execution_count": 41,
      "outputs": [
        {
          "output_type": "execute_result",
          "data": {
            "text/plain": [
              "{'max_depth': None,\n",
              " 'max_features': 'auto',\n",
              " 'min_samples_leaf': 7,\n",
              " 'min_samples_split': 10,\n",
              " 'n_estimators': 1074}"
            ]
          },
          "metadata": {
            "tags": []
          },
          "execution_count": 41
        }
      ]
    },
    {
      "cell_type": "code",
      "metadata": {
        "colab": {
          "base_uri": "https://localhost:8080/"
        },
        "id": "OUBqC9dJxWit",
        "cell_id": "00047-3dc9f956-38a1-402f-9a4a-822f98da30cc",
        "deepnote_to_be_reexecuted": false,
        "source_hash": "3b683958",
        "execution_millis": 37,
        "execution_start": 1615403508844,
        "deepnote_cell_type": "code",
        "outputId": "6ce8a681-3f46-4dff-906c-6e130f921516"
      },
      "source": [
        "print (f'Train Accuracy - : {rf_random.score(X_train,y_train):.3f}')\n",
        "print (f'Test Accuracy - : {rf_random.score(X_test,y_test):.3f}')"
      ],
      "execution_count": 42,
      "outputs": [
        {
          "output_type": "stream",
          "text": [
            "Train Accuracy - : 0.880\n",
            "Test Accuracy - : 0.902\n"
          ],
          "name": "stdout"
        }
      ]
    },
    {
      "cell_type": "code",
      "metadata": {
        "tags": [],
        "cell_id": "00057-dfb245e9-c038-4306-86de-1495d69573c6",
        "deepnote_to_be_reexecuted": false,
        "source_hash": "49ab5a29",
        "execution_millis": 9,
        "execution_start": 1615403508876,
        "deepnote_cell_type": "code",
        "id": "UtmMai59F_r1"
      },
      "source": [
        "#save model01\n",
        "\n",
        "import pickle\n",
        "# open a file, where you ant to store the data\n",
        "file = open('model01.pkl', 'wb')\n",
        "\n",
        "# dump information to that file\n",
        "pickle.dump(rf_random, file)"
      ],
      "execution_count": 43,
      "outputs": []
    },
    {
      "cell_type": "markdown",
      "metadata": {
        "tags": [],
        "cell_id": "00062-f92591a4-d1a2-472e-ac9f-ccff238a2e10",
        "deepnote_cell_type": "markdown",
        "id": "OiYHrUEnF_r1"
      },
      "source": [
        "#### **Model 02: Logistic Regression** "
      ]
    },
    {
      "cell_type": "code",
      "metadata": {
        "tags": [],
        "cell_id": "00059-4a861c06-4f1e-47ba-9fb0-a06ed2261a99",
        "deepnote_to_be_reexecuted": false,
        "source_hash": "91a6fb8b",
        "execution_millis": 55,
        "execution_start": 1615403508887,
        "deepnote_cell_type": "code",
        "colab": {
          "base_uri": "https://localhost:8080/"
        },
        "id": "D_YOcTWgF_r2",
        "outputId": "d15ac034-b71b-45a8-c3f6-f57ce40757a5"
      },
      "source": [
        "# base model before tuning hyperparameters\n",
        "\n",
        "lr = LogisticRegression()\n",
        "lr.fit(X_train, y_train)"
      ],
      "execution_count": 44,
      "outputs": [
        {
          "output_type": "stream",
          "text": [
            "/usr/local/lib/python3.7/dist-packages/sklearn/linear_model/_logistic.py:940: ConvergenceWarning: lbfgs failed to converge (status=1):\n",
            "STOP: TOTAL NO. of ITERATIONS REACHED LIMIT.\n",
            "\n",
            "Increase the number of iterations (max_iter) or scale the data as shown in:\n",
            "    https://scikit-learn.org/stable/modules/preprocessing.html\n",
            "Please also refer to the documentation for alternative solver options:\n",
            "    https://scikit-learn.org/stable/modules/linear_model.html#logistic-regression\n",
            "  extra_warning_msg=_LOGISTIC_SOLVER_CONVERGENCE_MSG)\n"
          ],
          "name": "stderr"
        },
        {
          "output_type": "execute_result",
          "data": {
            "text/plain": [
              "LogisticRegression(C=1.0, class_weight=None, dual=False, fit_intercept=True,\n",
              "                   intercept_scaling=1, l1_ratio=None, max_iter=100,\n",
              "                   multi_class='auto', n_jobs=None, penalty='l2',\n",
              "                   random_state=None, solver='lbfgs', tol=0.0001, verbose=0,\n",
              "                   warm_start=False)"
            ]
          },
          "metadata": {
            "tags": []
          },
          "execution_count": 44
        }
      ]
    },
    {
      "cell_type": "code",
      "metadata": {
        "tags": [],
        "cell_id": "00060-37fecc6f-a3da-4770-8d48-1925c9ca4b43",
        "deepnote_to_be_reexecuted": false,
        "source_hash": "e673f711",
        "execution_millis": 19,
        "execution_start": 1615403508923,
        "deepnote_cell_type": "code",
        "colab": {
          "base_uri": "https://localhost:8080/"
        },
        "id": "G2Aaiz_vF_r2",
        "outputId": "c5ace0b9-6cc6-4573-cd24-a323a5742d02"
      },
      "source": [
        "print (f'Train Accuracy - : {lr.score(X_train,y_train):.3f}')\n",
        "print (f'Test Accuracy - : {lr.score(X_test,y_test):.3f}')"
      ],
      "execution_count": 45,
      "outputs": [
        {
          "output_type": "stream",
          "text": [
            "Train Accuracy - : 0.847\n",
            "Test Accuracy - : 0.869\n"
          ],
          "name": "stdout"
        }
      ]
    },
    {
      "cell_type": "code",
      "metadata": {
        "tags": [],
        "cell_id": "00061-8b019a2a-27ca-40df-abc2-41fda3b66ed3",
        "deepnote_to_be_reexecuted": false,
        "source_hash": "65e87c5b",
        "execution_millis": 2,
        "execution_start": 1615403508927,
        "deepnote_cell_type": "code",
        "id": "WEE6keB-F_r2"
      },
      "source": [
        "# Create a hyperparameter grid for LogisticRegression\n",
        "lr_reg_grid = {\"C\": np.logspace(-4, 4, 20),\n",
        "                \"solver\": [\"liblinear\"]}"
      ],
      "execution_count": 46,
      "outputs": []
    },
    {
      "cell_type": "code",
      "metadata": {
        "tags": [],
        "cell_id": "00062-e3fe4774-d6b0-4faa-97a1-558b3b7abae2",
        "deepnote_to_be_reexecuted": false,
        "source_hash": "fb08e25",
        "execution_millis": 3,
        "execution_start": 1615403508930,
        "deepnote_cell_type": "code",
        "id": "khLpTR2FF_r3"
      },
      "source": [
        "# Setup random hyperparameter search for LogisticRegression\n",
        "rs_lr_reg = RandomizedSearchCV(LogisticRegression(),\n",
        "                                param_distributions=lr_reg_grid,\n",
        "                                cv=5,\n",
        "                                n_iter=20,\n",
        "                                verbose=True)"
      ],
      "execution_count": 47,
      "outputs": []
    },
    {
      "cell_type": "code",
      "metadata": {
        "tags": [],
        "cell_id": "00063-0618bf3c-938d-4296-8bd2-60e06699a19b",
        "deepnote_to_be_reexecuted": false,
        "source_hash": "252eb304",
        "execution_millis": 252,
        "execution_start": 1615403508936,
        "deepnote_cell_type": "code",
        "colab": {
          "base_uri": "https://localhost:8080/"
        },
        "id": "_bJMvxuYF_r3",
        "outputId": "f55fa985-a4b7-4d19-8f9b-a4e96153b8f6"
      },
      "source": [
        "rs_lr_reg.fit(X_train, y_train)"
      ],
      "execution_count": 48,
      "outputs": [
        {
          "output_type": "stream",
          "text": [
            "[Parallel(n_jobs=1)]: Using backend SequentialBackend with 1 concurrent workers.\n"
          ],
          "name": "stderr"
        },
        {
          "output_type": "stream",
          "text": [
            "Fitting 5 folds for each of 20 candidates, totalling 100 fits\n"
          ],
          "name": "stdout"
        },
        {
          "output_type": "stream",
          "text": [
            "[Parallel(n_jobs=1)]: Done 100 out of 100 | elapsed:    0.3s finished\n"
          ],
          "name": "stderr"
        },
        {
          "output_type": "execute_result",
          "data": {
            "text/plain": [
              "RandomizedSearchCV(cv=5, error_score=nan,\n",
              "                   estimator=LogisticRegression(C=1.0, class_weight=None,\n",
              "                                                dual=False, fit_intercept=True,\n",
              "                                                intercept_scaling=1,\n",
              "                                                l1_ratio=None, max_iter=100,\n",
              "                                                multi_class='auto', n_jobs=None,\n",
              "                                                penalty='l2', random_state=None,\n",
              "                                                solver='lbfgs', tol=0.0001,\n",
              "                                                verbose=0, warm_start=False),\n",
              "                   iid='deprecated', n_iter=20, n_jobs=None,\n",
              "                   param_distributions={'C':...\n",
              "       4.83293024e-03, 1.27427499e-02, 3.35981829e-02, 8.85866790e-02,\n",
              "       2.33572147e-01, 6.15848211e-01, 1.62377674e+00, 4.28133240e+00,\n",
              "       1.12883789e+01, 2.97635144e+01, 7.84759970e+01, 2.06913808e+02,\n",
              "       5.45559478e+02, 1.43844989e+03, 3.79269019e+03, 1.00000000e+04]),\n",
              "                                        'solver': ['liblinear']},\n",
              "                   pre_dispatch='2*n_jobs', random_state=None, refit=True,\n",
              "                   return_train_score=False, scoring=None, verbose=True)"
            ]
          },
          "metadata": {
            "tags": []
          },
          "execution_count": 48
        }
      ]
    },
    {
      "cell_type": "code",
      "metadata": {
        "tags": [],
        "cell_id": "00064-aca45831-e8e4-42e4-a647-ad05f5c857e8",
        "deepnote_to_be_reexecuted": false,
        "source_hash": "9200d6df",
        "execution_millis": 12,
        "execution_start": 1615403509214,
        "deepnote_cell_type": "code",
        "colab": {
          "base_uri": "https://localhost:8080/"
        },
        "id": "ygdEA8kLF_r3",
        "outputId": "d4f23100-99ec-44ac-da25-0fe5ba8d0e6a"
      },
      "source": [
        "rs_lr_reg.best_params_"
      ],
      "execution_count": 49,
      "outputs": [
        {
          "output_type": "execute_result",
          "data": {
            "text/plain": [
              "{'C': 0.08858667904100823, 'solver': 'liblinear'}"
            ]
          },
          "metadata": {
            "tags": []
          },
          "execution_count": 49
        }
      ]
    },
    {
      "cell_type": "code",
      "metadata": {
        "tags": [],
        "cell_id": "00066-8668e881-07b8-4222-9021-40f3b5be5c19",
        "deepnote_to_be_reexecuted": false,
        "source_hash": "62b9d8d1",
        "execution_millis": 11,
        "execution_start": 1615403509215,
        "deepnote_cell_type": "code",
        "colab": {
          "base_uri": "https://localhost:8080/"
        },
        "id": "cN28OJINF_r4",
        "outputId": "fe288351-2d60-44d8-f17c-87a525a7fffa"
      },
      "source": [
        "print (f'Train Accuracy - : {rs_lr_reg.score(X_train,y_train):.3f}')\n",
        "print (f'Test Accuracy - : {rs_lr_reg.score(X_test,y_test):.3f}')"
      ],
      "execution_count": 50,
      "outputs": [
        {
          "output_type": "stream",
          "text": [
            "Train Accuracy - : 0.843\n",
            "Test Accuracy - : 0.869\n"
          ],
          "name": "stdout"
        }
      ]
    },
    {
      "cell_type": "markdown",
      "metadata": {
        "tags": [],
        "cell_id": "00066-0d670031-ef29-409b-92fa-5f2bd2960315",
        "deepnote_cell_type": "markdown",
        "id": "Jav3PsFDF_r4"
      },
      "source": [
        "### **Model Evaluation**\n",
        "\n",
        "- Accuracy\n",
        "- ROC curve and AUC score\n",
        "- Confusion matrix\n",
        "- Classification report\n",
        "\n"
      ]
    },
    {
      "cell_type": "markdown",
      "metadata": {
        "id": "UD6XGyIjLYQX"
      },
      "source": [
        ""
      ]
    },
    {
      "cell_type": "markdown",
      "metadata": {
        "tags": [],
        "cell_id": "00067-593a8df4-dc41-4d0c-9ceb-5483b8dfa93f",
        "deepnote_cell_type": "markdown",
        "id": "VHOjgx-XF_r4"
      },
      "source": [
        "### **Accuracy**"
      ]
    },
    {
      "cell_type": "code",
      "metadata": {
        "tags": [],
        "cell_id": "00067-5e79ea90-3609-4c63-99a8-356a7b9b2f4c",
        "deepnote_to_be_reexecuted": false,
        "source_hash": "f2bbeb2",
        "execution_millis": 13,
        "execution_start": 1615403509216,
        "deepnote_cell_type": "code",
        "colab": {
          "base_uri": "https://localhost:8080/"
        },
        "id": "J9YvJGeXF_r4",
        "outputId": "d6e3aaa4-2461-457c-bcc0-8db3dd725158"
      },
      "source": [
        "#Accuracy on test data for both models\n",
        "\n",
        "print (f'Random Forest Classifier Accuracy on test dataset- : {rf_random.score(X_test,y_test):.3f}')\n",
        "print (f'Logistic Regression Accuracy on test dataset- : {rs_lr_reg.score(X_test,y_test):.3f}')"
      ],
      "execution_count": 51,
      "outputs": [
        {
          "output_type": "stream",
          "text": [
            "Random Forest Classifier Accuracy on test dataset- : 0.902\n",
            "Logistic Regression Accuracy on test dataset- : 0.869\n"
          ],
          "name": "stdout"
        }
      ]
    },
    {
      "cell_type": "markdown",
      "metadata": {
        "tags": [],
        "cell_id": "00068-56d9ea87-9caf-4526-990b-1ce343329064",
        "deepnote_cell_type": "markdown",
        "id": "0EYSObjZF_r5"
      },
      "source": [
        " The **Random Forest Model** has a better accuracy (90.2%) \n",
        " \n",
        " We will now explore other evaluation parameters on the Random Forest Model"
      ]
    },
    {
      "cell_type": "code",
      "metadata": {
        "tags": [],
        "cell_id": "00069-121faa25-d603-48bd-ad16-6db0d212715b",
        "deepnote_to_be_reexecuted": false,
        "source_hash": "bdb41631",
        "execution_millis": 29,
        "execution_start": 1615403866315,
        "deepnote_cell_type": "code",
        "colab": {
          "base_uri": "https://localhost:8080/"
        },
        "id": "pNYNSewqF_r5",
        "outputId": "34cb77c8-d775-4004-a221-d6869a825ca9"
      },
      "source": [
        "rf_random.best_params_"
      ],
      "execution_count": 52,
      "outputs": [
        {
          "output_type": "execute_result",
          "data": {
            "text/plain": [
              "{'max_depth': None,\n",
              " 'max_features': 'auto',\n",
              " 'min_samples_leaf': 7,\n",
              " 'min_samples_split': 10,\n",
              " 'n_estimators': 1074}"
            ]
          },
          "metadata": {
            "tags": []
          },
          "execution_count": 52
        }
      ]
    },
    {
      "cell_type": "code",
      "metadata": {
        "tags": [],
        "cell_id": "00069-41bbc006-95ae-449e-9dbe-c010f305ca77",
        "deepnote_to_be_reexecuted": false,
        "source_hash": "135bdf74",
        "execution_millis": 13,
        "execution_start": 1615403509220,
        "deepnote_cell_type": "code",
        "id": "t_X8bCUGF_r5"
      },
      "source": [
        "# Make predictions with the model\n",
        "y_preds = rf_random.predict(X_test)"
      ],
      "execution_count": 53,
      "outputs": []
    },
    {
      "cell_type": "code",
      "metadata": {
        "tags": [],
        "cell_id": "00070-baba294b-97c5-4985-8ca4-fad7eb8cc298",
        "deepnote_to_be_reexecuted": false,
        "source_hash": "870f6e02",
        "execution_millis": 16,
        "execution_start": 1615403509236,
        "deepnote_cell_type": "code",
        "colab": {
          "base_uri": "https://localhost:8080/"
        },
        "id": "uHpxecFgF_r6",
        "outputId": "2878e247-4cb4-4a42-b332-4d2976609b8e"
      },
      "source": [
        "y_preds"
      ],
      "execution_count": 54,
      "outputs": [
        {
          "output_type": "execute_result",
          "data": {
            "text/plain": [
              "array([0, 1, 0, 0, 1, 0, 0, 0, 1, 1, 0, 0, 0, 0, 0, 1, 1, 1, 0, 0, 0, 1,\n",
              "       1, 0, 0, 1, 0, 0, 0, 0, 1, 1, 0, 0, 0, 0, 1, 0, 0, 0, 0, 1, 1, 1,\n",
              "       0, 1, 1, 1, 0, 0, 0, 0, 0, 1, 1, 0, 0, 0, 0, 0, 0])"
            ]
          },
          "metadata": {
            "tags": []
          },
          "execution_count": 54
        }
      ]
    },
    {
      "cell_type": "code",
      "metadata": {
        "tags": [],
        "cell_id": "00071-bdd05bfe-5215-4661-becb-c59d54b1c326",
        "deepnote_to_be_reexecuted": false,
        "source_hash": "d696aa0b",
        "execution_millis": 14,
        "execution_start": 1615403509241,
        "deepnote_cell_type": "code",
        "colab": {
          "base_uri": "https://localhost:8080/"
        },
        "id": "wI26H913F_r6",
        "outputId": "8a06910b-3e59-4652-b462-cce56370f4ff"
      },
      "source": [
        "y_test"
      ],
      "execution_count": 55,
      "outputs": [
        {
          "output_type": "execute_result",
          "data": {
            "text/plain": [
              "112    0\n",
              "292    1\n",
              "125    0\n",
              "93     0\n",
              "231    1\n",
              "      ..\n",
              "61     0\n",
              "173    0\n",
              "115    0\n",
              "13     0\n",
              "208    0\n",
              "Name: target, Length: 61, dtype: int64"
            ]
          },
          "metadata": {
            "tags": []
          },
          "execution_count": 55
        }
      ]
    },
    {
      "cell_type": "markdown",
      "metadata": {
        "tags": [],
        "cell_id": "00072-b2105cef-0834-48d5-92f3-eb39cb0ccfeb",
        "deepnote_cell_type": "markdown",
        "id": "Toy_LAvLF_r6"
      },
      "source": [
        "**ROC curve and AUC score**"
      ]
    },
    {
      "cell_type": "code",
      "metadata": {
        "tags": [],
        "cell_id": "00071-f695949f-a250-4852-b7da-6997488496c2",
        "deepnote_to_be_reexecuted": false,
        "source_hash": "31ba362f",
        "execution_millis": 185,
        "execution_start": 1615403509247,
        "deepnote_cell_type": "code",
        "colab": {
          "base_uri": "https://localhost:8080/",
          "height": 296
        },
        "id": "6jc4IkoZF_r7",
        "outputId": "619eecac-14b2-4f06-d23f-13b89d689105"
      },
      "source": [
        "# Plot ROC curve and calculate and calculate AUC metric\n",
        "plot_roc_curve(rf_random, X_test, y_test)"
      ],
      "execution_count": 56,
      "outputs": [
        {
          "output_type": "execute_result",
          "data": {
            "text/plain": [
              "<sklearn.metrics._plot.roc_curve.RocCurveDisplay at 0x7fa2a7e1fe10>"
            ]
          },
          "metadata": {
            "tags": []
          },
          "execution_count": 56
        },
        {
          "output_type": "display_data",
          "data": {
            "image/png": "[encoded data removed]",
            "text/plain": [
              "<Figure size 432x288 with 1 Axes>"
            ]
          },
          "metadata": {
            "tags": [],
            "needs_background": "light"
          }
        }
      ]
    },
    {
      "cell_type": "markdown",
      "metadata": {
        "tags": [],
        "cell_id": "00074-3c067c27-78fb-43ec-805e-b98709271f26",
        "deepnote_cell_type": "markdown",
        "id": "7EwHAaIyF_r7"
      },
      "source": [
        "**AUC = 0.94**"
      ]
    },
    {
      "cell_type": "markdown",
      "metadata": {
        "tags": [],
        "cell_id": "00075-646fc0a0-8011-4a61-afa6-af3485a4ecf3",
        "deepnote_cell_type": "markdown",
        "id": "X_pf98i5F_r7"
      },
      "source": [
        "### **Confusion Matrix**"
      ]
    },
    {
      "cell_type": "code",
      "metadata": {
        "tags": [],
        "cell_id": "00074-fb05bc80-662e-4895-a766-5d3499bfca05",
        "deepnote_to_be_reexecuted": false,
        "source_hash": "f3d83635",
        "execution_millis": 136,
        "execution_start": 1615403509485,
        "deepnote_cell_type": "code",
        "colab": {
          "base_uri": "https://localhost:8080/",
          "height": 243
        },
        "id": "88s_w7NdF_r7",
        "outputId": "cd427ad9-6296-4181-b36c-61151538305b"
      },
      "source": [
        "#Use a function to present a tidy plot\n",
        "\n",
        "sns.set(font_scale=1.5)\n",
        "\n",
        "def plot_conf_mat(y_test, y_preds):\n",
        "    \"\"\"\n",
        "    Plots a nice looking confusion matrix using Seaborn's heatmap()\n",
        "    \"\"\"\n",
        "    fig, ax = plt.subplots(figsize=(3, 3))\n",
        "    ax = sns.heatmap(confusion_matrix(y_test, y_preds),\n",
        "                     annot=True,\n",
        "                     cbar=False)\n",
        "    plt.xlabel(\"True label\")\n",
        "    plt.ylabel(\"Predicted label\")\n",
        "    \n",
        "    bottom, top = ax.get_ylim()\n",
        "    ax.set_ylim(bottom + 0.5, top - 0.5)\n",
        "    \n",
        "plot_conf_mat(y_test, y_preds)"
      ],
      "execution_count": 57,
      "outputs": [
        {
          "output_type": "display_data",
          "data": {
            "image/png": "[encoded data removed]",
            "text/plain": [
              "<Figure size 216x216 with 1 Axes>"
            ]
          },
          "metadata": {
            "tags": []
          }
        }
      ]
    },
    {
      "cell_type": "markdown",
      "metadata": {
        "tags": [],
        "cell_id": "00077-cd803ecc-807c-45b5-9afb-777f8435a6b1",
        "deepnote_cell_type": "markdown",
        "id": "ONKSKPCgF_r8"
      },
      "source": [
        "### **Classification Report**"
      ]
    },
    {
      "cell_type": "code",
      "metadata": {
        "tags": [],
        "cell_id": "00077-e9341d5f-476b-4963-9aae-ee77e3cc7690",
        "deepnote_to_be_reexecuted": false,
        "source_hash": "b22c6e8e",
        "execution_millis": 10,
        "execution_start": 1615403509616,
        "deepnote_cell_type": "code",
        "colab": {
          "base_uri": "https://localhost:8080/"
        },
        "id": "qrXfpGY-F_r8",
        "outputId": "941678cd-1615-4a23-87c9-2e0dbc5e9d51"
      },
      "source": [
        "\n",
        "print(classification_report(y_test, y_preds))\n"
      ],
      "execution_count": 58,
      "outputs": [
        {
          "output_type": "stream",
          "text": [
            "              precision    recall  f1-score   support\n",
            "\n",
            "           0       0.90      0.95      0.92        38\n",
            "           1       0.90      0.83      0.86        23\n",
            "\n",
            "    accuracy                           0.90        61\n",
            "   macro avg       0.90      0.89      0.89        61\n",
            "weighted avg       0.90      0.90      0.90        61\n",
            "\n"
          ],
          "name": "stdout"
        }
      ]
    },
    {
      "cell_type": "markdown",
      "metadata": {
        "tags": [],
        "cell_id": "00079-f0f5e190-40df-488f-88c5-44d30af8ef3d",
        "deepnote_cell_type": "markdown",
        "id": "kDIoEK35F_r8"
      },
      "source": [
        "**Cross Validation** could be used on the metrics to improve the model evaluation "
      ]
    },
    {
      "cell_type": "markdown",
      "metadata": {
        "tags": [],
        "cell_id": "00080-e7869457-285b-4eeb-9f9d-5fe28069b944",
        "deepnote_cell_type": "markdown",
        "id": "M9D6h1oDF_r8"
      },
      "source": [
        "### **Feature Importance**\n",
        "We will investigate the feature importance using the two models. "
      ]
    },
    {
      "cell_type": "code",
      "metadata": {
        "tags": [],
        "cell_id": "00081-307a655e-d08d-4907-b8fd-7d0cc8a9a03a",
        "deepnote_to_be_reexecuted": false,
        "source_hash": "8c519cad",
        "execution_millis": 14,
        "execution_start": 1615403509639,
        "deepnote_cell_type": "code",
        "colab": {
          "base_uri": "https://localhost:8080/"
        },
        "id": "Xa0jU_NmF_r9",
        "outputId": "c2df5d2e-a8a2-42d7-ea57-e5c95f3113cd"
      },
      "source": [
        "# Feature Importance : RandomForest Classifier model\n",
        "\n",
        "# Use best parameters from the Model training\n",
        "\n",
        "rs_lr_reg.best_params_"
      ],
      "execution_count": 59,
      "outputs": [
        {
          "output_type": "execute_result",
          "data": {
            "text/plain": [
              "{'C': 0.08858667904100823, 'solver': 'liblinear'}"
            ]
          },
          "metadata": {
            "tags": []
          },
          "execution_count": 59
        }
      ]
    },
    {
      "cell_type": "code",
      "metadata": {
        "tags": [],
        "cell_id": "00083-157c757c-f1bb-4ede-9f95-c68af3a3ae9e",
        "deepnote_to_be_reexecuted": false,
        "source_hash": "f48dea69",
        "execution_millis": 38,
        "execution_start": 1615403739272,
        "deepnote_cell_type": "code",
        "colab": {
          "base_uri": "https://localhost:8080/"
        },
        "id": "wVnmStgqF_r9",
        "outputId": "630d7f9e-3db9-4a8f-9e3c-a3a3e5e0c8f3"
      },
      "source": [
        "# Create a new classifier with best parameters\n",
        "#fit to training set\n",
        "\n",
        "log = LogisticRegression(solver= 'liblinear', C=  0.08858667904100823)\n",
        "\n",
        "log.fit(X_train, y_train)"
      ],
      "execution_count": 60,
      "outputs": [
        {
          "output_type": "execute_result",
          "data": {
            "text/plain": [
              "LogisticRegression(C=0.08858667904100823, class_weight=None, dual=False,\n",
              "                   fit_intercept=True, intercept_scaling=1, l1_ratio=None,\n",
              "                   max_iter=100, multi_class='auto', n_jobs=None, penalty='l2',\n",
              "                   random_state=None, solver='liblinear', tol=0.0001, verbose=0,\n",
              "                   warm_start=False)"
            ]
          },
          "metadata": {
            "tags": []
          },
          "execution_count": 60
        }
      ]
    },
    {
      "cell_type": "code",
      "metadata": {
        "tags": [],
        "cell_id": "00084-9b215c43-3bbb-4284-af9a-9ed32ff45c53",
        "deepnote_to_be_reexecuted": false,
        "source_hash": "cfca8218",
        "execution_millis": 7,
        "execution_start": 1615403745913,
        "deepnote_cell_type": "code",
        "colab": {
          "base_uri": "https://localhost:8080/"
        },
        "id": "otZeE1s1F_r9",
        "outputId": "2a9522af-50ed-45ac-9560-e71e01485589"
      },
      "source": [
        "#Get coeffs\n",
        "\n",
        "log.coef_"
      ],
      "execution_count": 61,
      "outputs": [
        {
          "output_type": "execute_result",
          "data": {
            "text/plain": [
              "array([[-0.03429285,  0.33202136,  0.36854623,  0.01742132,  0.00292448,\n",
              "        -0.10181736,  0.18790965, -0.03514772,  0.33387521,  0.22895927,\n",
              "         0.09487139,  0.69225929,  0.33178591]])"
            ]
          },
          "metadata": {
            "tags": []
          },
          "execution_count": 61
        }
      ]
    },
    {
      "cell_type": "code",
      "metadata": {
        "tags": [],
        "cell_id": "00085-f79989ce-8eca-4290-bed0-9721ed9cfa48",
        "deepnote_to_be_reexecuted": false,
        "source_hash": "5abc150",
        "execution_millis": 11,
        "execution_start": 1615403749427,
        "deepnote_cell_type": "code",
        "colab": {
          "base_uri": "https://localhost:8080/"
        },
        "id": "wyJVl-oIF_r-",
        "outputId": "c1f4e7a3-8be6-4954-a316-58f5b44acf97"
      },
      "source": [
        "# Match coeff's of features to columns\n",
        "features = dict(zip(hd_data.columns, list(log.coef_[0])))\n",
        "features"
      ],
      "execution_count": 62,
      "outputs": [
        {
          "output_type": "execute_result",
          "data": {
            "text/plain": [
              "{'age': -0.03429285416994057,\n",
              " 'ca': 0.6922592915516717,\n",
              " 'chol': 0.00292447619214354,\n",
              " 'cp': 0.3685462343577038,\n",
              " 'exang': 0.3338752142827483,\n",
              " 'fbs': -0.10181736107104442,\n",
              " 'oldpeak': 0.22895926883065576,\n",
              " 'restecg': 0.18790964781427671,\n",
              " 'sex': 0.3320213557445031,\n",
              " 'slope': 0.09487138895334002,\n",
              " 'thal': 0.3317859111646087,\n",
              " 'thalach': -0.035147724022534535,\n",
              " 'trestbps': 0.017421324550620808}"
            ]
          },
          "metadata": {
            "tags": []
          },
          "execution_count": 62
        }
      ]
    },
    {
      "cell_type": "code",
      "metadata": {
        "tags": [],
        "cell_id": "00086-ac4b7b8d-e770-49bd-b4ba-229ead3d4fda",
        "deepnote_to_be_reexecuted": false,
        "source_hash": "13355a2f",
        "execution_millis": 228,
        "execution_start": 1615403757590,
        "deepnote_cell_type": "code",
        "colab": {
          "base_uri": "https://localhost:8080/",
          "height": 346
        },
        "id": "t7lgm50gF_r-",
        "outputId": "be485fad-1889-4567-e6ed-ff2f24fc3245"
      },
      "source": [
        "# Visualize feature importance\n",
        "feature_df = pd.DataFrame(features, index=[0])\n",
        "feature_df.T.plot.bar(title=\"Feature Importance\", legend=False);"
      ],
      "execution_count": 63,
      "outputs": [
        {
          "output_type": "display_data",
          "data": {
            "image/png": "[encoded data removed]",
            "text/plain": [
              "<Figure size 432x288 with 1 Axes>"
            ]
          },
          "metadata": {
            "tags": []
          }
        }
      ]
    },
    {
      "cell_type": "code",
      "metadata": {
        "colab": {
          "base_uri": "https://localhost:8080/"
        },
        "id": "jxbl9r2wL7YO",
        "cell_id": "00033-074b6f9f-20ea-495d-be34-f97f931ca530",
        "deepnote_to_be_reexecuted": false,
        "source_hash": "af732ddd",
        "execution_millis": 1324,
        "execution_start": 1615403509883,
        "deepnote_cell_type": "code",
        "outputId": "a20a4111-fb38-460d-8017-0d072c243f5c"
      },
      "source": [
        "\n",
        "# Feature Importance : RandomForest Classifier model\n",
        "\n",
        "# Use best parameters from the Model training\n",
        "\n",
        "# Create a new classifier with best parameters\n",
        "\n",
        "\n",
        "rf = RandomForestClassifier(n_estimators = 1074,\n",
        "                            min_samples_split= 10,\n",
        "                            min_samples_leaf= 7,\n",
        "                            max_features= 'auto',\n",
        "                            max_depth= None)\n",
        "\n",
        "\n",
        "\n",
        "rf.fit(X_train,y_train)\n"
      ],
      "execution_count": 64,
      "outputs": [
        {
          "output_type": "execute_result",
          "data": {
            "text/plain": [
              "RandomForestClassifier(bootstrap=True, ccp_alpha=0.0, class_weight=None,\n",
              "                       criterion='gini', max_depth=None, max_features='auto',\n",
              "                       max_leaf_nodes=None, max_samples=None,\n",
              "                       min_impurity_decrease=0.0, min_impurity_split=None,\n",
              "                       min_samples_leaf=7, min_samples_split=10,\n",
              "                       min_weight_fraction_leaf=0.0, n_estimators=1074,\n",
              "                       n_jobs=None, oob_score=False, random_state=None,\n",
              "                       verbose=0, warm_start=False)"
            ]
          },
          "metadata": {
            "tags": []
          },
          "execution_count": 64
        }
      ]
    },
    {
      "cell_type": "markdown",
      "metadata": {
        "tags": [],
        "cell_id": "00087-ca1922cb-99c5-40cd-9109-98c47b0c6bb1",
        "deepnote_cell_type": "markdown",
        "id": "gngc1A_4F_r_"
      },
      "source": [
        "-----\n",
        "-----"
      ]
    },
    {
      "cell_type": "markdown",
      "metadata": {
        "tags": [],
        "cell_id": "00088-648e87b6-d9d8-4bca-95ac-7b52c62128ac",
        "deepnote_cell_type": "markdown",
        "id": "Tg-NZ49nF_r_"
      },
      "source": [
        "------"
      ]
    },
    {
      "cell_type": "code",
      "metadata": {
        "colab": {
          "base_uri": "https://localhost:8080/"
        },
        "id": "VNT2jMrOogO8",
        "cell_id": "00034-54560d02-77c1-4f94-9772-5ff287bf7ca0",
        "deepnote_to_be_reexecuted": false,
        "source_hash": "e7e20226",
        "execution_millis": 15,
        "execution_start": 1615403511295,
        "deepnote_cell_type": "code",
        "outputId": "f6a679d6-8acb-49af-cdd0-8173c05316c4"
      },
      "source": [
        "# feature Importance\n",
        "\n",
        "print(rf.feature_importances_)"
      ],
      "execution_count": 65,
      "outputs": [
        {
          "output_type": "stream",
          "text": [
            "[0.05242406 0.03696645 0.13774292 0.03850569 0.03836825 0.00139735\n",
            " 0.01411101 0.12769853 0.0695656  0.0881117  0.06079336 0.1656218\n",
            " 0.16869327]\n"
          ],
          "name": "stdout"
        }
      ]
    },
    {
      "cell_type": "markdown",
      "metadata": {
        "tags": [],
        "cell_id": "00089-7f97268e-ae89-491b-85e1-12c4e0eebdab",
        "deepnote_cell_type": "markdown",
        "id": "P9SkswjbF_sA"
      },
      "source": [
        "____"
      ]
    },
    {
      "cell_type": "markdown",
      "metadata": {
        "tags": [],
        "cell_id": "00090-7512d88a-416c-4959-bbcb-67340b9f6e0d",
        "deepnote_cell_type": "markdown",
        "id": "wbKcE9ziF_sA"
      },
      "source": [
        ""
      ]
    },
    {
      "cell_type": "markdown",
      "metadata": {
        "tags": [],
        "cell_id": "00089-b595412c-4756-401d-87fd-6ea498a470d4",
        "deepnote_cell_type": "markdown",
        "id": "DFu3Ooa8F_sA"
      },
      "source": [
        "-----"
      ]
    },
    {
      "cell_type": "code",
      "metadata": {
        "colab": {
          "base_uri": "https://localhost:8080/",
          "height": 276
        },
        "id": "Qujips4toixj",
        "cell_id": "00035-faaf8c04-8240-4dc2-a22d-65b80376c28f",
        "deepnote_to_be_reexecuted": false,
        "source_hash": "9cdb0091",
        "execution_millis": 218,
        "execution_start": 1615403511381,
        "deepnote_cell_type": "code",
        "outputId": "d40c2957-b641-40a1-ab22-7156ab0751f8"
      },
      "source": [
        "#plot graph of feature importances for better visualization\n",
        "\n",
        "feat_importances = pd.Series(rf.feature_importances_, index=X.columns)\n",
        "feat_importances.nlargest(10).plot(kind='barh')\n",
        "plt.show()"
      ],
      "execution_count": 66,
      "outputs": [
        {
          "output_type": "display_data",
          "data": {
            "image/png": "[encoded data removed]",
            "text/plain": [
              "<Figure size 432x288 with 1 Axes>"
            ]
          },
          "metadata": {
            "tags": []
          }
        }
      ]
    },
    {
      "cell_type": "markdown",
      "metadata": {
        "id": "-0N270_BpIfE",
        "cell_id": "00036-7a231ab9-0dcf-413f-a3be-6ac013134917",
        "deepnote_cell_type": "markdown"
      },
      "source": [
        "#### **Top three important features**\n",
        "Top three important features (based on the two models)\n",
        "- **'thal'** *thalium stress result*\n",
        "- **'ca'**: *number of major vessels (0-3) colored by flourosopy*\n",
        "- **'oldpeak'**: *ST depression induced by exercise relative to rest looks at stress of heart during excercise unhealthy heart will stress more*\n",
        "\n",
        "*Strange to see that 'sex' only appears as an important feature in the Logistic regression Model."
      ]
    },
    {
      "cell_type": "markdown",
      "metadata": {
        "tags": [],
        "cell_id": "00095-f97dd48a-90d4-4c96-9a23-0a1459afc286",
        "deepnote_cell_type": "markdown",
        "id": "OF5op43mF_sB"
      },
      "source": [
        "### **Essemble learning** \n",
        "using logistic Regression and Random Forest Classifier as an improve predictive model "
      ]
    },
    {
      "cell_type": "code",
      "metadata": {
        "tags": [],
        "cell_id": "00096-427c5fdd-2b15-4b9b-8312-0f331c59fe84",
        "deepnote_to_be_reexecuted": false,
        "source_hash": "74e4b7f7",
        "execution_millis": 1,
        "execution_start": 1615403511580,
        "deepnote_cell_type": "code",
        "id": "4Oyk37MWF_sB"
      },
      "source": [
        "#Create and train a voting clasifier \n",
        "\n",
        "from sklearn.model_selection import RepeatedStratifiedKFold\n",
        "from sklearn.model_selection import cross_val_score\n",
        "from sklearn.ensemble import RandomForestClassifier \n",
        "from sklearn.ensemble import VotingClassifier \n",
        "from sklearn.linear_model import LogisticRegression\n",
        " "
      ],
      "execution_count": 68,
      "outputs": []
    },
    {
      "cell_type": "code",
      "metadata": {
        "tags": [],
        "cell_id": "00097-bcc390cb-22d9-431f-914d-f850d8905976",
        "deepnote_to_be_reexecuted": false,
        "source_hash": "f797d3c1",
        "execution_millis": 1,
        "execution_start": 1615403511625,
        "deepnote_cell_type": "code",
        "id": "KsXIyMPOF_sC"
      },
      "source": [
        "ensemble = VotingClassifier(estimators=[('rf', rf), ('lr', log )], voting = 'hard')\n"
      ],
      "execution_count": 69,
      "outputs": []
    },
    {
      "cell_type": "code",
      "metadata": {
        "tags": [],
        "cell_id": "00098-66c36b07-8356-410b-8f7b-9ec573b9ada3",
        "deepnote_to_be_reexecuted": false,
        "source_hash": "ac0a788d",
        "execution_millis": 30568,
        "execution_start": 1615403511626,
        "deepnote_cell_type": "code",
        "id": "u6p9Z_kVF_sC"
      },
      "source": [
        "cv = RepeatedStratifiedKFold(n_splits=10, n_repeats=3, random_state=1)\n",
        "n_scores = cross_val_score(ensemble, X_train, y_train, scoring='accuracy', cv=cv, n_jobs=-1)"
      ],
      "execution_count": 70,
      "outputs": []
    },
    {
      "cell_type": "code",
      "metadata": {
        "tags": [],
        "cell_id": "00099-aaf6c483-5ed2-4118-914b-898717bbddaa",
        "deepnote_to_be_reexecuted": false,
        "source_hash": "31929208",
        "execution_millis": 7,
        "execution_start": 1615403542195,
        "deepnote_cell_type": "code",
        "colab": {
          "base_uri": "https://localhost:8080/"
        },
        "id": "WKaSWpUcF_sC",
        "outputId": "a5f647c4-6744-4c6d-d9ed-dcbc8c139d5b"
      },
      "source": [
        "n_scores"
      ],
      "execution_count": 71,
      "outputs": [
        {
          "output_type": "execute_result",
          "data": {
            "text/plain": [
              "array([0.76      , 0.92      , 0.79166667, 0.875     , 0.79166667,\n",
              "       0.83333333, 0.79166667, 0.83333333, 0.91666667, 0.75      ,\n",
              "       0.72      , 0.88      , 0.91666667, 0.83333333, 0.70833333,\n",
              "       0.91666667, 0.75      , 0.91666667, 0.875     , 0.70833333,\n",
              "       0.96      , 0.92      , 0.79166667, 0.66666667, 0.83333333,\n",
              "       0.83333333, 0.79166667, 0.79166667, 0.66666667, 0.95833333])"
            ]
          },
          "metadata": {
            "tags": []
          },
          "execution_count": 71
        }
      ]
    },
    {
      "cell_type": "code",
      "metadata": {
        "tags": [],
        "cell_id": "00100-96e77b87-a0b5-4fad-9462-45b738c2ed27",
        "deepnote_to_be_reexecuted": false,
        "source_hash": "f34a3b47",
        "execution_millis": 7,
        "execution_start": 1615403542195,
        "deepnote_cell_type": "code",
        "colab": {
          "base_uri": "https://localhost:8080/"
        },
        "id": "P57Qwj0aF_sD",
        "outputId": "71f7c618-bf45-482e-8803-c65587624d7a"
      },
      "source": [
        "n_scores.mean()"
      ],
      "execution_count": 72,
      "outputs": [
        {
          "output_type": "execute_result",
          "data": {
            "text/plain": [
              "0.823388888888889"
            ]
          },
          "metadata": {
            "tags": []
          },
          "execution_count": 72
        }
      ]
    },
    {
      "cell_type": "code",
      "metadata": {
        "tags": [],
        "cell_id": "00101-addcc570-72ba-4a62-99bc-e19bc6fb8679",
        "deepnote_to_be_reexecuted": false,
        "source_hash": "30d3141d",
        "execution_millis": 1302,
        "execution_start": 1615403542196,
        "deepnote_cell_type": "code",
        "colab": {
          "base_uri": "https://localhost:8080/"
        },
        "id": "aP-7G7E-F_sD",
        "outputId": "e40cd160-8fbf-4051-dd84-11c669583f43"
      },
      "source": [
        "# Evaluate the Voting Classifier model\n",
        "ensemble.fit(X_train, y_train)\n"
      ],
      "execution_count": 73,
      "outputs": [
        {
          "output_type": "execute_result",
          "data": {
            "text/plain": [
              "VotingClassifier(estimators=[('rf',\n",
              "                              RandomForestClassifier(bootstrap=True,\n",
              "                                                     ccp_alpha=0.0,\n",
              "                                                     class_weight=None,\n",
              "                                                     criterion='gini',\n",
              "                                                     max_depth=None,\n",
              "                                                     max_features='auto',\n",
              "                                                     max_leaf_nodes=None,\n",
              "                                                     max_samples=None,\n",
              "                                                     min_impurity_decrease=0.0,\n",
              "                                                     min_impurity_split=None,\n",
              "                                                     min_samples_leaf=7,\n",
              "                                                     min_samples_split=10,\n",
              "                                                     min_weight_fraction_leaf=0.0,\n",
              "                                                     n_estimators=1074,\n",
              "                                                     n_jobs=None,\n",
              "                                                     oob_sco...\n",
              "                                                     verbose=0,\n",
              "                                                     warm_start=False)),\n",
              "                             ('lr',\n",
              "                              LogisticRegression(C=0.08858667904100823,\n",
              "                                                 class_weight=None, dual=False,\n",
              "                                                 fit_intercept=True,\n",
              "                                                 intercept_scaling=1,\n",
              "                                                 l1_ratio=None, max_iter=100,\n",
              "                                                 multi_class='auto',\n",
              "                                                 n_jobs=None, penalty='l2',\n",
              "                                                 random_state=None,\n",
              "                                                 solver='liblinear', tol=0.0001,\n",
              "                                                 verbose=0,\n",
              "                                                 warm_start=False))],\n",
              "                 flatten_transform=True, n_jobs=None, voting='hard',\n",
              "                 weights=None)"
            ]
          },
          "metadata": {
            "tags": []
          },
          "execution_count": 73
        }
      ]
    },
    {
      "cell_type": "code",
      "metadata": {
        "tags": [],
        "cell_id": "00102-0c2f0168-f35b-4025-b3c2-3b470f5f5ce8",
        "deepnote_to_be_reexecuted": false,
        "source_hash": "5159379a",
        "execution_millis": 104,
        "execution_start": 1615403543494,
        "deepnote_cell_type": "code",
        "colab": {
          "base_uri": "https://localhost:8080/"
        },
        "id": "mHPzukKaF_sE",
        "outputId": "56ad67d2-0858-483e-a6fe-725ad1916db3"
      },
      "source": [
        "ensemble.score(X_test,y_test)"
      ],
      "execution_count": 74,
      "outputs": [
        {
          "output_type": "execute_result",
          "data": {
            "text/plain": [
              "0.9016393442622951"
            ]
          },
          "metadata": {
            "tags": []
          },
          "execution_count": 74
        }
      ]
    },
    {
      "cell_type": "code",
      "metadata": {
        "tags": [],
        "cell_id": "00103-32fd9b2b-2f55-489f-a45b-2b92f851d2a9",
        "deepnote_to_be_reexecuted": false,
        "source_hash": "8974198c",
        "execution_millis": 89,
        "execution_start": 1615403543603,
        "deepnote_cell_type": "code",
        "id": "CRMuhSibF_sE"
      },
      "source": [
        "y_pred = ensemble.predict(X_test)"
      ],
      "execution_count": 75,
      "outputs": []
    },
    {
      "cell_type": "code",
      "metadata": {
        "tags": [],
        "cell_id": "00104-88521cae-a3c2-4797-87cd-53623073e961",
        "deepnote_to_be_reexecuted": false,
        "source_hash": "13ae2281",
        "execution_millis": 17,
        "execution_start": 1615403543694,
        "deepnote_cell_type": "code",
        "colab": {
          "base_uri": "https://localhost:8080/"
        },
        "id": "DLUafzhWF_sE",
        "outputId": "19718267-0f3b-46c0-d7b8-7e1f251a8c41"
      },
      "source": [
        "print(classification_report(y_test, y_pred))"
      ],
      "execution_count": 76,
      "outputs": [
        {
          "output_type": "stream",
          "text": [
            "              precision    recall  f1-score   support\n",
            "\n",
            "           0       0.86      1.00      0.93        38\n",
            "           1       1.00      0.74      0.85        23\n",
            "\n",
            "    accuracy                           0.90        61\n",
            "   macro avg       0.93      0.87      0.89        61\n",
            "weighted avg       0.92      0.90      0.90        61\n",
            "\n"
          ],
          "name": "stdout"
        }
      ]
    },
    {
      "cell_type": "code",
      "metadata": {
        "tags": [],
        "cell_id": "00105-463959b5-66c7-4828-9f2e-dc5000274dd2",
        "deepnote_to_be_reexecuted": false,
        "source_hash": "f97bd288",
        "execution_millis": 215,
        "execution_start": 1615403543706,
        "deepnote_cell_type": "code",
        "colab": {
          "base_uri": "https://localhost:8080/",
          "height": 243
        },
        "id": "kW7X4YxIF_sE",
        "outputId": "7600a13f-c7c6-4806-93e6-fab7d840af16"
      },
      "source": [
        "#confusion matrix\n",
        "\n",
        "plot_conf_mat(y_test, y_pred)"
      ],
      "execution_count": 77,
      "outputs": [
        {
          "output_type": "display_data",
          "data": {
            "image/png": "[encoded data removed]",
            "text/plain": [
              "<Figure size 216x216 with 1 Axes>"
            ]
          },
          "metadata": {
            "tags": []
          }
        }
      ]
    },
    {
      "cell_type": "code",
      "metadata": {
        "id": "Oz0QIwzyLjiH"
      },
      "source": [
        "file = open('model_ensemble.pkl', 'wb')\r\n",
        "\r\n",
        "# dump information to that file\r\n",
        "pickle.dump(ensemble, file)"
      ],
      "execution_count": 79,
      "outputs": []
    }
  ]
}