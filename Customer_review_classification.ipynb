{
  "nbformat": 4,
  "nbformat_minor": 0,
  "metadata": {
    "colab": {
      "name": "Customer review classification.ipynb",
      "provenance": [],
      "authorship_tag": "ABX9TyPW1SBRHUlOZ7Hb8f2zAKDS"
    },
    "kernelspec": {
      "name": "python3",
      "display_name": "Python 3"
    }
  },
  "cells": [
    {
      "cell_type": "markdown",
      "metadata": {
        "id": "Ul9UhZjbRFux",
        "colab_type": "text"
      },
      "source": [
        "#**Product: Amazon Alexa**\n",
        "\n",
        "- Dataset consists of 3000 Amazon customer reviews, star ratings, date of review, variant and feedback of various amazon Alexa products like Alexa Echo, Echo dots.\n",
        "- **The objective is to discover insights into consumer reviews and perfrom sentiment analysis on the data.** Positive or Negative review?\n",
        "- Dataset: www.kaggle.com/sid321axn/amazon-alexa-reviews\n",
        "---"
      ]
    },
    {
      "cell_type": "markdown",
      "metadata": {
        "id": "jlwvKT6Mj3S1",
        "colab_type": "text"
      },
      "source": [
        "# **Import Libraries and Dataset**"
      ]
    },
    {
      "cell_type": "code",
      "metadata": {
        "id": "g0FWiDwVQkaN",
        "colab_type": "code",
        "colab": {
          "base_uri": "https://localhost:8080/",
          "height": 51
        },
        "outputId": "a9f82d35-9440-402e-d6fa-a9d48de857e3"
      },
      "source": [
        "import tensorflow as tf\n",
        "import pandas as pd\n",
        "import numpy as np\n",
        "import seaborn as sns\n",
        "import matplotlib.pyplot as plt\n",
        "from tensorflow import keras"
      ],
      "execution_count": 1,
      "outputs": [
        {
          "output_type": "stream",
          "text": [
            "/usr/local/lib/python3.6/dist-packages/statsmodels/tools/_testing.py:19: FutureWarning: pandas.util.testing is deprecated. Use the functions in the public API at pandas.testing instead.\n",
            "  import pandas.util.testing as tm\n"
          ],
          "name": "stderr"
        }
      ]
    },
    {
      "cell_type": "code",
      "metadata": {
        "id": "FJJVDO0SRnuT",
        "colab_type": "code",
        "colab": {
          "base_uri": "https://localhost:8080/",
          "height": 122
        },
        "outputId": "bb832f7b-a2fb-47ad-b4b5-b056f1f0ae9b"
      },
      "source": [
        "from google.colab import drive\n",
        "drive.mount('/content/drive')"
      ],
      "execution_count": 2,
      "outputs": [
        {
          "output_type": "stream",
          "text": [
            "Go to this URL in a browser: https://accounts.google.com/o/oauth2/auth?client_id=947318989803-6bn6qk8qdgf4n4g3pfee6491hc0brc4i.apps.googleusercontent.com&redirect_uri=urn%3aietf%3awg%3aoauth%3a2.0%3aoob&scope=email%20https%3a%2f%2fwww.googleapis.com%2fauth%2fdocs.test%20https%3a%2f%2fwww.googleapis.com%2fauth%2fdrive%20https%3a%2f%2fwww.googleapis.com%2fauth%2fdrive.photos.readonly%20https%3a%2f%2fwww.googleapis.com%2fauth%2fpeopleapi.readonly&response_type=code\n",
            "\n",
            "Enter your authorization code:\n",
            "··········\n",
            "Mounted at /content/drive\n"
          ],
          "name": "stdout"
        }
      ]
    },
    {
      "cell_type": "code",
      "metadata": {
        "id": "6XXZGIibSAy7",
        "colab_type": "code",
        "colab": {}
      },
      "source": [
        "alexa_df = pd.read_csv('/content/drive/My Drive/Colab Notebooks/Datasets/amazon_alexa.tsv', sep='\\t')"
      ],
      "execution_count": 3,
      "outputs": []
    },
    {
      "cell_type": "code",
      "metadata": {
        "id": "3HgUY28FSSQc",
        "colab_type": "code",
        "colab": {
          "base_uri": "https://localhost:8080/",
          "height": 204
        },
        "outputId": "286dc7df-f694-43cf-9612-ede569aba497"
      },
      "source": [
        "alexa_df.head()"
      ],
      "execution_count": 4,
      "outputs": [
        {
          "output_type": "execute_result",
          "data": {
            "text/html": [
              "<div>\n",
              "<style scoped>\n",
              "    .dataframe tbody tr th:only-of-type {\n",
              "        vertical-align: middle;\n",
              "    }\n",
              "\n",
              "    .dataframe tbody tr th {\n",
              "        vertical-align: top;\n",
              "    }\n",
              "\n",
              "    .dataframe thead th {\n",
              "        text-align: right;\n",
              "    }\n",
              "</style>\n",
              "<table border=\"1\" class=\"dataframe\">\n",
              "  <thead>\n",
              "    <tr style=\"text-align: right;\">\n",
              "      <th></th>\n",
              "      <th>rating</th>\n",
              "      <th>date</th>\n",
              "      <th>variation</th>\n",
              "      <th>verified_reviews</th>\n",
              "      <th>feedback</th>\n",
              "    </tr>\n",
              "  </thead>\n",
              "  <tbody>\n",
              "    <tr>\n",
              "      <th>0</th>\n",
              "      <td>5</td>\n",
              "      <td>31-Jul-18</td>\n",
              "      <td>Charcoal Fabric</td>\n",
              "      <td>Love my Echo!</td>\n",
              "      <td>1</td>\n",
              "    </tr>\n",
              "    <tr>\n",
              "      <th>1</th>\n",
              "      <td>5</td>\n",
              "      <td>31-Jul-18</td>\n",
              "      <td>Charcoal Fabric</td>\n",
              "      <td>Loved it!</td>\n",
              "      <td>1</td>\n",
              "    </tr>\n",
              "    <tr>\n",
              "      <th>2</th>\n",
              "      <td>4</td>\n",
              "      <td>31-Jul-18</td>\n",
              "      <td>Walnut Finish</td>\n",
              "      <td>Sometimes while playing a game, you can answer...</td>\n",
              "      <td>1</td>\n",
              "    </tr>\n",
              "    <tr>\n",
              "      <th>3</th>\n",
              "      <td>5</td>\n",
              "      <td>31-Jul-18</td>\n",
              "      <td>Charcoal Fabric</td>\n",
              "      <td>I have had a lot of fun with this thing. My 4 ...</td>\n",
              "      <td>1</td>\n",
              "    </tr>\n",
              "    <tr>\n",
              "      <th>4</th>\n",
              "      <td>5</td>\n",
              "      <td>31-Jul-18</td>\n",
              "      <td>Charcoal Fabric</td>\n",
              "      <td>Music</td>\n",
              "      <td>1</td>\n",
              "    </tr>\n",
              "  </tbody>\n",
              "</table>\n",
              "</div>"
            ],
            "text/plain": [
              "   rating  ... feedback\n",
              "0       5  ...        1\n",
              "1       5  ...        1\n",
              "2       4  ...        1\n",
              "3       5  ...        1\n",
              "4       5  ...        1\n",
              "\n",
              "[5 rows x 5 columns]"
            ]
          },
          "metadata": {
            "tags": []
          },
          "execution_count": 4
        }
      ]
    },
    {
      "cell_type": "code",
      "metadata": {
        "id": "HRO-otzxSrnQ",
        "colab_type": "code",
        "colab": {
          "base_uri": "https://localhost:8080/",
          "height": 221
        },
        "outputId": "7ccc8171-614d-422a-cf1f-cb79b5f644e8"
      },
      "source": [
        "alexa_df['verified_reviews']"
      ],
      "execution_count": 5,
      "outputs": [
        {
          "output_type": "execute_result",
          "data": {
            "text/plain": [
              "0                                           Love my Echo!\n",
              "1                                               Loved it!\n",
              "2       Sometimes while playing a game, you can answer...\n",
              "3       I have had a lot of fun with this thing. My 4 ...\n",
              "4                                                   Music\n",
              "                              ...                        \n",
              "3145    Perfect for kids, adults and everyone in betwe...\n",
              "3146    Listening to music, searching locations, check...\n",
              "3147    I do love these things, i have them running my...\n",
              "3148    Only complaint I have is that the sound qualit...\n",
              "3149                                                 Good\n",
              "Name: verified_reviews, Length: 3150, dtype: object"
            ]
          },
          "metadata": {
            "tags": []
          },
          "execution_count": 5
        }
      ]
    },
    {
      "cell_type": "code",
      "metadata": {
        "id": "9fhF0GVRTesq",
        "colab_type": "code",
        "colab": {}
      },
      "source": [
        "positive = alexa_df[alexa_df['feedback']==1]\n",
        "negative = alexa_df[alexa_df['feedback']==0]"
      ],
      "execution_count": 6,
      "outputs": []
    },
    {
      "cell_type": "code",
      "metadata": {
        "id": "T_IQOjwQUMqg",
        "colab_type": "code",
        "colab": {
          "base_uri": "https://localhost:8080/",
          "height": 419
        },
        "outputId": "250dd303-d98c-4699-eb60-c0d5cf7d8b7e"
      },
      "source": [
        "positive"
      ],
      "execution_count": 7,
      "outputs": [
        {
          "output_type": "execute_result",
          "data": {
            "text/html": [
              "<div>\n",
              "<style scoped>\n",
              "    .dataframe tbody tr th:only-of-type {\n",
              "        vertical-align: middle;\n",
              "    }\n",
              "\n",
              "    .dataframe tbody tr th {\n",
              "        vertical-align: top;\n",
              "    }\n",
              "\n",
              "    .dataframe thead th {\n",
              "        text-align: right;\n",
              "    }\n",
              "</style>\n",
              "<table border=\"1\" class=\"dataframe\">\n",
              "  <thead>\n",
              "    <tr style=\"text-align: right;\">\n",
              "      <th></th>\n",
              "      <th>rating</th>\n",
              "      <th>date</th>\n",
              "      <th>variation</th>\n",
              "      <th>verified_reviews</th>\n",
              "      <th>feedback</th>\n",
              "    </tr>\n",
              "  </thead>\n",
              "  <tbody>\n",
              "    <tr>\n",
              "      <th>0</th>\n",
              "      <td>5</td>\n",
              "      <td>31-Jul-18</td>\n",
              "      <td>Charcoal Fabric</td>\n",
              "      <td>Love my Echo!</td>\n",
              "      <td>1</td>\n",
              "    </tr>\n",
              "    <tr>\n",
              "      <th>1</th>\n",
              "      <td>5</td>\n",
              "      <td>31-Jul-18</td>\n",
              "      <td>Charcoal Fabric</td>\n",
              "      <td>Loved it!</td>\n",
              "      <td>1</td>\n",
              "    </tr>\n",
              "    <tr>\n",
              "      <th>2</th>\n",
              "      <td>4</td>\n",
              "      <td>31-Jul-18</td>\n",
              "      <td>Walnut Finish</td>\n",
              "      <td>Sometimes while playing a game, you can answer...</td>\n",
              "      <td>1</td>\n",
              "    </tr>\n",
              "    <tr>\n",
              "      <th>3</th>\n",
              "      <td>5</td>\n",
              "      <td>31-Jul-18</td>\n",
              "      <td>Charcoal Fabric</td>\n",
              "      <td>I have had a lot of fun with this thing. My 4 ...</td>\n",
              "      <td>1</td>\n",
              "    </tr>\n",
              "    <tr>\n",
              "      <th>4</th>\n",
              "      <td>5</td>\n",
              "      <td>31-Jul-18</td>\n",
              "      <td>Charcoal Fabric</td>\n",
              "      <td>Music</td>\n",
              "      <td>1</td>\n",
              "    </tr>\n",
              "    <tr>\n",
              "      <th>...</th>\n",
              "      <td>...</td>\n",
              "      <td>...</td>\n",
              "      <td>...</td>\n",
              "      <td>...</td>\n",
              "      <td>...</td>\n",
              "    </tr>\n",
              "    <tr>\n",
              "      <th>3145</th>\n",
              "      <td>5</td>\n",
              "      <td>30-Jul-18</td>\n",
              "      <td>Black  Dot</td>\n",
              "      <td>Perfect for kids, adults and everyone in betwe...</td>\n",
              "      <td>1</td>\n",
              "    </tr>\n",
              "    <tr>\n",
              "      <th>3146</th>\n",
              "      <td>5</td>\n",
              "      <td>30-Jul-18</td>\n",
              "      <td>Black  Dot</td>\n",
              "      <td>Listening to music, searching locations, check...</td>\n",
              "      <td>1</td>\n",
              "    </tr>\n",
              "    <tr>\n",
              "      <th>3147</th>\n",
              "      <td>5</td>\n",
              "      <td>30-Jul-18</td>\n",
              "      <td>Black  Dot</td>\n",
              "      <td>I do love these things, i have them running my...</td>\n",
              "      <td>1</td>\n",
              "    </tr>\n",
              "    <tr>\n",
              "      <th>3148</th>\n",
              "      <td>5</td>\n",
              "      <td>30-Jul-18</td>\n",
              "      <td>White  Dot</td>\n",
              "      <td>Only complaint I have is that the sound qualit...</td>\n",
              "      <td>1</td>\n",
              "    </tr>\n",
              "    <tr>\n",
              "      <th>3149</th>\n",
              "      <td>4</td>\n",
              "      <td>29-Jul-18</td>\n",
              "      <td>Black  Dot</td>\n",
              "      <td>Good</td>\n",
              "      <td>1</td>\n",
              "    </tr>\n",
              "  </tbody>\n",
              "</table>\n",
              "<p>2893 rows × 5 columns</p>\n",
              "</div>"
            ],
            "text/plain": [
              "      rating  ... feedback\n",
              "0          5  ...        1\n",
              "1          5  ...        1\n",
              "2          4  ...        1\n",
              "3          5  ...        1\n",
              "4          5  ...        1\n",
              "...      ...  ...      ...\n",
              "3145       5  ...        1\n",
              "3146       5  ...        1\n",
              "3147       5  ...        1\n",
              "3148       5  ...        1\n",
              "3149       4  ...        1\n",
              "\n",
              "[2893 rows x 5 columns]"
            ]
          },
          "metadata": {
            "tags": []
          },
          "execution_count": 7
        }
      ]
    },
    {
      "cell_type": "code",
      "metadata": {
        "id": "iW7d86byUQ9A",
        "colab_type": "code",
        "colab": {
          "base_uri": "https://localhost:8080/",
          "height": 419
        },
        "outputId": "57bd0fd7-3000-46ea-a61e-d59de8685d23"
      },
      "source": [
        "negative"
      ],
      "execution_count": 8,
      "outputs": [
        {
          "output_type": "execute_result",
          "data": {
            "text/html": [
              "<div>\n",
              "<style scoped>\n",
              "    .dataframe tbody tr th:only-of-type {\n",
              "        vertical-align: middle;\n",
              "    }\n",
              "\n",
              "    .dataframe tbody tr th {\n",
              "        vertical-align: top;\n",
              "    }\n",
              "\n",
              "    .dataframe thead th {\n",
              "        text-align: right;\n",
              "    }\n",
              "</style>\n",
              "<table border=\"1\" class=\"dataframe\">\n",
              "  <thead>\n",
              "    <tr style=\"text-align: right;\">\n",
              "      <th></th>\n",
              "      <th>rating</th>\n",
              "      <th>date</th>\n",
              "      <th>variation</th>\n",
              "      <th>verified_reviews</th>\n",
              "      <th>feedback</th>\n",
              "    </tr>\n",
              "  </thead>\n",
              "  <tbody>\n",
              "    <tr>\n",
              "      <th>46</th>\n",
              "      <td>2</td>\n",
              "      <td>30-Jul-18</td>\n",
              "      <td>Charcoal Fabric</td>\n",
              "      <td>It's like Siri, in fact, Siri answers more acc...</td>\n",
              "      <td>0</td>\n",
              "    </tr>\n",
              "    <tr>\n",
              "      <th>111</th>\n",
              "      <td>2</td>\n",
              "      <td>30-Jul-18</td>\n",
              "      <td>Charcoal Fabric</td>\n",
              "      <td>Sound is terrible if u want good music too get...</td>\n",
              "      <td>0</td>\n",
              "    </tr>\n",
              "    <tr>\n",
              "      <th>141</th>\n",
              "      <td>1</td>\n",
              "      <td>30-Jul-18</td>\n",
              "      <td>Charcoal Fabric</td>\n",
              "      <td>Not much features.</td>\n",
              "      <td>0</td>\n",
              "    </tr>\n",
              "    <tr>\n",
              "      <th>162</th>\n",
              "      <td>1</td>\n",
              "      <td>30-Jul-18</td>\n",
              "      <td>Sandstone Fabric</td>\n",
              "      <td>Stopped working after 2 weeks ,didn't follow c...</td>\n",
              "      <td>0</td>\n",
              "    </tr>\n",
              "    <tr>\n",
              "      <th>176</th>\n",
              "      <td>2</td>\n",
              "      <td>30-Jul-18</td>\n",
              "      <td>Heather Gray Fabric</td>\n",
              "      <td>Sad joke. Worthless.</td>\n",
              "      <td>0</td>\n",
              "    </tr>\n",
              "    <tr>\n",
              "      <th>...</th>\n",
              "      <td>...</td>\n",
              "      <td>...</td>\n",
              "      <td>...</td>\n",
              "      <td>...</td>\n",
              "      <td>...</td>\n",
              "    </tr>\n",
              "    <tr>\n",
              "      <th>3047</th>\n",
              "      <td>1</td>\n",
              "      <td>30-Jul-18</td>\n",
              "      <td>Black  Dot</td>\n",
              "      <td>Echo Dot responds to us when we aren't even ta...</td>\n",
              "      <td>0</td>\n",
              "    </tr>\n",
              "    <tr>\n",
              "      <th>3048</th>\n",
              "      <td>1</td>\n",
              "      <td>30-Jul-18</td>\n",
              "      <td>White  Dot</td>\n",
              "      <td>NOT CONNECTED TO MY PHONE PLAYLIST :(</td>\n",
              "      <td>0</td>\n",
              "    </tr>\n",
              "    <tr>\n",
              "      <th>3067</th>\n",
              "      <td>2</td>\n",
              "      <td>30-Jul-18</td>\n",
              "      <td>Black  Dot</td>\n",
              "      <td>The only negative we have on this product is t...</td>\n",
              "      <td>0</td>\n",
              "    </tr>\n",
              "    <tr>\n",
              "      <th>3091</th>\n",
              "      <td>1</td>\n",
              "      <td>30-Jul-18</td>\n",
              "      <td>Black  Dot</td>\n",
              "      <td>I didn’t order it</td>\n",
              "      <td>0</td>\n",
              "    </tr>\n",
              "    <tr>\n",
              "      <th>3096</th>\n",
              "      <td>1</td>\n",
              "      <td>30-Jul-18</td>\n",
              "      <td>White  Dot</td>\n",
              "      <td>The product sounded the same as the emoji spea...</td>\n",
              "      <td>0</td>\n",
              "    </tr>\n",
              "  </tbody>\n",
              "</table>\n",
              "<p>257 rows × 5 columns</p>\n",
              "</div>"
            ],
            "text/plain": [
              "      rating  ... feedback\n",
              "46         2  ...        0\n",
              "111        2  ...        0\n",
              "141        1  ...        0\n",
              "162        1  ...        0\n",
              "176        2  ...        0\n",
              "...      ...  ...      ...\n",
              "3047       1  ...        0\n",
              "3048       1  ...        0\n",
              "3067       2  ...        0\n",
              "3091       1  ...        0\n",
              "3096       1  ...        0\n",
              "\n",
              "[257 rows x 5 columns]"
            ]
          },
          "metadata": {
            "tags": []
          },
          "execution_count": 8
        }
      ]
    },
    {
      "cell_type": "markdown",
      "metadata": {
        "id": "v2pcjbMjSeCN",
        "colab_type": "text"
      },
      "source": [
        "#**Data Visualization and Clean Up**"
      ]
    },
    {
      "cell_type": "code",
      "metadata": {
        "id": "aQHqmr5uUaEH",
        "colab_type": "code",
        "colab": {
          "base_uri": "https://localhost:8080/",
          "height": 298
        },
        "outputId": "13cce737-5640-4daa-8e07-0f545ed6c787"
      },
      "source": [
        "sns.countplot(alexa_df['feedback'], label = 'Count')"
      ],
      "execution_count": 9,
      "outputs": [
        {
          "output_type": "execute_result",
          "data": {
            "text/plain": [
              "<matplotlib.axes._subplots.AxesSubplot at 0x7f7a3a291eb8>"
            ]
          },
          "metadata": {
            "tags": []
          },
          "execution_count": 9
        },
        {
          "output_type": "display_data",
          "data": {
            "image/png": "[encoded data removed]",
            "text/plain": [
              "<Figure size 432x288 with 1 Axes>"
            ]
          },
          "metadata": {
            "tags": [],
            "needs_background": "light"
          }
        }
      ]
    },
    {
      "cell_type": "code",
      "metadata": {
        "id": "KwJuMFK1UvvE",
        "colab_type": "code",
        "colab": {
          "base_uri": "https://localhost:8080/",
          "height": 296
        },
        "outputId": "7e0bd4a1-8543-447b-e501-a3cd26b02a1b"
      },
      "source": [
        "sns.countplot(alexa_df['rating'], label = 'Count')"
      ],
      "execution_count": 10,
      "outputs": [
        {
          "output_type": "execute_result",
          "data": {
            "text/plain": [
              "<matplotlib.axes._subplots.AxesSubplot at 0x7f7a3a1d6f98>"
            ]
          },
          "metadata": {
            "tags": []
          },
          "execution_count": 10
        },
        {
          "output_type": "display_data",
          "data": {
            "image/png": "[encoded data removed]",
            "text/plain": [
              "<Figure size 432x288 with 1 Axes>"
            ]
          },
          "metadata": {
            "tags": [],
            "needs_background": "light"
          }
        }
      ]
    },
    {
      "cell_type": "code",
      "metadata": {
        "id": "s2LE80qHVVug",
        "colab_type": "code",
        "colab": {
          "base_uri": "https://localhost:8080/",
          "height": 623
        },
        "outputId": "e1f4173e-40b2-47fc-a9d0-5734c66fdaa9"
      },
      "source": [
        "plt.figure(figsize = (20,10))\n",
        "sns.countplot(alexa_df['variation'], label = 'Count')"
      ],
      "execution_count": 11,
      "outputs": [
        {
          "output_type": "execute_result",
          "data": {
            "text/plain": [
              "<matplotlib.axes._subplots.AxesSubplot at 0x7f7a39d0c860>"
            ]
          },
          "metadata": {
            "tags": []
          },
          "execution_count": 11
        },
        {
          "output_type": "display_data",
          "data": {
            "image/png": "[encoded data removed]",
            "text/plain": [
              "<Figure size 1440x720 with 1 Axes>"
            ]
          },
          "metadata": {
            "tags": [],
            "needs_background": "light"
          }
        }
      ]
    },
    {
      "cell_type": "code",
      "metadata": {
        "id": "E4xWfdNtVkG5",
        "colab_type": "code",
        "colab": {
          "base_uri": "https://localhost:8080/",
          "height": 593
        },
        "outputId": "3f0776a3-cd9b-45fb-ecb3-9b22e39830a3"
      },
      "source": [
        "plt.figure(figsize = (40,15))\n",
        "sns.barplot(x = 'variation', y='rating', data=alexa_df, palette = 'deep')"
      ],
      "execution_count": 12,
      "outputs": [
        {
          "output_type": "execute_result",
          "data": {
            "text/plain": [
              "<matplotlib.axes._subplots.AxesSubplot at 0x7f7a39cb5ba8>"
            ]
          },
          "metadata": {
            "tags": []
          },
          "execution_count": 12
        },
        {
          "output_type": "display_data",
          "data": {
            "image/png": "[encoded data removed]",
            "text/plain": [
              "<Figure size 2880x1080 with 1 Axes>"
            ]
          },
          "metadata": {
            "tags": [],
            "needs_background": "light"
          }
        }
      ]
    },
    {
      "cell_type": "code",
      "metadata": {
        "id": "x2fd-Y88WLGp",
        "colab_type": "code",
        "colab": {}
      },
      "source": [
        "alexa_df = alexa_df.drop(['date', 'rating'], axis=1)"
      ],
      "execution_count": null,
      "outputs": []
    },
    {
      "cell_type": "code",
      "metadata": {
        "id": "5cEx5gm-kfK7",
        "colab_type": "code",
        "colab": {
          "base_uri": "https://localhost:8080/",
          "height": 419
        },
        "outputId": "b73ad0c9-daed-42bb-df25-ba7989b328c6"
      },
      "source": [
        "alexa_df"
      ],
      "execution_count": 14,
      "outputs": [
        {
          "output_type": "execute_result",
          "data": {
            "text/html": [
              "<div>\n",
              "<style scoped>\n",
              "    .dataframe tbody tr th:only-of-type {\n",
              "        vertical-align: middle;\n",
              "    }\n",
              "\n",
              "    .dataframe tbody tr th {\n",
              "        vertical-align: top;\n",
              "    }\n",
              "\n",
              "    .dataframe thead th {\n",
              "        text-align: right;\n",
              "    }\n",
              "</style>\n",
              "<table border=\"1\" class=\"dataframe\">\n",
              "  <thead>\n",
              "    <tr style=\"text-align: right;\">\n",
              "      <th></th>\n",
              "      <th>variation</th>\n",
              "      <th>verified_reviews</th>\n",
              "      <th>feedback</th>\n",
              "    </tr>\n",
              "  </thead>\n",
              "  <tbody>\n",
              "    <tr>\n",
              "      <th>0</th>\n",
              "      <td>Charcoal Fabric</td>\n",
              "      <td>Love my Echo!</td>\n",
              "      <td>1</td>\n",
              "    </tr>\n",
              "    <tr>\n",
              "      <th>1</th>\n",
              "      <td>Charcoal Fabric</td>\n",
              "      <td>Loved it!</td>\n",
              "      <td>1</td>\n",
              "    </tr>\n",
              "    <tr>\n",
              "      <th>2</th>\n",
              "      <td>Walnut Finish</td>\n",
              "      <td>Sometimes while playing a game, you can answer...</td>\n",
              "      <td>1</td>\n",
              "    </tr>\n",
              "    <tr>\n",
              "      <th>3</th>\n",
              "      <td>Charcoal Fabric</td>\n",
              "      <td>I have had a lot of fun with this thing. My 4 ...</td>\n",
              "      <td>1</td>\n",
              "    </tr>\n",
              "    <tr>\n",
              "      <th>4</th>\n",
              "      <td>Charcoal Fabric</td>\n",
              "      <td>Music</td>\n",
              "      <td>1</td>\n",
              "    </tr>\n",
              "    <tr>\n",
              "      <th>...</th>\n",
              "      <td>...</td>\n",
              "      <td>...</td>\n",
              "      <td>...</td>\n",
              "    </tr>\n",
              "    <tr>\n",
              "      <th>3145</th>\n",
              "      <td>Black  Dot</td>\n",
              "      <td>Perfect for kids, adults and everyone in betwe...</td>\n",
              "      <td>1</td>\n",
              "    </tr>\n",
              "    <tr>\n",
              "      <th>3146</th>\n",
              "      <td>Black  Dot</td>\n",
              "      <td>Listening to music, searching locations, check...</td>\n",
              "      <td>1</td>\n",
              "    </tr>\n",
              "    <tr>\n",
              "      <th>3147</th>\n",
              "      <td>Black  Dot</td>\n",
              "      <td>I do love these things, i have them running my...</td>\n",
              "      <td>1</td>\n",
              "    </tr>\n",
              "    <tr>\n",
              "      <th>3148</th>\n",
              "      <td>White  Dot</td>\n",
              "      <td>Only complaint I have is that the sound qualit...</td>\n",
              "      <td>1</td>\n",
              "    </tr>\n",
              "    <tr>\n",
              "      <th>3149</th>\n",
              "      <td>Black  Dot</td>\n",
              "      <td>Good</td>\n",
              "      <td>1</td>\n",
              "    </tr>\n",
              "  </tbody>\n",
              "</table>\n",
              "<p>3150 rows × 3 columns</p>\n",
              "</div>"
            ],
            "text/plain": [
              "             variation  ... feedback\n",
              "0     Charcoal Fabric   ...        1\n",
              "1     Charcoal Fabric   ...        1\n",
              "2       Walnut Finish   ...        1\n",
              "3     Charcoal Fabric   ...        1\n",
              "4     Charcoal Fabric   ...        1\n",
              "...                ...  ...      ...\n",
              "3145        Black  Dot  ...        1\n",
              "3146        Black  Dot  ...        1\n",
              "3147        Black  Dot  ...        1\n",
              "3148        White  Dot  ...        1\n",
              "3149        Black  Dot  ...        1\n",
              "\n",
              "[3150 rows x 3 columns]"
            ]
          },
          "metadata": {
            "tags": []
          },
          "execution_count": 14
        }
      ]
    },
    {
      "cell_type": "code",
      "metadata": {
        "id": "l3J7fEMJ-JkO",
        "colab_type": "code",
        "colab": {}
      },
      "source": [
        "variation_dummies = pd.get_dummies(alexa_df['variation'], drop_first = True)"
      ],
      "execution_count": 15,
      "outputs": []
    },
    {
      "cell_type": "code",
      "metadata": {
        "id": "yvO9aEL4-V2c",
        "colab_type": "code",
        "colab": {
          "base_uri": "https://localhost:8080/",
          "height": 436
        },
        "outputId": "764b8d64-7ed0-40bd-a974-42ecd7b824d1"
      },
      "source": [
        "variation_dummies"
      ],
      "execution_count": 16,
      "outputs": [
        {
          "output_type": "execute_result",
          "data": {
            "text/html": [
              "<div>\n",
              "<style scoped>\n",
              "    .dataframe tbody tr th:only-of-type {\n",
              "        vertical-align: middle;\n",
              "    }\n",
              "\n",
              "    .dataframe tbody tr th {\n",
              "        vertical-align: top;\n",
              "    }\n",
              "\n",
              "    .dataframe thead th {\n",
              "        text-align: right;\n",
              "    }\n",
              "</style>\n",
              "<table border=\"1\" class=\"dataframe\">\n",
              "  <thead>\n",
              "    <tr style=\"text-align: right;\">\n",
              "      <th></th>\n",
              "      <th>Black  Dot</th>\n",
              "      <th>Black  Plus</th>\n",
              "      <th>Black  Show</th>\n",
              "      <th>Black  Spot</th>\n",
              "      <th>Charcoal Fabric</th>\n",
              "      <th>Configuration: Fire TV Stick</th>\n",
              "      <th>Heather Gray Fabric</th>\n",
              "      <th>Oak Finish</th>\n",
              "      <th>Sandstone Fabric</th>\n",
              "      <th>Walnut Finish</th>\n",
              "      <th>White</th>\n",
              "      <th>White  Dot</th>\n",
              "      <th>White  Plus</th>\n",
              "      <th>White  Show</th>\n",
              "      <th>White  Spot</th>\n",
              "    </tr>\n",
              "  </thead>\n",
              "  <tbody>\n",
              "    <tr>\n",
              "      <th>0</th>\n",
              "      <td>0</td>\n",
              "      <td>0</td>\n",
              "      <td>0</td>\n",
              "      <td>0</td>\n",
              "      <td>1</td>\n",
              "      <td>0</td>\n",
              "      <td>0</td>\n",
              "      <td>0</td>\n",
              "      <td>0</td>\n",
              "      <td>0</td>\n",
              "      <td>0</td>\n",
              "      <td>0</td>\n",
              "      <td>0</td>\n",
              "      <td>0</td>\n",
              "      <td>0</td>\n",
              "    </tr>\n",
              "    <tr>\n",
              "      <th>1</th>\n",
              "      <td>0</td>\n",
              "      <td>0</td>\n",
              "      <td>0</td>\n",
              "      <td>0</td>\n",
              "      <td>1</td>\n",
              "      <td>0</td>\n",
              "      <td>0</td>\n",
              "      <td>0</td>\n",
              "      <td>0</td>\n",
              "      <td>0</td>\n",
              "      <td>0</td>\n",
              "      <td>0</td>\n",
              "      <td>0</td>\n",
              "      <td>0</td>\n",
              "      <td>0</td>\n",
              "    </tr>\n",
              "    <tr>\n",
              "      <th>2</th>\n",
              "      <td>0</td>\n",
              "      <td>0</td>\n",
              "      <td>0</td>\n",
              "      <td>0</td>\n",
              "      <td>0</td>\n",
              "      <td>0</td>\n",
              "      <td>0</td>\n",
              "      <td>0</td>\n",
              "      <td>0</td>\n",
              "      <td>1</td>\n",
              "      <td>0</td>\n",
              "      <td>0</td>\n",
              "      <td>0</td>\n",
              "      <td>0</td>\n",
              "      <td>0</td>\n",
              "    </tr>\n",
              "    <tr>\n",
              "      <th>3</th>\n",
              "      <td>0</td>\n",
              "      <td>0</td>\n",
              "      <td>0</td>\n",
              "      <td>0</td>\n",
              "      <td>1</td>\n",
              "      <td>0</td>\n",
              "      <td>0</td>\n",
              "      <td>0</td>\n",
              "      <td>0</td>\n",
              "      <td>0</td>\n",
              "      <td>0</td>\n",
              "      <td>0</td>\n",
              "      <td>0</td>\n",
              "      <td>0</td>\n",
              "      <td>0</td>\n",
              "    </tr>\n",
              "    <tr>\n",
              "      <th>4</th>\n",
              "      <td>0</td>\n",
              "      <td>0</td>\n",
              "      <td>0</td>\n",
              "      <td>0</td>\n",
              "      <td>1</td>\n",
              "      <td>0</td>\n",
              "      <td>0</td>\n",
              "      <td>0</td>\n",
              "      <td>0</td>\n",
              "      <td>0</td>\n",
              "      <td>0</td>\n",
              "      <td>0</td>\n",
              "      <td>0</td>\n",
              "      <td>0</td>\n",
              "      <td>0</td>\n",
              "    </tr>\n",
              "    <tr>\n",
              "      <th>...</th>\n",
              "      <td>...</td>\n",
              "      <td>...</td>\n",
              "      <td>...</td>\n",
              "      <td>...</td>\n",
              "      <td>...</td>\n",
              "      <td>...</td>\n",
              "      <td>...</td>\n",
              "      <td>...</td>\n",
              "      <td>...</td>\n",
              "      <td>...</td>\n",
              "      <td>...</td>\n",
              "      <td>...</td>\n",
              "      <td>...</td>\n",
              "      <td>...</td>\n",
              "      <td>...</td>\n",
              "    </tr>\n",
              "    <tr>\n",
              "      <th>3145</th>\n",
              "      <td>1</td>\n",
              "      <td>0</td>\n",
              "      <td>0</td>\n",
              "      <td>0</td>\n",
              "      <td>0</td>\n",
              "      <td>0</td>\n",
              "      <td>0</td>\n",
              "      <td>0</td>\n",
              "      <td>0</td>\n",
              "      <td>0</td>\n",
              "      <td>0</td>\n",
              "      <td>0</td>\n",
              "      <td>0</td>\n",
              "      <td>0</td>\n",
              "      <td>0</td>\n",
              "    </tr>\n",
              "    <tr>\n",
              "      <th>3146</th>\n",
              "      <td>1</td>\n",
              "      <td>0</td>\n",
              "      <td>0</td>\n",
              "      <td>0</td>\n",
              "      <td>0</td>\n",
              "      <td>0</td>\n",
              "      <td>0</td>\n",
              "      <td>0</td>\n",
              "      <td>0</td>\n",
              "      <td>0</td>\n",
              "      <td>0</td>\n",
              "      <td>0</td>\n",
              "      <td>0</td>\n",
              "      <td>0</td>\n",
              "      <td>0</td>\n",
              "    </tr>\n",
              "    <tr>\n",
              "      <th>3147</th>\n",
              "      <td>1</td>\n",
              "      <td>0</td>\n",
              "      <td>0</td>\n",
              "      <td>0</td>\n",
              "      <td>0</td>\n",
              "      <td>0</td>\n",
              "      <td>0</td>\n",
              "      <td>0</td>\n",
              "      <td>0</td>\n",
              "      <td>0</td>\n",
              "      <td>0</td>\n",
              "      <td>0</td>\n",
              "      <td>0</td>\n",
              "      <td>0</td>\n",
              "      <td>0</td>\n",
              "    </tr>\n",
              "    <tr>\n",
              "      <th>3148</th>\n",
              "      <td>0</td>\n",
              "      <td>0</td>\n",
              "      <td>0</td>\n",
              "      <td>0</td>\n",
              "      <td>0</td>\n",
              "      <td>0</td>\n",
              "      <td>0</td>\n",
              "      <td>0</td>\n",
              "      <td>0</td>\n",
              "      <td>0</td>\n",
              "      <td>0</td>\n",
              "      <td>1</td>\n",
              "      <td>0</td>\n",
              "      <td>0</td>\n",
              "      <td>0</td>\n",
              "    </tr>\n",
              "    <tr>\n",
              "      <th>3149</th>\n",
              "      <td>1</td>\n",
              "      <td>0</td>\n",
              "      <td>0</td>\n",
              "      <td>0</td>\n",
              "      <td>0</td>\n",
              "      <td>0</td>\n",
              "      <td>0</td>\n",
              "      <td>0</td>\n",
              "      <td>0</td>\n",
              "      <td>0</td>\n",
              "      <td>0</td>\n",
              "      <td>0</td>\n",
              "      <td>0</td>\n",
              "      <td>0</td>\n",
              "      <td>0</td>\n",
              "    </tr>\n",
              "  </tbody>\n",
              "</table>\n",
              "<p>3150 rows × 15 columns</p>\n",
              "</div>"
            ],
            "text/plain": [
              "      Black  Dot  Black  Plus  ...  White  Show  White  Spot\n",
              "0              0            0  ...            0            0\n",
              "1              0            0  ...            0            0\n",
              "2              0            0  ...            0            0\n",
              "3              0            0  ...            0            0\n",
              "4              0            0  ...            0            0\n",
              "...          ...          ...  ...          ...          ...\n",
              "3145           1            0  ...            0            0\n",
              "3146           1            0  ...            0            0\n",
              "3147           1            0  ...            0            0\n",
              "3148           0            0  ...            0            0\n",
              "3149           1            0  ...            0            0\n",
              "\n",
              "[3150 rows x 15 columns]"
            ]
          },
          "metadata": {
            "tags": []
          },
          "execution_count": 16
        }
      ]
    },
    {
      "cell_type": "code",
      "metadata": {
        "id": "DDSX636Y-kl6",
        "colab_type": "code",
        "colab": {}
      },
      "source": [
        "# first let's drop the column\n",
        "alexa_df.drop(['variation'], axis=1, inplace=True)"
      ],
      "execution_count": 17,
      "outputs": []
    },
    {
      "cell_type": "code",
      "metadata": {
        "id": "HE8Y7qQz-0hg",
        "colab_type": "code",
        "colab": {}
      },
      "source": [
        "# Now let's add the encoded column again\n",
        "alexa_df = pd.concat([alexa_df, variation_dummies], axis=1)"
      ],
      "execution_count": 18,
      "outputs": []
    },
    {
      "cell_type": "code",
      "metadata": {
        "id": "Vi9_jjpt-_DU",
        "colab_type": "code",
        "colab": {
          "base_uri": "https://localhost:8080/",
          "height": 538
        },
        "outputId": "0435f39c-3f79-4fc7-c62d-9e70dc4a2975"
      },
      "source": [
        "alexa_df"
      ],
      "execution_count": 19,
      "outputs": [
        {
          "output_type": "execute_result",
          "data": {
            "text/html": [
              "<div>\n",
              "<style scoped>\n",
              "    .dataframe tbody tr th:only-of-type {\n",
              "        vertical-align: middle;\n",
              "    }\n",
              "\n",
              "    .dataframe tbody tr th {\n",
              "        vertical-align: top;\n",
              "    }\n",
              "\n",
              "    .dataframe thead th {\n",
              "        text-align: right;\n",
              "    }\n",
              "</style>\n",
              "<table border=\"1\" class=\"dataframe\">\n",
              "  <thead>\n",
              "    <tr style=\"text-align: right;\">\n",
              "      <th></th>\n",
              "      <th>verified_reviews</th>\n",
              "      <th>feedback</th>\n",
              "      <th>Black  Dot</th>\n",
              "      <th>Black  Plus</th>\n",
              "      <th>Black  Show</th>\n",
              "      <th>Black  Spot</th>\n",
              "      <th>Charcoal Fabric</th>\n",
              "      <th>Configuration: Fire TV Stick</th>\n",
              "      <th>Heather Gray Fabric</th>\n",
              "      <th>Oak Finish</th>\n",
              "      <th>Sandstone Fabric</th>\n",
              "      <th>Walnut Finish</th>\n",
              "      <th>White</th>\n",
              "      <th>White  Dot</th>\n",
              "      <th>White  Plus</th>\n",
              "      <th>White  Show</th>\n",
              "      <th>White  Spot</th>\n",
              "    </tr>\n",
              "  </thead>\n",
              "  <tbody>\n",
              "    <tr>\n",
              "      <th>0</th>\n",
              "      <td>Love my Echo!</td>\n",
              "      <td>1</td>\n",
              "      <td>0</td>\n",
              "      <td>0</td>\n",
              "      <td>0</td>\n",
              "      <td>0</td>\n",
              "      <td>1</td>\n",
              "      <td>0</td>\n",
              "      <td>0</td>\n",
              "      <td>0</td>\n",
              "      <td>0</td>\n",
              "      <td>0</td>\n",
              "      <td>0</td>\n",
              "      <td>0</td>\n",
              "      <td>0</td>\n",
              "      <td>0</td>\n",
              "      <td>0</td>\n",
              "    </tr>\n",
              "    <tr>\n",
              "      <th>1</th>\n",
              "      <td>Loved it!</td>\n",
              "      <td>1</td>\n",
              "      <td>0</td>\n",
              "      <td>0</td>\n",
              "      <td>0</td>\n",
              "      <td>0</td>\n",
              "      <td>1</td>\n",
              "      <td>0</td>\n",
              "      <td>0</td>\n",
              "      <td>0</td>\n",
              "      <td>0</td>\n",
              "      <td>0</td>\n",
              "      <td>0</td>\n",
              "      <td>0</td>\n",
              "      <td>0</td>\n",
              "      <td>0</td>\n",
              "      <td>0</td>\n",
              "    </tr>\n",
              "    <tr>\n",
              "      <th>2</th>\n",
              "      <td>Sometimes while playing a game, you can answer...</td>\n",
              "      <td>1</td>\n",
              "      <td>0</td>\n",
              "      <td>0</td>\n",
              "      <td>0</td>\n",
              "      <td>0</td>\n",
              "      <td>0</td>\n",
              "      <td>0</td>\n",
              "      <td>0</td>\n",
              "      <td>0</td>\n",
              "      <td>0</td>\n",
              "      <td>1</td>\n",
              "      <td>0</td>\n",
              "      <td>0</td>\n",
              "      <td>0</td>\n",
              "      <td>0</td>\n",
              "      <td>0</td>\n",
              "    </tr>\n",
              "    <tr>\n",
              "      <th>3</th>\n",
              "      <td>I have had a lot of fun with this thing. My 4 ...</td>\n",
              "      <td>1</td>\n",
              "      <td>0</td>\n",
              "      <td>0</td>\n",
              "      <td>0</td>\n",
              "      <td>0</td>\n",
              "      <td>1</td>\n",
              "      <td>0</td>\n",
              "      <td>0</td>\n",
              "      <td>0</td>\n",
              "      <td>0</td>\n",
              "      <td>0</td>\n",
              "      <td>0</td>\n",
              "      <td>0</td>\n",
              "      <td>0</td>\n",
              "      <td>0</td>\n",
              "      <td>0</td>\n",
              "    </tr>\n",
              "    <tr>\n",
              "      <th>4</th>\n",
              "      <td>Music</td>\n",
              "      <td>1</td>\n",
              "      <td>0</td>\n",
              "      <td>0</td>\n",
              "      <td>0</td>\n",
              "      <td>0</td>\n",
              "      <td>1</td>\n",
              "      <td>0</td>\n",
              "      <td>0</td>\n",
              "      <td>0</td>\n",
              "      <td>0</td>\n",
              "      <td>0</td>\n",
              "      <td>0</td>\n",
              "      <td>0</td>\n",
              "      <td>0</td>\n",
              "      <td>0</td>\n",
              "      <td>0</td>\n",
              "    </tr>\n",
              "    <tr>\n",
              "      <th>...</th>\n",
              "      <td>...</td>\n",
              "      <td>...</td>\n",
              "      <td>...</td>\n",
              "      <td>...</td>\n",
              "      <td>...</td>\n",
              "      <td>...</td>\n",
              "      <td>...</td>\n",
              "      <td>...</td>\n",
              "      <td>...</td>\n",
              "      <td>...</td>\n",
              "      <td>...</td>\n",
              "      <td>...</td>\n",
              "      <td>...</td>\n",
              "      <td>...</td>\n",
              "      <td>...</td>\n",
              "      <td>...</td>\n",
              "      <td>...</td>\n",
              "    </tr>\n",
              "    <tr>\n",
              "      <th>3145</th>\n",
              "      <td>Perfect for kids, adults and everyone in betwe...</td>\n",
              "      <td>1</td>\n",
              "      <td>1</td>\n",
              "      <td>0</td>\n",
              "      <td>0</td>\n",
              "      <td>0</td>\n",
              "      <td>0</td>\n",
              "      <td>0</td>\n",
              "      <td>0</td>\n",
              "      <td>0</td>\n",
              "      <td>0</td>\n",
              "      <td>0</td>\n",
              "      <td>0</td>\n",
              "      <td>0</td>\n",
              "      <td>0</td>\n",
              "      <td>0</td>\n",
              "      <td>0</td>\n",
              "    </tr>\n",
              "    <tr>\n",
              "      <th>3146</th>\n",
              "      <td>Listening to music, searching locations, check...</td>\n",
              "      <td>1</td>\n",
              "      <td>1</td>\n",
              "      <td>0</td>\n",
              "      <td>0</td>\n",
              "      <td>0</td>\n",
              "      <td>0</td>\n",
              "      <td>0</td>\n",
              "      <td>0</td>\n",
              "      <td>0</td>\n",
              "      <td>0</td>\n",
              "      <td>0</td>\n",
              "      <td>0</td>\n",
              "      <td>0</td>\n",
              "      <td>0</td>\n",
              "      <td>0</td>\n",
              "      <td>0</td>\n",
              "    </tr>\n",
              "    <tr>\n",
              "      <th>3147</th>\n",
              "      <td>I do love these things, i have them running my...</td>\n",
              "      <td>1</td>\n",
              "      <td>1</td>\n",
              "      <td>0</td>\n",
              "      <td>0</td>\n",
              "      <td>0</td>\n",
              "      <td>0</td>\n",
              "      <td>0</td>\n",
              "      <td>0</td>\n",
              "      <td>0</td>\n",
              "      <td>0</td>\n",
              "      <td>0</td>\n",
              "      <td>0</td>\n",
              "      <td>0</td>\n",
              "      <td>0</td>\n",
              "      <td>0</td>\n",
              "      <td>0</td>\n",
              "    </tr>\n",
              "    <tr>\n",
              "      <th>3148</th>\n",
              "      <td>Only complaint I have is that the sound qualit...</td>\n",
              "      <td>1</td>\n",
              "      <td>0</td>\n",
              "      <td>0</td>\n",
              "      <td>0</td>\n",
              "      <td>0</td>\n",
              "      <td>0</td>\n",
              "      <td>0</td>\n",
              "      <td>0</td>\n",
              "      <td>0</td>\n",
              "      <td>0</td>\n",
              "      <td>0</td>\n",
              "      <td>0</td>\n",
              "      <td>1</td>\n",
              "      <td>0</td>\n",
              "      <td>0</td>\n",
              "      <td>0</td>\n",
              "    </tr>\n",
              "    <tr>\n",
              "      <th>3149</th>\n",
              "      <td>Good</td>\n",
              "      <td>1</td>\n",
              "      <td>1</td>\n",
              "      <td>0</td>\n",
              "      <td>0</td>\n",
              "      <td>0</td>\n",
              "      <td>0</td>\n",
              "      <td>0</td>\n",
              "      <td>0</td>\n",
              "      <td>0</td>\n",
              "      <td>0</td>\n",
              "      <td>0</td>\n",
              "      <td>0</td>\n",
              "      <td>0</td>\n",
              "      <td>0</td>\n",
              "      <td>0</td>\n",
              "      <td>0</td>\n",
              "    </tr>\n",
              "  </tbody>\n",
              "</table>\n",
              "<p>3150 rows × 17 columns</p>\n",
              "</div>"
            ],
            "text/plain": [
              "                                       verified_reviews  ...  White  Spot\n",
              "0                                         Love my Echo!  ...            0\n",
              "1                                             Loved it!  ...            0\n",
              "2     Sometimes while playing a game, you can answer...  ...            0\n",
              "3     I have had a lot of fun with this thing. My 4 ...  ...            0\n",
              "4                                                 Music  ...            0\n",
              "...                                                 ...  ...          ...\n",
              "3145  Perfect for kids, adults and everyone in betwe...  ...            0\n",
              "3146  Listening to music, searching locations, check...  ...            0\n",
              "3147  I do love these things, i have them running my...  ...            0\n",
              "3148  Only complaint I have is that the sound qualit...  ...            0\n",
              "3149                                               Good  ...            0\n",
              "\n",
              "[3150 rows x 17 columns]"
            ]
          },
          "metadata": {
            "tags": []
          },
          "execution_count": 19
        }
      ]
    },
    {
      "cell_type": "markdown",
      "metadata": {
        "id": "_82cgxYl_VvU",
        "colab_type": "text"
      },
      "source": [
        "#**Tokenization (Count Vectorizer)**"
      ]
    },
    {
      "cell_type": "code",
      "metadata": {
        "id": "u6BqkEKw_PPZ",
        "colab_type": "code",
        "colab": {}
      },
      "source": [
        "from sklearn.feature_extraction.text import CountVectorizer\n",
        "sample_data = ['This is the first document.','This document is the second document.','And this is the third one.','Is this the first document?']\n",
        "\n",
        "vectorizer = CountVectorizer()\n",
        "X = vectorizer.fit_transform(sample_data)\n"
      ],
      "execution_count": 21,
      "outputs": []
    },
    {
      "cell_type": "code",
      "metadata": {
        "id": "6Ln7moHx_2AM",
        "colab_type": "code",
        "colab": {
          "base_uri": "https://localhost:8080/",
          "height": 34
        },
        "outputId": "8d6e7331-4375-4e99-9717-338de689f740"
      },
      "source": [
        "print(vectorizer.get_feature_names())"
      ],
      "execution_count": 23,
      "outputs": [
        {
          "output_type": "stream",
          "text": [
            "['and', 'document', 'first', 'is', 'one', 'second', 'the', 'third', 'this']\n"
          ],
          "name": "stdout"
        }
      ]
    },
    {
      "cell_type": "code",
      "metadata": {
        "id": "lwaXPsb1_p-A",
        "colab_type": "code",
        "colab": {
          "base_uri": "https://localhost:8080/",
          "height": 85
        },
        "outputId": "2cdacffe-6569-416d-d17a-38885ef731a5"
      },
      "source": [
        "print(X.toarray())"
      ],
      "execution_count": 24,
      "outputs": [
        {
          "output_type": "stream",
          "text": [
            "[[0 1 1 1 0 0 1 0 1]\n",
            " [0 2 0 1 0 1 1 0 1]\n",
            " [1 0 0 1 1 0 1 1 1]\n",
            " [0 1 1 1 0 0 1 0 1]]\n"
          ],
          "name": "stdout"
        }
      ]
    },
    {
      "cell_type": "code",
      "metadata": {
        "id": "B7kC8aDaARl8",
        "colab_type": "code",
        "colab": {}
      },
      "source": [
        "#Back to project\n",
        "\n",
        "from sklearn.feature_extraction.text import CountVectorizer\n",
        "\n",
        "vectorizer = CountVectorizer()\n",
        "alexa_countvectorizer = vectorizer.fit_transform(alexa_df['verified_reviews'])\n"
      ],
      "execution_count": 25,
      "outputs": []
    },
    {
      "cell_type": "code",
      "metadata": {
        "id": "jjhYCGQ8AlK1",
        "colab_type": "code",
        "colab": {
          "base_uri": "https://localhost:8080/",
          "height": 34
        },
        "outputId": "a3254911-6e09-413b-de16-81083ba47cc7"
      },
      "source": [
        "alexa_countvectorizer.shape"
      ],
      "execution_count": 26,
      "outputs": [
        {
          "output_type": "execute_result",
          "data": {
            "text/plain": [
              "(3150, 4044)"
            ]
          },
          "metadata": {
            "tags": []
          },
          "execution_count": 26
        }
      ]
    },
    {
      "cell_type": "code",
      "metadata": {
        "id": "CMMoSD7hAq2P",
        "colab_type": "code",
        "colab": {
          "base_uri": "https://localhost:8080/",
          "height": 34
        },
        "outputId": "16f3da2a-7cff-4e14-97c1-c2f6929661db"
      },
      "source": [
        "type(alexa_countvectorizer)"
      ],
      "execution_count": 27,
      "outputs": [
        {
          "output_type": "execute_result",
          "data": {
            "text/plain": [
              "scipy.sparse.csr.csr_matrix"
            ]
          },
          "metadata": {
            "tags": []
          },
          "execution_count": 27
        }
      ]
    },
    {
      "cell_type": "code",
      "metadata": {
        "id": "zCQWYUnxAsZ3",
        "colab_type": "code",
        "colab": {
          "base_uri": "https://localhost:8080/",
          "height": 54
        },
        "outputId": "c0e007d8-f12b-41be-c532-c9f3fa85e68c"
      },
      "source": [
        "print(vectorizer.get_feature_names())"
      ],
      "execution_count": 28,
      "outputs": [
        {
          "output_type": "stream",
          "text": [
            "['00', '000', '07', '10', '100', '100x', '11', '1100sf', '12', '129', '12am', '15', '150', '18', '19', '1964', '1990', '1gb', '1rst', '1st', '20', '200', '2000', '2017', '229', '23', '24', '25', '29', '2nd', '2package', '30', '300', '30pm', '34', '360', '39', '3rd', '3x', '3xs', '40', '45', '48', '4am', '4ghz', '4k', '4th', '50', '54', '5am', '5ghz', '5th', '600', '62', '672', '6th', '70', '75', '79', '80', '80s', '81', '83', '85', '88', '888', '8gb', '90', '91', '911', '99', '_specifically_', 'a1', 'a19', 'abay', 'abc', 'abd', 'abilities', 'ability', 'able', 'abode', 'about', 'above', 'absolutely', 'absolutly', 'ac', 'accent', 'acceptable', 'accepting', 'access', 'accessable', 'accessible', 'accessing', 'accessories', 'accesss', 'accident', 'accidentally', 'accompanying', 'accomplish', 'accomplished', 'according', 'accordingly', 'account', 'accounts', 'accuracy', 'accurate', 'accurately', 'accustom', 'acknowledge', 'acoustical', 'across', 'act', 'acting', 'action', 'actions', 'activate', 'activated', 'activates', 'activating', 'activation', 'actively', 'activities', 'acts', 'actually', 'ad', 'adapted', 'adapter', 'adapting', 'add', 'added', 'addict', 'addicted', 'addicts', 'adding', 'addition', 'additional', 'additionally', 'addons', 'addressed', 'addresses', 'adds', 'adept', 'adequate', 'adjacent', 'adjust', 'adjusting', 'adjustment', 'adjusts', 'admit', 'adopters', 'adorable', 'ads', 'adults', 'advance', 'advanced', 'advantage', 'advantages', 'advertise', 'advertised', 'advertisement', 'advertising', 'advice', 'advise', 'advised', 'aesthetic', 'af', 'affirm', 'affirmations', 'afford', 'affordable', 'afraid', 'after', 'afternoon', 'afterwards', 'again', 'age', 'agent', 'ages', 'ago', 'agree', 'agreement', 'ahead', 'ai', 'aide', 'aint', 'air', 'aka', 'al', 'alabama', 'alarm', 'alarms', 'albeit', 'alcohol', 'alert', 'alerts', 'alex', 'alexa', 'alexas', 'alexi', 'alexia', 'alexis', 'alexus', 'algo', 'alive', 'all', 'alleviate', 'allow', 'allowed', 'allowing', 'allows', 'allrecipes', 'almost', 'alone', 'along', 'alongside', 'alot', 'alots', 'aloud', 'alread', 'already', 'alright', 'also', 'altering', 'alternative', 'alternatives', 'although', 'always', 'am', 'amaonmazing', 'amaxing', 'amaze', 'amazed', 'amazin', 'amazing', 'amazingly', 'amazon', 'amazonia', 'amazons', 'ambient', 'american', 'americans', 'among', 'amount', 'amounts', 'amozon', 'amplifier', 'amused', 'amusing', 'an', 'analog', 'and', 'android', 'ands', 'angle', 'annoying', 'another', 'answer', 'answered', 'answering', 'answers', 'ant', 'anti', 'anticipate', 'anticipated', 'any', 'anybody', 'anyhow', 'anylist', 'anymore', 'anyone', 'anypod', 'anything', 'anytime', 'anyway', 'anyways', 'anywhere', 'apartment', 'app', 'apparent', 'apparently', 'appealing', 'appear', 'appears', 'apple', 'appliance', 'appliances', 'application', 'applications', 'appointments', 'appreciated', 'apprehensive', 'approaching', 'appropriate', 'approximately', 'apps', 'are', 'area', 'areas', 'aren', 'arent', 'argue', 'argument', 'arguments', 'arises', 'arlo', 'arm', 'around', 'array', 'arrive', 'arrived', 'arriving', 'articles', 'artist', 'artists', 'as', 'asap', 'ase', 'ask', 'asked', 'askes', 'asking', 'asleep', 'aspect', 'aspects', 'ass', 'assigned', 'assist', 'assistance', 'assistant', 'assume', 'assumed', 'assuming', 'assumption', 'at', 'atención', 'atmosphere', 'atrás', 'attach', 'attached', 'attachment', 'attempt', 'attempted', 'attempting', 'attention', 'attractive', 'audible', 'audibles', 'audio', 'audioapple', 'audiobook', 'audiobooks', 'audiophile', 'august', 'aunt', 'auto', 'automatic', 'automatically', 'automation', 'aux', 'auxiliary', 'av', 'avail', 'availability', 'available', 'avoid', 'awake', 'aware', 'away', 'awesome', 'awful', 'awhile', 'awkward', 'awsome', 'b073sqyxtw', 'baby', 'back', 'background', 'backgrounds', 'backyard', 'bad', 'baffle', 'baffled', 'ball', 'ban', 'band', 'bandwagon', 'bandwidth', 'bang', 'bar', 'bare', 'barely', 'bargain', 'bark', 'barn', 'barret', 'barry', 'base', 'baseball', 'based', 'basement', 'basic', 'basically', 'bass', 'bathroom', 'bathrooms', 'batman', 'batteries', 'battery', 'bc', 'be', 'beam', 'beat', 'beautiful', 'beautifully', 'beauty', 'became', 'because', 'becausse', 'become', 'becomes', 'becoming', 'bed', 'bedroom', 'bedrooms', 'bedside', 'bedtime', 'beefy', 'been', 'before', 'begin', 'beginners', 'beginning', 'begun', 'behaved', 'behind', 'being', 'believe', 'believer', 'bells', 'belong', 'below', 'benefit', 'benefits', 'beside', 'besides', 'best', 'bet', 'beta', 'better', 'bettter', 'between', 'beyond', 'bezel', 'bezos', 'bf', 'bff', 'bible', 'big', 'bigger', 'biggest', 'bill', 'billboard', 'bills', 'bing', 'birth', 'birthday', 'bit', 'bizarre', 'black', 'blanket', 'blast', 'blasting', 'blessing', 'blind', 'blink', 'blinks', 'blocking', 'bloods', 'bloomberg', 'blown', 'blows', 'blue', 'blueprints', 'bluetooth', 'blurring', 'board', 'boat', 'bob', 'body', 'bolt', 'bonkers', 'bonus', 'book', 'books', 'boom', 'boombox', 'booming', 'boost', 'boring', 'born', 'bose', 'boss', 'bot', 'both', 'bother', 'bothered', 'bothers', 'bothersome', 'bottom', 'bough', 'bought', 'box', 'boyfriend', 'brainer', 'brand', 'brandnew', 'brands', 'bread', 'break', 'breakfast', 'breeze', 'bridge', 'brief', 'briefing', 'briefings', 'briefs', 'bright', 'brightness', 'bring', 'bringing', 'british', 'broadway', 'broke', 'broken', 'brought', 'bt', 'bucks', 'buddies', 'budget', 'buffer', 'buffering', 'buffet', 'bug', 'bugging', 'bugs', 'build', 'building', 'built', 'bulb', 'bulbs', 'buld', 'bulky', 'bummed', 'bunch', 'bundle', 'bundled', 'burns', 'business', 'busy', 'but', 'buts', 'button', 'buttons', 'buy', 'buyer', 'buyers', 'buying', 'buys', 'buzzing', 'by', 'bye', 'cable', 'calendar', 'calendars', 'call', 'called', 'calling', 'calls', 'calm', 'calmer', 'cam', 'cambiar', 'came', 'camelot', 'camera', 'cameras', 'campus', 'cams', 'can', 'canary', 'cancel', 'canceling', 'cancelled', 'cancels', 'cannot', 'cant', 'capabilities', 'capability', 'capable', 'capacity', 'capasity', 'car', 'card', 'cards', 'cardsrotate', 'care', 'carefully', 'careless', 'carful', 'carolina', 'carrier', 'carry', 'cart', 'cartoons', 'case', 'cases', 'cat', 'catch', 'catches', 'categories', 'cause', 'caused', 'cave', 'cbs', 'cd', 'ceases', 'ceiling', 'ceilings', 'celebs', 'cell', 'cellphone', 'cent', 'center', 'certain', 'certainly', 'certified', 'chachki', 'chair', 'chalk', 'challenge', 'challenged', 'champ', 'chance', 'change', 'changed', 'changer', 'changes', 'changing', 'channel', 'channels', 'characteristics', 'charge', 'chargeable', 'charger', 'charging', 'charlotte', 'charm', 'charmed', 'chart', 'chat', 'chatting', 'cheap', 'cheaper', 'cheapest', 'check', 'checked', 'checking', 'child', 'childhood', 'children', 'chocolate', 'choice', 'choices', 'choose', 'choosing', 'choppy', 'chores', 'chose', 'chosen', 'christmas', 'chromebook', 'chromecast', 'circle', 'citizens', 'city', 'clapper', 'clarity', 'classes', 'classic', 'classical', 'classroom', 'clean', 'cleaner', 'cleaning', 'clear', 'clearer', 'clearly', 'click', 'clients', 'clips', 'clock', 'clockhome', 'clocking', 'clocks', 'clone', 'close', 'closed', 'closer', 'clothes', 'cloud', 'clue', 'cm_cr_ryp_prd_ttl_sol_18', 'cnn', 'co', 'coast', 'codes', 'coffee', 'cohesive', 'collection', 'collections', 'collectors', 'college', 'colon', 'color', 'colors', 'com', 'comands', 'combination', 'combine', 'combined', 'come', 'comeletely', 'comes', 'comfort', 'comfortable', 'comforting', 'coming', 'command', 'commanded', 'commands', 'comment', 'comments', 'commercials', 'commodity', 'common', 'communicate', 'communicated', 'communicating', 'communication', 'community', 'commute', 'como', 'compacity', 'compact', 'companion', 'company', 'comparable', 'compare', 'compared', 'compatible', 'competition', 'complacated', 'complain', 'complained', 'complaining', 'complaint', 'complaints', 'complete', 'completed', 'completely', 'complicated', 'compliment', 'compliments', 'components', 'compound', 'computer', 'computers', 'con', 'concept', 'concern', 'concerned', 'concerning', 'concerns', 'concise', 'condition', 'conditioning', 'conditions', 'conectado', 'conferencing', 'confident', 'configure', 'configured', 'conflict', 'confused', 'confuses', 'confusing', 'confusion', 'connect', 'connected', 'connecting', 'connection', 'connectivity', 'connects', 'cons', 'conscious', 'consider', 'considering', 'consistent', 'consistently', 'conspiracy', 'constant', 'constantly', 'constructed', 'consulting', 'consumer', 'contact', 'contacted', 'contacts', 'contains', 'content', 'contents', 'continous', 'continually', 'continue', 'continues', 'continuous', 'continuously', 'control', 'controll', 'controllable', 'controlled', 'controller', 'controlling', 'controls', 'convenience', 'convenient', 'conversation', 'conversations', 'convert', 'convinced', 'cook', 'cooking', 'cool', 'cooler', 'coolest', 'coop', 'coordinator', 'cord', 'cordless', 'cordthank', 'core', 'correct', 'corrected', 'correctly', 'corresponds', 'cortna', 'cost', 'costs', 'cotton', 'couch', 'could', 'couldn', 'counter', 'counters', 'countless', 'countries', 'country', 'county', 'couple', 'course', 'cousin', 'cousins', 'cover', 'covered', 'covers', 'cozi', 'cpr', 'cracked', 'crackle', 'crackling', 'crap', 'crappy', 'crashed', 'crashes', 'crashing', 'crazy', 'creapy', 'create', 'created', 'credited', 'creepy', 'crib', 'crisp', 'critically', 'cropping', 'cross', 'crunchyroll', 'csi', 'cualquier', 'cue', 'cumbersome', 'cups', 'current', 'currently', 'cursed', 'curve', 'custom', 'customer', 'customers', 'customizable', 'customization', 'customize', 'cut', 'cute', 'cutie', 'cutting', 'cycle', 'cycled', 'cycles', 'cylinder', 'cylindercal', 'dad', 'daily', 'damage', 'dance', 'dancing', 'dare', 'dark', 'darn', 'dash', 'data', 'date', 'dated', 'dates', 'daughter', 'day', 'days', 'de', 'deactivate', 'dead', 'deaf', 'deal', 'deals', 'debating', 'dec', 'decent', 'decide', 'decided', 'decides', 'decision', 'deck', 'decor', 'decorated', 'decrease', 'dedicated', 'deep', 'deeper', 'default', 'defeats', 'defective', 'defence', 'defently', 'definately', 'define', 'definitely', 'definition', 'definitively', 'defuser', 'degree', 'degrees', 'del', 'delay', 'delete', 'deliver', 'delivered', 'delivers', 'delivery', 'demand', 'dementia', 'den', 'denon', 'dense', 'dented', 'department', 'dependable', 'dependence', 'depending', 'deployed', 'depreciates', 'depth', 'described', 'description', 'design', 'designed', 'designers', 'desired', 'desk', 'desktop', 'despite', 'detailed', 'details', 'detect', 'determined', 'developed', 'developers', 'development', 'device', 'deviceoverall', 'devices', 'devise', 'devises', 'dhiw', 'diagnostics', 'dial', 'dictionary', 'did', 'didn', 'didnt', 'died', 'dies', 'differ', 'difference', 'differences', 'different', 'differentiate', 'difficult', 'difficulty', 'dig', 'digital', 'digitol', 'digs', 'dim', 'dimat', 'dimension', 'dimmer', 'dimming', 'dims', 'dining', 'dinner', 'dinosaurs', 'direct', 'direction', 'directions', 'directly', 'directtv', 'directv', 'disability', 'disable', 'disabled', 'disagree', 'disappoint', 'disappointed', 'disappointing', 'disappointment', 'disappointments', 'disarm', 'disaster', 'disconcerting', 'disconnect', 'disconnected', 'disconnecting', 'disconnections', 'disconnects', 'discount', 'discounts', 'discourage', 'discover', 'discovered', 'discoveredthat', 'discovering', 'discovery', 'dish', 'dislike', 'dislikes', 'dismiss', 'dismissed', 'display', 'displayed', 'displaying', 'displays', 'disposable', 'dissatisfaction', 'distance', 'distorted', 'distracting', 'distraction', 'disturbing', 'ditch', 'ditched', 'diversity', 'divertido', 'dj', 'do', 'docking', 'doctor', 'documentation', 'dodging', 'does', 'doesn', 'doesnt', 'dog', 'dogs', 'doing', 'dollar', 'dollars', 'domain', 'don', 'done', 'dont', 'door', 'doorbell', 'doors', 'dorm', 'dot', 'dots', 'doubtful', 'down', 'downfall', 'download', 'downloaded', 'downloading', 'downright', 'downside', 'downstairs', 'dp', 'drag', 'draw', 'drawback', 'drawing', 'dressed', 'drive', 'driven', 'drivers', 'drives', 'driving', 'drop', 'dropped', 'dropping', 'drops', 'dryer', 'due', 'dumb', 'dumber', 'dunce', 'dunno', 'during', 'dust', 'duty', 'dying', 'dylan', 'each', 'ear', 'early', 'earn', 'ease', 'easier', 'easily', 'east', 'easy', 'eavesdropping', 'echo', 'echoes', 'echoplus', 'echos', 'eco', 'ecobee3', 'ecoo', 'ecosystem', 'ed', 'edge', 'edit', 'educated', 'educational', 'eeaanh', 'effected', 'effective', 'effects', 'efficiency', 'efficient', 'effort', 'effortless', 'efforts', 'eg', 'eh', 'either', 'el', 'elderly', 'electeonically', 'electrician', 'electricity', 'electronic', 'electronically', 'electronics', 'elegant', 'element', 'eliminate', 'else', 'elsewhere', 'em', 'email', 'embarrassed', 'emergency', 'emoji', 'employees', 'en', 'enable', 'enabled', 'enables', 'encyclopedias', 'end', 'ended', 'endless', 'ends', 'engage', 'engagement', 'engaging', 'engine', 'engineers', 'english', 'enhanced', 'enjoy', 'enjoyable', 'enjoyed', 'enjoying', 'enjoyment', 'enjoys', 'enough', 'enrolment', 'enter', 'entering', 'enters', 'entertained', 'entertaining', 'entertainment', 'entire', 'entirely', 'entry', 'eq', 'equal', 'equalized', 'equalizer', 'equipment', 'equipo', 'error', 'errors', 'es', 'escencia', 'esp', 'espanol', 'español', 'especially', 'essential', 'essentially', 'esta', 'estar', 'este', 'estudio', 'estés', 'etc', 'etekcity', 'ethernet', 'evaluate', 'even', 'evening', 'event', 'events', 'eventually', 'ever', 'every', 'everybody', 'everyday', 'everyone', 'everything', 'everytime', 'everywhere', 'eveyday', 'evolve', 'evrything', 'ex', 'exact', 'exactly', 'example', 'examples', 'exasperation', 'exceeded', 'exceeds', 'excelente', 'excellent', 'excellently', 'except', 'exception', 'exceptionally', 'excessive', 'exchange', 'exchanges', 'exchanging', 'excited', 'excitement', 'excuses', 'exho', 'existence', 'existent', 'existing', 'expanded', 'expanding', 'expect', 'expectation', 'expectations', 'expected', 'expecting', 'expensive', 'experience', 'experienced', 'experiences', 'expert', 'expired', 'expires', 'explanation', 'explicit', 'explore', 'explored', 'exploring', 'extend', 'extended', 'extender', 'extends', 'extension', 'extent', 'external', 'extra', 'extras', 'extremely', 'extrimelly', 'eye', 'eyes', 'fabric', 'fabulous', 'face', 'facebook', 'faces', 'facetime', 'fact', 'factor', 'factory', 'facts', 'fail', 'failed', 'failing', 'fails', 'fair', 'fairly', 'fairness', 'fall', 'falling', 'falls', 'false', 'familiar', 'family', 'fan', 'fanatic', 'fans', 'fantastic', 'far', 'farther', 'fascinating', 'fashioned', 'fast', 'faster', 'fat', 'father', 'fathers', 'fault', 'faulty', 'favorite', 'favorites', 'featues', 'feature', 'featured', 'features', 'fee', 'feed', 'feedback', 'feeds', 'feee', 'feel', 'feeling', 'feels', 'fees', 'feet', 'fell', 'felt', 'fencing', 'few', 'fi', 'fiances', 'fidelity', 'figure', 'figured', 'figuring', 'fill', 'filled', 'filling', 'fills', 'final', 'finally', 'find', 'finding', 'finds', 'fine', 'fingertips', 'finicky', 'finish', 'fios', 'fire', 'firestick', 'firmare', 'firmware', 'first', 'fit', 'fits', 'five', 'fix', 'fixed', 'fixes', 'fixing', 'fixture', 'fixtures', 'flash', 'flashes', 'flat', 'flaw', 'flawless', 'flawlessly', 'flaws', 'fledged', 'flexibility', 'flexible', 'flickering', 'floating', 'floor', 'floored', 'fm', 'folks', 'follow', 'followed', 'font', 'foot', 'football', 'footprint', 'for', 'force', 'forces', 'forecast', 'forecasts', 'forever', 'forget', 'forgot', 'forgotten', 'forjust', 'form', 'forth', 'fortunately', 'forums', 'forward', 'found', 'four', 'fourth', 'free', 'freeze', 'freezes', 'frequently', 'fri', 'friday', 'friend', 'friendly', 'friends', 'from', 'front', 'frustrated', 'frustrating', 'frustration', 'full', 'fuller', 'fully', 'fumble', 'fun', 'funciona', 'funcionamiento', 'funciones', 'function', 'functionalities', 'functionality', 'functions', 'funny', 'further', 'furthermore', 'fussing', 'fussy', 'future', 'fw', 'gadget', 'gadgets', 'gain', 'galaxy', 'game', 'games', 'gameshow', 'gaming', 'gap', 'garage', 'garbage', 'gateway', 'gather', 'gatherings', 'gave', 'gazebo', 'gb', 'ge', 'geared', 'geek', 'geeks', 'gen', 'gen2', 'gender', 'general', 'generally', 'generation', 'genial', 'genre', 'genres', 'geo', 'get', 'gets', 'getting', 'gf', 'ghost', 'gift', 'gifts', 'girlfriend', 'girls', 'give', 'given', 'gives', 'giving', 'gizmo', 'glad', 'glaring', 'glasses', 'glitch', 'glitches', 'glitching', 'glorified', 'glow', 'go', 'god', 'godsend', 'goes', 'going', 'golden', 'gone', 'goo', 'good', 'goodies', 'goodmorning', 'goodness', 'google', 'googled', 'got', 'gotten', 'government', 'grab', 'grace', 'grand', 'grandaughter', 'grandchildren', 'granddaughter', 'grandfather', 'grandkids', 'grandmother', 'grandparent', 'grandparents', 'grands', 'grandson', 'grandsons', 'granite', 'granted', 'graphics', 'gratamente', 'greade', 'great', 'greater', 'greatest', 'greatly', 'green', 'greeting', 'grip', 'gripe', 'grocery', 'groggy', 'ground', 'group', 'groups', 'growing', 'grownups', 'grows', 'guarantee', 'guaranteeing', 'guard', 'guess', 'guest', 'guide', 'guilty', 'guy', 'guys', 'habit', 'habla', 'had', 'hadn', 'haha', 'hahaawesome', 'hahahaha', 'hairs', 'hal', 'half', 'hallway', 'hand', 'handle', 'handled', 'handles', 'hands', 'handy', 'hang', 'happen', 'happened', 'happening', 'happens', 'happier', 'happy', 'hard', 'hardcore', 'harder', 'hardly', 'harmony', 'harvard', 'has', 'hasn', 'hassel', 'hassle', 'hate', 'hated', 'hates', 'hauler', 'have', 'haven', 'havent', 'having', 'haywire', 'hbo', 'hcfe', 'hd', 'hd8', 'hdm1', 'hdmi', 'he', 'headline', 'headphone', 'headphones', 'heads', 'healing', 'hear', 'heard', 'hearing', 'hears', 'heart', 'heaven', 'heavy', 'heck', 'hectic', 'held', 'helful', 'hell', 'help', 'helped', 'helper', 'helpful', 'helping', 'helps', 'hence', 'her', 'here', 'hers', 'herself', 'hes', 'hesitant', 'hesitate', 'hesitated', 'hey', 'hi', 'hiccups', 'hide', 'high', 'higher', 'highest', 'highly', 'him', 'himself', 'hints', 'hire', 'hired', 'hiring', 'his', 'history', 'hit', 'hmm', 'hmmm', 'hmmmm', 'hold', 'holder', 'holding', 'hole', 'holiday', 'holy', 'home', 'homes', 'homescreen', 'homework', 'honest', 'honestly', 'hong', 'hook', 'hooked', 'hope', 'hoped', 'hopefully', 'hoping', 'hora', 'horrible', 'horse', 'hospital', 'hospitals', 'hosting', 'hot', 'hotel', 'hour', 'hours', 'house', 'household', 'houses', 'how', 'however', 'hr', 'https', 'hub', 'hubbed', 'hubby', 'hubs', 'hue', 'huele', 'huge', 'hulu', 'human', 'humour', 'hundred', 'hundreds', 'husband', 'hut', 'hvac', 'hype', 'id', 'idea', 'ideal', 'if', 'ifs', 'ight', 'ignored', 'ignoring', 'iheart', 'iheartradio', 'ihome', 'ii', 'illustrated', 'im', 'image', 'images', 'imagination', 'imagine', 'imagined', 'imhave', 'immediately', 'impaired', 'impede', 'imperfection', 'implementing', 'important', 'importantly', 'impressed', 'impressive', 'improve', 'improved', 'improvement', 'improvements', 'improving', 'impulse', 'imrproved', 'imusic', 'in', 'inability', 'inactivity', 'include', 'included', 'includes', 'including', 'inclusive', 'income', 'inconvenience', 'inconvenient', 'incorporated', 'increase', 'increasing', 'incredible', 'incredibly', 'india', 'indicated', 'indicator', 'indispensable', 'individual', 'individually', 'indoor', 'indundated', 'industry', 'inexpensive', 'inexperience', 'infact', 'inferior', 'info', 'información', 'information', 'informative', 'informed', 'infotainment', 'initial', 'initially', 'initiate', 'inline', 'innovative', 'input', 'insanely', 'insanity', 'insert', 'inside', 'insist', 'inspired', 'install', 'installation', 'installed', 'installing', 'installs', 'instant', 'instantaneous', 'instantly', 'instead', 'instruction', 'instructions', 'integrate', 'integrated', 'integrates', 'integrating', 'integration', 'intelagence', 'inteligente', 'intelligent', 'intend', 'intended', 'intention', 'interact', 'interacting', 'interaction', 'interactions', 'interactive', 'intercom', 'intercoms', 'interest', 'interested', 'interesting', 'interface', 'interfacing', 'interference', 'interferes', 'intermittent', 'intermittently', 'internal', 'international', 'internet', 'interpret', 'interrogated', 'interrupt', 'interruption', 'intimidating', 'into', 'introduce', 'introducing', 'introduction', 'intrusive', 'intuitive', 'invasion', 'invasions', 'invasive', 'invention', 'invest', 'invested', 'investing', 'investment', 'inviting', 'involved', 'involves', 'iot', 'iove', 'ipad', 'ipads', 'ipdates', 'iphone', 'irritated', 'irritating', 'is', 'ise', 'ish', 'island', 'isn', 'isnt', 'isolated', 'issue', 'issues', 'isue', 'it', 'ita', 'italian', 'italy', 'item', 'items', 'its', 'itself', 'itunes', 'iy', 'jack', 'jacuzzi', 'jamming', 'jams', 'jaws', 'jazz', 'jeapordy', 'jeff', 'jeopardy', 'jetsons', 'jimmy', 'job', 'johnny', 'join', 'joke', 'joked', 'jokes', 'journey', 'joy', 'jump', 'jumped', 'jumping', 'june', 'junk', 'just', 'karen', 'kasa', 'keen', 'keep', 'keeper', 'keeping', 'keeps', 'kept', 'key', 'keyboard', 'kick', 'kicking', 'kid', 'kids', 'killer', 'kind', 'kinda', 'kindle', 'kinds', 'king', 'kitchen', 'knee', 'knew', 'knob', 'knock', 'knocked', 'know', 'knowing', 'knowledgable', 'knowledge', 'knowledgeable', 'known', 'knows', 'kodi', 'kong', 'korea', 'kwikset', 'la', 'labeled', 'lack', 'lacking', 'lacks', 'ladies', 'lady', 'lag', 'lagging', 'lags', 'lame', 'lamp', 'lamps', 'land', 'language', 'lapsed', 'laptop', 'large', 'larger', 'las', 'last', 'lastly', 'late', 'lately', 'later', 'lauded', 'laugh', 'laughs', 'laughter', 'laundry', 'law', 'layer', 'laying', 'laziness', 'lazy', 'lcd', 'leaning', 'learn', 'learned', 'learnimg', 'learning', 'learns', 'leary', 'least', 'leave', 'leaves', 'leaving', 'led', 'left', 'leg', 'legally', 'leisure', 'length', 'less', 'lesson', 'let', 'lets', 'level', 'levels', 'lg', 'libraries', 'library', 'life', 'lifetime', 'lifht', 'light', 'lightbulb', 'lightening', 'lighting', 'lightning', 'lights', 'like', 'liked', 'likely', 'likes', 'liking', 'lil', 'lilttle', 'limitations', 'limited', 'line', 'lines', 'link', 'linked', 'linking', 'links', 'list', 'listen', 'listened', 'listening', 'listens', 'lists', 'lit', 'literally', 'literate', 'little', 'live', 'lived', 'lives', 'living', 'livingroom', 'll', 'llama', 'llegó', 'lm', 'lo', 'load', 'loaded', 'loads', 'local', 'locate', 'located', 'location', 'locations', 'lock', 'locked', 'locks', 'logitech', 'logo', 'logra', 'lol', 'lolol', 'lonely', 'long', 'longer', 'longevity', 'look', 'looked', 'looking', 'looks', 'looooooove', 'loose', 'looses', 'loosing', 'lose', 'loses', 'losing', 'loss', 'lost', 'lot', 'lots', 'loud', 'louder', 'louis', 'lov', 'love', 'loved', 'lovee', 'lover', 'loves', 'loving', 'low', 'lower', 'luck', 'luckily', 'lucky', 'lullaby', 'lurking', 'luv', 'lve', 'lyric', 'lyrical', 'lyrics', 'mac', 'machine', 'machines', 'maddening', 'made', 'madlibs', 'magically', 'mailed', 'main', 'mainly', 'mainstream', 'maintain', 'maintaining', 'majel', 'majes', 'major', 'make', 'makes', 'making', 'makings', 'male', 'malone', 'mama', 'man', 'manage', 'management', 'mandatory', 'maneuver', 'manners', 'manual', 'manually', 'manuals', 'manufacturers', 'many', 'marginal', 'mark', 'marked', 'market', 'marketing', 'marvelous', 'massive', 'match', 'matched', 'material', 'matter', 'maximize', 'may', 'maybe', 'mb', 'me', 'mean', 'meaningful', 'means', 'meant', 'media', 'medical', 'medications', 'mediocre', 'meditation', 'medium', 'meh', 'member', 'members', 'membership', 'memory', 'mention', 'mentioned', 'menu', 'mere', 'message', 'messages', 'messaging', 'messed', 'met', 'metro', 'mexico', 'mi', 'miami', 'mic', 'microphone', 'microphones', 'mics', 'mid', 'middle', 'mids', 'might', 'miles', 'million', 'mimic', 'mind', 'mindset', 'mine', 'mini', 'minimal', 'minimum', 'minor', 'minorly', 'mins', 'mint', 'minus', 'minute', 'minutes', 'mirroring', 'misled', 'misplace', 'miss', 'missed', 'missing', 'mistakes', 'misunderstands', 'mixed', 'moana', 'mobile', 'mobility', 'mode', 'model', 'models', 'modern', 'mom', 'moment', 'moms', 'mon', 'money', 'monitor', 'month', 'monthly', 'months', 'mood', 'more', 'moreover', 'morning', 'most', 'mostly', 'mother', 'motivation', 'motown', 'mount', 'mounted', 'move', 'moved', 'movie', 'movies', 'moving', 'mu', 'much', 'muffled', 'multi', 'multiple', 'music', 'must', 'mute', 'muy', 'my', 'mybedroom', 'myself', 'múltiples', 'na', 'name', 'named', 'names', 'nana', 'nanny', 'native', 'natural', 'nature', 'navigate', 'navigating', 'navigation', 'naw', 'nbc', 'nbsp', 'nc', 'nd', 'ne', 'near', 'nearly', 'neat', 'necessity', 'need', 'needed', 'needing', 'needs', 'negative', 'neighbors', 'neither', 'nephews', 'nervana', 'nervous', 'nest', 'net', 'netflix', 'network', 'never', 'new', 'newer', 'newest', 'news', 'newsflash', 'nexia', 'next', 'nfl', 'ni', 'nice', 'nicely', 'nicer', 'niece', 'nigh', 'night', 'nightmare', 'nights', 'nightstand', 'nil', 'nit', 'nite', 'nj', 'no', 'nobody', 'nois', 'noise', 'non', 'none', 'nonsense', 'nope', 'nor', 'norm', 'normal', 'north', 'nos', 'not', 'note', 'nothing', 'notice', 'noticeable', 'noticed', 'notification', 'notifications', 'notifies', 'novelty', 'now', 'nowhere', 'npr', 'nrw', 'nsa', 'nudged', 'numb', 'number', 'numbers', 'numerous', 'nurses', 'nuts', 'ny', 'obsessed', 'obtrusive', 'obvious', 'occasion', 'occasional', 'occasionally', 'ocean', 'odd', 'odds', 'of', 'off', 'offer', 'offered', 'offers', 'office', 'officially', 'offing', 'often', 'oh', 'ok', 'okay', 'old', 'older', 'oldest', 'olor', 'omg', 'on', 'once', 'onceproblem', 'one', 'ones', 'onetime', 'online', 'only', 'onme', 'onto', 'ontrac', 'oops', 'open', 'opened', 'opening', 'opens', 'opera', 'operate', 'operation', 'operations', 'operator', 'opinion', 'opportunity', 'opt', 'optical', 'optimum', 'option', 'optional', 'options', 'or', 'orange', 'orchestra', 'order', 'ordered', 'ordering', 'orders', 'organization', 'organized', 'orientation', 'oriented', 'original', 'originale', 'originally', 'other', 'others', 'otherwise', 'our', 'ours', 'ourselves', 'out', 'outdoor', 'outdoors', 'outlet', 'outlets', 'output', 'outrageous', 'outside', 'outsmart', 'outstanding', 'oven', 'over', 'overa', 'overall', 'overcoming', 'overheating', 'overpriced', 'override', 'overtime', 'overview', 'overwhelming', 'owe', 'owlhead', 'own', 'owned', 'owner', 'owners', 'ownership', 'owning', 'package', 'packaged', 'packages', 'packaging', 'packing', 'page', 'pages', 'paid', 'pain', 'pair', 'paired', 'pairing', 'pamphlet', 'pandora', 'pants', 'paper', 'par', 'paranoid', 'pare', 'parents', 'park', 'paroduct', 'part', 'participating', 'particular', 'particularly', 'parties', 'partner', 'parts', 'party', 'pass', 'password', 'past', 'patch', 'patience', 'patient', 'patio', 'pattern', 'pause', 'pauses', 'pay', 'payed', 'paying', 'pc', 'películas', 'pen', 'pencil', 'penny', 'people', 'pep', 'per', 'perdió', 'perfect', 'perfectly', 'perfecto', 'perform', 'performance', 'performed', 'performing', 'performs', 'perhaps', 'period', 'perk', 'permanently', 'persist', 'person', 'personal', 'personality', 'personalization', 'personalized', 'personally', 'persuasion', 'pets', 'phase', 'phenomenal', 'philip', 'philips', 'philipshue', 'phillip', 'phillips', 'philly', 'phone', 'phones', 'phonetically', 'photo', 'photographs', 'photos', 'phrase', 'pia', 'pick', 'picked', 'picking', 'picks', 'picky', 'pics', 'picture', 'pictures', 'piece', 'pin', 'pivoting', 'pixelated', 'pizza', 'place', 'placed', 'placement', 'places', 'placing', 'plain', 'plan', 'plane', 'planning', 'plans', 'platform', 'platforms', 'play', 'played', 'player', 'playing', 'playlist', 'playlists', 'plays', 'pleasantly', 'please', 'pleased', 'pleasedsimple', 'pleasure', 'plenty', 'plug', 'plugged', 'plugins', 'plugs', 'plus', 'pluto', 'pod', 'podcast', 'podcasts', 'point', 'pointed', 'pointless', 'politics', 'pool', 'poop', 'poor', 'pop', 'porch', 'port', 'portability', 'portable', 'portion', 'posed', 'position', 'positive', 'positives', 'possibilities', 'possible', 'possibly', 'post', 'poster', 'potential', 'pound', 'power', 'powercord', 'powerful', 'practical', 'practically', 'practicalthan', 'pray', 'pre', 'preciously', 'precise', 'prefer', 'preferences', 'preferred', 'premium', 'prepare', 'preparing', 'present', 'preset', 'press', 'presumably', 'prettier', 'pretty', 'prevent', 'prevents', 'preview', 'previous', 'previously', 'price', 'priced', 'prices', 'pricey', 'pricing', 'primarily', 'primary', 'prime', 'primeday', 'print', 'prior', 'privacy', 'prize', 'pro', 'probably', 'problem', 'problems', 'procedure', 'process', 'produc', 'product', 'producto', 'products', 'productsand', 'profiles', 'program', 'programing', 'programmed', 'programming', 'programs', 'project', 'projection', 'projects', 'promised', 'promoting', 'promotion', 'promp', 'prompt', 'prompts', 'proper', 'properly', 'props', 'pros', 'protected', 'protection', 'protocol', 'prove', 'proved', 'provee', 'provide', 'provided', 'provider', 'provides', 'providing', 'psychological', 'pueden', 'pull', 'pulling', 'pulsate', 'pulsed', 'punch', 'puny', 'pup', 'pur', 'purchase', 'purchased', 'purchaser', 'purchases', 'purchasing', 'pure', 'purely', 'purpose', 'purposes', 'push', 'pushed', 'put', 'puts', 'putting', 'puzzled', 'quality', 'qualty', 'que', 'quedó', 'queries', 'question', 'questionable', 'questions', 'quick', 'quicker', 'quickly', 'quiet', 'quit', 'quite', 'quiz', 'quot', 'quote', 'qvc', 'radio', 'rain', 'rainbow', 'raised', 'rambled', 'ran', 'random', 'randomly', 'range', 'ranger', 'rapidez', 'rare', 'rarely', 'rarity', 'rate', 'rather', 'rating', 'rattle', 'rattling', 'rcieved', 're', 'reach', 'reached', 'reaching', 'reactive', 'read', 'reader', 'reading', 'reads', 'ready', 'real', 'realizando', 'realize', 'realized', 'realizing', 'really', 'reason', 'reasonable', 'reasons', 'reauthorize', 'reboot', 'rebooted', 'rebooting', 'reboots', 'reccomend', 'receivded', 'receive', 'received', 'receiver', 'receivers', 'receiving', 'recent', 'recently', 'reception', 'rechargeable', 'recharged', 'recipe', 'recipes', 'recipient', 'recognition', 'recognize', 'recognizes', 'recomendable', 'recommend', 'recommended', 'recommending', 'reconditioned', 'reconfigure', 'reconnect', 'reconnected', 'reconnecting', 'record', 'recorded', 'recording', 'recordings', 'rectangular', 'recurring', 'red', 'reduced', 'redundant', 'ref', 'refer', 'reference', 'references', 'referred', 'refers', 'refined', 'refund', 'refunds', 'refurb', 'refurbish', 'refurbished', 'refurbishedthought', 'refurbishing', 'refurbs', 'regard', 'regardless', 'regional', 'register', 'registered', 'regret', 'regrets', 'regular', 'regularly', 'reinstall', 'related', 'relatively', 'relaxing', 'relay', 'release', 'released', 'reliable', 'relief', 'rely', 'remaining', 'remains', 'remedial', 'remember', 'remembering', 'remind', 'reminded', 'reminder', 'reminders', 'reminding', 'reminds', 'remorse', 'remote', 'rename', 'rent', 'renting', 'reoccurring', 'reorder', 'rep', 'repair', 'repairs', 'repeat', 'repeated', 'repeating', 'repeats', 'repertoire', 'replace', 'replaced', 'replacement', 'replaces', 'replacing', 'replied', 'replying', 'report', 'reported', 'reports', 'reportsalarm', 'reputation', 'request', 'requesting', 'requests', 'require', 'required', 'requires', 'research', 'researched', 'researching', 'resembling', 'resemption', 'reset', 'resetting', 'resist', 'resistant', 'resolution', 'resolved', 'resolves', 'respond', 'responding', 'responds', 'response', 'responses', 'responsive', 'responsiveness', 'respuesta', 'rest', 'restart', 'restrictions', 'restrictive', 'result', 'results', 'resume', 'retired', 'return', 'returned', 'returnef', 'returning', 'review', 'reviewing', 'reviews', 'revise', 'rewards', 'rid', 'rides', 'ridiculous', 'ridiculously', 'right', 'ring', 'rings', 'rivers', 'road', 'rock', 'rocks', 'roku', 'roll', 'room', 'roomba', 'rooms', 'rotate', 'rotates', 'rotation', 'rotations', 'rough', 'round', 'route', 'router', 'routine', 'routinely', 'routines', 'row', 'rub', 'rubber', 'run', 'running', 'runs', 's8', 's9', 'sad', 'sadly', 'safe', 'said', 'sale', 'sales', 'salsa', 'same', 'samsung', 'sang', 'sanity', 'satellite', 'satisfied', 'satisified', 'save', 'saved', 'saving', 'savvy', 'savy', 'saw', 'say', 'saying', 'says', 'scared', 'scenes', 'scent', 'schedule', 'scheduled', 'schedules', 'scheduling', 'school', 'science', 'scooped', 'scores', 'scottish', 'scoured', 'scratch', 'scratched', 'screamig', 'screaming', 'screen', 'screenless', 'screens', 'screenselect', 'screw', 'script', 'scroll', 'scrolling', 'scrolls', 'se', 'sealed', 'seamless', 'seamlessly', 'seams', 'search', 'searches', 'searching', 'season', 'second', 'seconds', 'secret', 'secretary', 'section', 'security', 'see', 'seeing', 'seem', 'seemed', 'seems', 'seen', 'seldom', 'select', 'selection', 'selections', 'self', 'selfies', 'sell', 'selling', 'semana', 'semi', 'send', 'sending', 'sends', 'senior', 'sense', 'sensitive', 'sensitivity', 'sent', 'sentence', 'separate', 'separately', 'seprately', 'series', 'serious', 'seriously', 'serius', 'serve', 'served', 'service', 'services', 'set', 'sets', 'setting', 'settings', 'settingshome', 'settins', 'settle', 'setup', 'setups', 'sever', 'several', 'sewing', 'sh', 'shaking', 'shape', 'sharing', 'sharp', 'she', 'shell', 'shelled', 'shifting', 'shine', 'shining', 'ship', 'shipment', 'shipped', 'shipping', 'shocked', 'shooting', 'shop', 'shopping', 'short', 'shortcomings', 'shorted', 'shorter', 'shortly', 'should', 'shouldn', 'shout', 'show', 'shower', 'showering', 'showing', 'showman', 'shown', 'shows', 'showtime', 'shuffle', 'shut', 'shuts', 'shutting', 'sibling', 'side', 'sigh', 'sight', 'sign', 'significant', 'silly', 'silver', 'similar', 'simple', 'simpler', 'simplicity', 'simplified', 'simplify', 'simply', 'simultaneously', 'sin', 'since', 'sincerely', 'sing', 'singing', 'single', 'singley', 'sink', 'sinqued', 'siri', 'sirius', 'sirrius', 'sister', 'sit', 'site', 'sits', 'sitting', 'situations', 'six', 'size', 'sized', 'skeptical', 'skill', 'skills', 'skips', 'skype', 'sleek', 'sleep', 'sleeper', 'sleeping', 'sleeps', 'sleepy', 'sliced', 'slide', 'slideshow', 'slight', 'slightly', 'sling', 'slow', 'slowly', 'sm', 'small', 'smaller', 'smart', 'smartbon', 'smarter', 'smarthome', 'smartphone', 'smartthing', 'smartthings', 'smells', 'smiths', 'smooth', 'smoothly', 'snap', 'snarls', 'sneaky', 'snell', 'snooze', 'snoozed', 'snoozes', 'so', 'soaked', 'soaking', 'soccer', 'social', 'socket', 'sofa', 'soft', 'softly', 'software', 'sold', 'solely', 'solid', 'solo', 'solución', 'solution', 'solved', 'solves', 'some', 'somebody', 'somehow', 'someone', 'something', 'sometime', 'sometimes', 'somewhat', 'son', 'song', 'songs', 'sonos', 'sons', 'sony', 'soon', 'sooner', 'sooo', 'sooooo', 'sooooooo', 'sopt', 'sore', 'sorely', 'sorprendió', 'sorry', 'sort', 'sound', 'soundbar', 'sounded', 'sounding', 'soundlink', 'sounds', 'soundtouch', 'source', 'sources', 'southern', 'spa', 'space', 'spaces', 'spacing', 'spam', 'span', 'spanish', 'spanking', 'spark', 'sparks', 'speak', 'speaker', 'speakers', 'speaking', 'speaks', 'special', 'specially', 'specific', 'specifically', 'specifily', 'specify', 'specifying', 'specs', 'spectacular', 'speech', 'speed', 'speeds', 'speedy', 'spell', 'spelling', 'spend', 'spending', 'spent', 'spiel', 'spilled', 'spin', 'spins', 'split', 'spoiled', 'spoke', 'spoken', 'sport', 'sports', 'spot', 'spotify', 'spotlight', 'spots', 'spouse', 'sprinkler', 'sprint', 'spur', 'spying', 'square', 'squirms', 'sry', 'ssdi', 'st', 'staff', 'stage', 'staging', 'stairs', 'stand', 'standalone', 'standard', 'standards', 'standing', 'stands', 'star', 'stark', 'stars', 'start', 'started', 'starting', 'starts', 'stat', 'state', 'statement', 'states', 'station', 'stationary', 'stationed', 'stations', 'stay', 'stayed', 'staying', 'steaming', 'steep', 'stellar', 'step', 'steps', 'stereo', 'stick', 'sticks', 'still', 'stimulus', 'stinks', 'stoled', 'stop', 'stopped', 'stops', 'storage', 'store', 'stories', 'storm', 'story', 'stove', 'straight', 'straightforward', 'strange', 'stream', 'streaming', 'streamline', 'strictly', 'string', 'strips', 'strong', 'strongly', 'structure', 'struggle', 'stubborn', 'stuck', 'students', 'stuff', 'stump', 'stupid', 'sturdy', 'style', 'stylish', 'su', 'sub', 'subject', 'subpar', 'subscriber', 'subscribing', 'subscription', 'subscriptiondoes', 'subscriptions', 'subsequently', 'substitute', 'success', 'successful', 'successfully', 'successor', 'such', 'suck', 'sucks', 'suffer', 'sufficient', 'suffolk', 'suggest', 'suggested', 'suggesting', 'suggestions', 'suggests', 'suitable', 'summoning', 'sunroom', 'supberb', 'super', 'superb', 'superior', 'supplied', 'supplying', 'support', 'supported', 'supporting', 'supports', 'suppose', 'supposed', 'sure', 'surely', 'surface', 'surprise', 'surprised', 'surprising', 'surprisingly', 'surround', 'survived', 'sweet', 'swell', 'swipe', 'swiping', 'switch', 'switched', 'switches', 'switching', 'sync', 'synced', 'synching', 'syncing', 'system', 'systems', 'table', 'tablet', 'tablets', 'tad', 'tailor', 'take', 'taken', 'takes', 'taking', 'tales', 'talk', 'talked', 'talking', 'talks', 'tall', 'taller', 'tap', 'tape', 'taping', 'tapped', 'tardis', 'tasha', 'task', 'tasks', 'teacher', 'teams', 'tear', 'tec', 'tech', 'techie', 'technical', 'technically', 'technicians', 'techno', 'technologically', 'technology', 'techy', 'teenagers', 'teeth', 'tekkie', 'telephone', 'television', 'tell', 'telling', 'tells', 'temp', 'temperature', 'temps', 'tempting', 'ten', 'tend', 'tends', 'terminology', 'terrible', 'terrific', 'test', 'tested', 'testing', 'texas', 'text', 'texts', 'tg', 'tge', 'than', 'thank', 'thanks', 'that', 'thats', 'the', 'theater', 'theecho', 'their', 'theirs', 'them', 'themes', 'themselves', 'then', 'theories', 'there', 'therefore', 'thermostat', 'these', 'thestand', 'thete', 'they', 'thick', 'thing', 'things', 'think', 'thinking', 'third', 'this', 'thongs', 'thorough', 'thoroughly', 'those', 'thou', 'though', 'thought', 'thoughts', 'thousands', 'three', 'thrilled', 'through', 'throughout', 'throw', 'thrown', 'thru', 'thu', 'thumb', 'thumbs', 'thunderstorm', 'thursday', 'ti', 'tickled', 'tiempo', 'tiene', 'ties', 'til', 'till', 'time', 'timer', 'timers', 'times', 'timing', 'tin', 'ting', 'tinker', 'tinkering', 'tinny', 'tiny', 'tipping', 'tips', 'tired', 'title', 'tivo', 'to', 'toda', 'today', 'toddler', 'together', 'toilet', 'told', 'tomorrow', 'tomy', 'ton', 'tones', 'tons', 'tony', 'too', 'took', 'tool', 'tools', 'tooth', 'top', 'topic', 'tosca', 'total', 'totallly', 'totally', 'tou', 'touch', 'touching', 'touted', 'toward', 'towards', 'tower', 'town', 'toy', 'tp', 'track', 'traditional', 'traffic', 'trailer', 'trailers', 'trained', 'trainees', 'training', 'transferring', 'travel', 'traveling', 'travelling', 'través', 'treadmill', 'treat', 'treble', 'trek', 'tremendous', 'trending', 'trial', 'tricks', 'tricky', 'tried', 'tries', 'trigger', 'trip', 'trivia', 'trouble', 'troubleshooting', 'troublesome', 'troubling', 'true', 'truly', 'trust', 'try', 'trying', 'tube', 'tubi', 'tune', 'tunein', 'tunes', 'turn', 'turned', 'turning', 'turns', 'tv', 'tvs', 'tweeter', 'tweeters', 'twice', 'twist', 'twitter', 'two', 'ty', 'type', 'typed', 'types', 'typical', 'typically', 'typing', 'títulos', 'udefulness', 'ugly', 'uhyour', 'ummm', 'un', 'unable', 'unacceptable', 'unavailable', 'unbelievable', 'uncle', 'under', 'underestimated', 'understand', 'understanding', 'understands', 'understood', 'unexpected', 'unfortunately', 'unhappy', 'unhelpful', 'unico', 'unimportant', 'uninstall', 'unique', 'unit', 'units', 'universal', 'unless', 'unlike', 'unlimited', 'unlocking', 'unnannounced', 'unnecessary', 'unobtrusive', 'unplug', 'unplugged', 'unresponsive', 'unsettling', 'untapped', 'until', 'unusable', 'unused', 'unwitty', 'unwrapped', 'up', 'upcoming', 'update', 'updated', 'updates', 'updating', 'upgrade', 'upgraded', 'upgrades', 'upgrading', 'upload', 'upon', 'upset', 'upsetting', 'upstairs', 'urge', 'us', 'usa', 'usable', 'usage', 'usb', 'usde', 'use', 'used', 'useful', 'useless', 'user', 'users', 'uses', 'using', 'usual', 'usually', 'utility', 'utilización', 'utilize', 'utilizing', 'vacation', 'vacations', 'vacuum', 'value', 'variant', 'variety', 'various', 'vast', 've', 'vehicle', 'verbal', 'verbalize', 'verbally', 'versa', 'versatile', 'versatility', 'verse', 'verses', 'version', 'versions', 'versus', 'very', 'vetted', 'vez', 'via', 'vibrating', 'vice', 'viceo', 'video', 'videos', 'view', 'viewed', 'viewing', 'views', 'vintage', 'viola', 'virtual', 'virtually', 'visa', 'visible', 'vision', 'visiting', 'visits', 'visual', 'visuals', 'vlan', 'voice', 'voices', 'voiceview', 'voila', 'voltage', 'voltson', 'volume', 'vs', 'vudu', 'wait', 'waited', 'waiting', 'waits', 'wake', 'wakes', 'waking', 'walk', 'walked', 'walking', 'walks', 'wall', 'walls', 'want', 'wanted', 'wanting', 'warehouse', 'warning', 'warns', 'warranty', 'was', 'wasconcerned', 'wasn', 'wasnt', 'waste', 'wasted', 'watch', 'watched', 'watching', 'water', 'wattage', 'wave', 'way', 'ways', 'we', 'weak', 'wealth', 'wear', 'weary', 'weather', 'web', 'website', 'websites', 'wedding', 'week', 'weekday', 'weekdays', 'weekend', 'weekly', 'weeks', 'weight', 'weird', 'welcome', 'well', 'wellfour', 'went', 'were', 'weren', 'what', 'whatever', 'whats', 'whatsoever', 'whe', 'when', 'whenever', 'where', 'wherever', 'whether', 'which', 'while', 'whisper', 'whistles', 'white', 'who', 'whole', 'whom', 'whos', 'whose', 'why', 'wi', 'wide', 'widespread', 'wife', 'wifi', 'wikipedia', 'will', 'willing', 'wind', 'window', 'winds', 'wink', 'wireless', 'wish', 'wished', 'wishing', 'with', 'within', 'without', 'woke', 'woken', 'won', 'wonder', 'wonderful', 'wonderfully', 'wonders', 'wont', 'woofer', 'woofers', 'woohoo', 'word', 'words', 'work', 'workarounds', 'worked', 'worker', 'working', 'workout', 'workreat', 'works', 'world', 'worried', 'worry', 'worse', 'worst', 'worth', 'worthless', 'worthy', 'would', 'wouldn', 'wow', 'writes', 'writing', 'wrong', 'www', 'xbox', 'xfinity', 'xm', 'yale', 'yard', 'yards', 'yeah', 'year', 'years', 'yell', 'yelling', 'yellow', 'yep', 'yes', 'yesterday', 'yet', 'yhe', 'york', 'you', 'young', 'younger', 'youngest', 'your', 'yourself', 'youtube', 'yr', 'yrs', 'yup', 'zero', 'zigbee', 'zonked', 'zzzz', 'zzzzzzz', 'útil']\n"
          ],
          "name": "stdout"
        }
      ]
    },
    {
      "cell_type": "code",
      "metadata": {
        "id": "YG-Klw70A8CA",
        "colab_type": "code",
        "colab": {
          "base_uri": "https://localhost:8080/",
          "height": 136
        },
        "outputId": "28c65314-4156-4ee1-fc78-9e1a1d1b6385"
      },
      "source": [
        "print(alexa_countvectorizer.toarray())"
      ],
      "execution_count": 29,
      "outputs": [
        {
          "output_type": "stream",
          "text": [
            "[[0 0 0 ... 0 0 0]\n",
            " [0 0 0 ... 0 0 0]\n",
            " [0 0 0 ... 0 0 0]\n",
            " ...\n",
            " [0 0 0 ... 0 0 0]\n",
            " [0 0 0 ... 0 0 0]\n",
            " [0 0 0 ... 0 0 0]]\n"
          ],
          "name": "stdout"
        }
      ]
    },
    {
      "cell_type": "code",
      "metadata": {
        "id": "wxXmFE4TBFjb",
        "colab_type": "code",
        "colab": {}
      },
      "source": [
        "alexa_df.drop(['verified_reviews'], axis=1, inplace=True)\n",
        "reviews = pd.DataFrame(alexa_countvectorizer.toarray())"
      ],
      "execution_count": 31,
      "outputs": []
    },
    {
      "cell_type": "code",
      "metadata": {
        "id": "FXe0oL-pBUpv",
        "colab_type": "code",
        "colab": {}
      },
      "source": [
        "# Now let's concatenate them together\n",
        "alexa_df = pd.concat([alexa_df, reviews], axis=1)"
      ],
      "execution_count": 33,
      "outputs": []
    },
    {
      "cell_type": "code",
      "metadata": {
        "id": "K8fz0b-mBkQH",
        "colab_type": "code",
        "colab": {}
      },
      "source": [
        "alexa_df\n"
      ],
      "execution_count": null,
      "outputs": []
    },
    {
      "cell_type": "code",
      "metadata": {
        "id": "RMIXU9vsBs8w",
        "colab_type": "code",
        "colab": {}
      },
      "source": [
        "X = alexa_df.drop(['feedback'],axis=1)"
      ],
      "execution_count": 35,
      "outputs": []
    },
    {
      "cell_type": "code",
      "metadata": {
        "id": "jgDhy2iMB_f5",
        "colab_type": "code",
        "colab": {}
      },
      "source": [
        "X"
      ],
      "execution_count": null,
      "outputs": []
    },
    {
      "cell_type": "code",
      "metadata": {
        "id": "-VPjpCVKCCaz",
        "colab_type": "code",
        "colab": {}
      },
      "source": [
        "Y = alexa_df['feedback']"
      ],
      "execution_count": 37,
      "outputs": []
    },
    {
      "cell_type": "markdown",
      "metadata": {
        "id": "XYPX2DXzCKYb",
        "colab_type": "text"
      },
      "source": [
        "#**Train and Test the Model**"
      ]
    },
    {
      "cell_type": "code",
      "metadata": {
        "id": "ZugId9iSCQba",
        "colab_type": "code",
        "colab": {}
      },
      "source": [
        "from sklearn.model_selection import train_test_split\n",
        "\n",
        "X_train, X_test, y_train, y_test = train_test_split(X, Y, test_size = 0.20, random_state=5)"
      ],
      "execution_count": 38,
      "outputs": []
    },
    {
      "cell_type": "code",
      "metadata": {
        "id": "KBCtf_R1Cywl",
        "colab_type": "code",
        "colab": {
          "base_uri": "https://localhost:8080/",
          "height": 34
        },
        "outputId": "2bb06c93-de7b-4104-f020-ab9f8daaa162"
      },
      "source": [
        "X.shape, Y.shape"
      ],
      "execution_count": 40,
      "outputs": [
        {
          "output_type": "execute_result",
          "data": {
            "text/plain": [
              "((3150, 4059), (3150,))"
            ]
          },
          "metadata": {
            "tags": []
          },
          "execution_count": 40
        }
      ]
    },
    {
      "cell_type": "code",
      "metadata": {
        "id": "IVPZrYB6CZdX",
        "colab_type": "code",
        "colab": {
          "base_uri": "https://localhost:8080/",
          "height": 34
        },
        "outputId": "5998c34c-3b15-4f35-95cc-b9bbf61f9cae"
      },
      "source": [
        "X_train.shape, y_train.shape, X_test.shape"
      ],
      "execution_count": 39,
      "outputs": [
        {
          "output_type": "execute_result",
          "data": {
            "text/plain": [
              "((2520, 4059), (2520,), (630, 4059))"
            ]
          },
          "metadata": {
            "tags": []
          },
          "execution_count": 39
        }
      ]
    },
    {
      "cell_type": "code",
      "metadata": {
        "id": "KFTLU6uaC3Z7",
        "colab_type": "code",
        "colab": {}
      },
      "source": [
        "#Model\n",
        "\n",
        "model = tf.keras.models.Sequential()\n",
        "model.add(tf.keras.layers.Dense(units=400, activation='relu', input_shape=(4059, )))\n",
        "model.add(tf.keras.layers.Dense(units=200, activation='relu'))\n",
        "model.add(tf.keras.layers.Dense(units=1, activation='sigmoid'))\n"
      ],
      "execution_count": 76,
      "outputs": []
    },
    {
      "cell_type": "code",
      "metadata": {
        "id": "j83At7rCDuWh",
        "colab_type": "code",
        "colab": {
          "base_uri": "https://localhost:8080/",
          "height": 255
        },
        "outputId": "0d05bf67-b3f9-4c60-d961-43642796eaa9"
      },
      "source": [
        "model.summary()"
      ],
      "execution_count": 77,
      "outputs": [
        {
          "output_type": "stream",
          "text": [
            "Model: \"sequential_4\"\n",
            "_________________________________________________________________\n",
            "Layer (type)                 Output Shape              Param #   \n",
            "=================================================================\n",
            "dense_12 (Dense)             (None, 400)               1624000   \n",
            "_________________________________________________________________\n",
            "dense_13 (Dense)             (None, 200)               80200     \n",
            "_________________________________________________________________\n",
            "dense_14 (Dense)             (None, 1)                 201       \n",
            "=================================================================\n",
            "Total params: 1,704,401\n",
            "Trainable params: 1,704,401\n",
            "Non-trainable params: 0\n",
            "_________________________________________________________________\n"
          ],
          "name": "stdout"
        }
      ]
    },
    {
      "cell_type": "code",
      "metadata": {
        "id": "2rfvgdWHDihy",
        "colab_type": "code",
        "colab": {}
      },
      "source": [
        "model.compile(optimizer = 'Adam',  loss='binary_crossentropy', metrics = ['accuracy'])"
      ],
      "execution_count": 78,
      "outputs": []
    },
    {
      "cell_type": "code",
      "metadata": {
        "id": "LjQawr02ECi3",
        "colab_type": "code",
        "colab": {
          "base_uri": "https://localhost:8080/",
          "height": 357
        },
        "outputId": "d702e1ef-d664-48d6-8d47-d8d52cda5b27"
      },
      "source": [
        "epochs_hist = model.fit(X_train, y_train, epochs = 10)"
      ],
      "execution_count": 79,
      "outputs": [
        {
          "output_type": "stream",
          "text": [
            "Epoch 1/10\n",
            "79/79 [==============================] - 1s 11ms/step - loss: 0.2846 - accuracy: 0.9107\n",
            "Epoch 2/10\n",
            "79/79 [==============================] - 1s 11ms/step - loss: 0.0903 - accuracy: 0.9687\n",
            "Epoch 3/10\n",
            "79/79 [==============================] - 1s 11ms/step - loss: 0.0377 - accuracy: 0.9865\n",
            "Epoch 4/10\n",
            "79/79 [==============================] - 1s 11ms/step - loss: 0.0201 - accuracy: 0.9940\n",
            "Epoch 5/10\n",
            "79/79 [==============================] - 1s 11ms/step - loss: 0.0170 - accuracy: 0.9940\n",
            "Epoch 6/10\n",
            "79/79 [==============================] - 1s 11ms/step - loss: 0.0171 - accuracy: 0.9944\n",
            "Epoch 7/10\n",
            "79/79 [==============================] - 1s 11ms/step - loss: 0.0146 - accuracy: 0.9948\n",
            "Epoch 8/10\n",
            "79/79 [==============================] - 1s 11ms/step - loss: 0.0161 - accuracy: 0.9940\n",
            "Epoch 9/10\n",
            "79/79 [==============================] - 1s 11ms/step - loss: 0.0147 - accuracy: 0.9940\n",
            "Epoch 10/10\n",
            "79/79 [==============================] - 1s 11ms/step - loss: 0.0153 - accuracy: 0.9937\n"
          ],
          "name": "stdout"
        }
      ]
    },
    {
      "cell_type": "markdown",
      "metadata": {
        "id": "9CwCn1dYEueT",
        "colab_type": "text"
      },
      "source": [
        "#**Evaluate Model**"
      ]
    },
    {
      "cell_type": "code",
      "metadata": {
        "id": "TsERWfdnErQV",
        "colab_type": "code",
        "colab": {}
      },
      "source": [
        "from sklearn.metrics import classification_report, confusion_matrix\n"
      ],
      "execution_count": 80,
      "outputs": []
    },
    {
      "cell_type": "code",
      "metadata": {
        "id": "npkm3-0LE8xX",
        "colab_type": "code",
        "colab": {
          "base_uri": "https://localhost:8080/",
          "height": 282
        },
        "outputId": "ed5383d5-473d-4ace-fd6c-f0629060027b"
      },
      "source": [
        "y_pred_train = model.predict(X_train)\n",
        "y_pred_train\n",
        "\n",
        "y_pred_train = (y_pred_train > 0.5)\n",
        "\n",
        "cm = confusion_matrix(y_train, y_pred_train)\n",
        "sns.heatmap(cm, annot=True)"
      ],
      "execution_count": 81,
      "outputs": [
        {
          "output_type": "execute_result",
          "data": {
            "text/plain": [
              "<matplotlib.axes._subplots.AxesSubplot at 0x7f7a21bfe9e8>"
            ]
          },
          "metadata": {
            "tags": []
          },
          "execution_count": 81
        },
        {
          "output_type": "display_data",
          "data": {
            "image/png": "[encoded data removed]",
            "text/plain": [
              "<Figure size 432x288 with 2 Axes>"
            ]
          },
          "metadata": {
            "tags": [],
            "needs_background": "light"
          }
        }
      ]
    },
    {
      "cell_type": "code",
      "metadata": {
        "id": "adZsmsvKFhXD",
        "colab_type": "code",
        "colab": {
          "base_uri": "https://localhost:8080/",
          "height": 282
        },
        "outputId": "aa9f72bd-6cb0-430b-bbb7-376dd92f90f8"
      },
      "source": [
        "y_pred_test = model.predict(X_test)\n",
        "y_pred_test\n",
        "\n",
        "y_pred_test = (y_pred_test > 0.5)\n",
        "\n",
        "cm = confusion_matrix(y_test, y_pred_test)\n",
        "sns.heatmap(cm, annot=True)"
      ],
      "execution_count": 82,
      "outputs": [
        {
          "output_type": "execute_result",
          "data": {
            "text/plain": [
              "<matplotlib.axes._subplots.AxesSubplot at 0x7f7a21382470>"
            ]
          },
          "metadata": {
            "tags": []
          },
          "execution_count": 82
        },
        {
          "output_type": "display_data",
          "data": {
            "image/png": "[encoded data removed]",
            "text/plain": [
              "<Figure size 432x288 with 2 Axes>"
            ]
          },
          "metadata": {
            "tags": [],
            "needs_background": "light"
          }
        }
      ]
    },
    {
      "cell_type": "code",
      "metadata": {
        "id": "X3icsbEOF7Oi",
        "colab_type": "code",
        "colab": {
          "base_uri": "https://localhost:8080/",
          "height": 34
        },
        "outputId": "7ef8eee2-263b-4bf9-d8ac-f606495e7620"
      },
      "source": [
        "epochs_hist.history.keys()"
      ],
      "execution_count": 83,
      "outputs": [
        {
          "output_type": "execute_result",
          "data": {
            "text/plain": [
              "dict_keys(['loss', 'accuracy'])"
            ]
          },
          "metadata": {
            "tags": []
          },
          "execution_count": 83
        }
      ]
    },
    {
      "cell_type": "code",
      "metadata": {
        "id": "rpwWLjg2GAJP",
        "colab_type": "code",
        "colab": {
          "base_uri": "https://localhost:8080/",
          "height": 312
        },
        "outputId": "72bf7dc4-5118-4e95-837c-a98eeb9f4182"
      },
      "source": [
        "plt.plot(epochs_hist.history['loss'])\n",
        "\n",
        "plt.title('Model Loss Progress During Training')\n",
        "plt.xlabel('Epoch')\n",
        "plt.ylabel('Training Loss')\n",
        "plt.legend(['Training Loss'])"
      ],
      "execution_count": 84,
      "outputs": [
        {
          "output_type": "execute_result",
          "data": {
            "text/plain": [
              "<matplotlib.legend.Legend at 0x7f7a2257f630>"
            ]
          },
          "metadata": {
            "tags": []
          },
          "execution_count": 84
        },
        {
          "output_type": "display_data",
          "data": {
            "image/png": "[encoded data removed]",
            "text/plain": [
              "<Figure size 432x288 with 1 Axes>"
            ]
          },
          "metadata": {
            "tags": [],
            "needs_background": "light"
          }
        }
      ]
    },
    {
      "cell_type": "code",
      "metadata": {
        "id": "VVoUoEgfGLQM",
        "colab_type": "code",
        "colab": {
          "base_uri": "https://localhost:8080/",
          "height": 312
        },
        "outputId": "e0abb1be-c0e5-4df5-cf1a-f118482bf930"
      },
      "source": [
        "plt.plot(epochs_hist.history['accuracy'])\n",
        "\n",
        "plt.title('Model accuracy Progress During Training')\n",
        "plt.xlabel('Epoch')\n",
        "plt.ylabel('Training accuracy')\n",
        "plt.legend(['Training accuracy'])"
      ],
      "execution_count": 85,
      "outputs": [
        {
          "output_type": "execute_result",
          "data": {
            "text/plain": [
              "<matplotlib.legend.Legend at 0x7f7a21315208>"
            ]
          },
          "metadata": {
            "tags": []
          },
          "execution_count": 85
        },
        {
          "output_type": "display_data",
          "data": {
            "image/png": "[encoded data removed]",
            "text/plain": [
              "<Figure size 432x288 with 1 Axes>"
            ]
          },
          "metadata": {
            "tags": [],
            "needs_background": "light"
          }
        }
      ]
    },
    {
      "cell_type": "markdown",
      "metadata": {
        "id": "A4NN48GCHiAm",
        "colab_type": "text"
      },
      "source": [
        "**Good Classification model. This can predict if a review is a positive or negative feedback with accuracy of >99%**"
      ]
    }
  ]
}