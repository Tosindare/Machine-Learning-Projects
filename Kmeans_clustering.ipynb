{
  "nbformat": 4,
  "nbformat_minor": 0,
  "metadata": {
    "colab": {
      "name": "Kmeans clustering.ipynb",
      "provenance": [],
      "collapsed_sections": [],
      "authorship_tag": "ABX9TyOvNZiUBvpwDFiYQ4NyfAba"
    },
    "kernelspec": {
      "name": "python3",
      "display_name": "Python 3"
    }
  },
  "cells": [
    {
      "cell_type": "markdown",
      "metadata": {
        "id": "nyjTyg6P9OuJ",
        "colab_type": "text"
      },
      "source": [
        "# K-Mean Clustering using sklearn "
      ]
    },
    {
      "cell_type": "code",
      "metadata": {
        "id": "r6TfpBDqjBoP",
        "colab_type": "code",
        "colab": {}
      },
      "source": [
        "from sklearn.datasets.samples_generator import make_classification\n",
        "\n",
        " # Generate random data with two features and one cluster/target label \n",
        "\n",
        "X, y = make_classification(n_samples=200, n_features=2, n_classes=3, n_clusters_per_class=1, n_informative=2, n_redundant=0, random_state=0)\n",
        "\n",
        "X,y\n",
        "\n",
        " "
      ],
      "execution_count": 0,
      "outputs": []
    },
    {
      "cell_type": "code",
      "metadata": {
        "id": "S7TDwkQF4ol9",
        "colab_type": "code",
        "colab": {}
      },
      "source": [
        "import pandas as pd\n",
        "import seaborn as sns\n",
        "import matplotlib.pyplot as plt"
      ],
      "execution_count": 0,
      "outputs": []
    },
    {
      "cell_type": "markdown",
      "metadata": {
        "id": "OL90kRcV90kC",
        "colab_type": "text"
      },
      "source": [
        "###Creating a Dataframe from the generated data "
      ]
    },
    {
      "cell_type": "code",
      "metadata": {
        "id": "yO4UZ4vc2niC",
        "colab_type": "code",
        "colab": {}
      },
      "source": [
        "df = pd.DataFrame(X)\n",
        "df['y']= y\n",
        "\n",
        "\n",
        "\n",
        "df.columns = ['X1', 'X2', 'Y']\n",
        "df"
      ],
      "execution_count": 0,
      "outputs": []
    },
    {
      "cell_type": "markdown",
      "metadata": {
        "id": "I3PKGjHn_ePz",
        "colab_type": "text"
      },
      "source": [
        "### Create DataFrame without the cluster column"
      ]
    },
    {
      "cell_type": "code",
      "metadata": {
        "id": "9XOsvO-jB8Qg",
        "colab_type": "code",
        "outputId": "9ddd076c-fe7b-41dd-eb01-df133d14fad4",
        "colab": {
          "base_uri": "https://localhost:8080/",
          "height": 419
        }
      },
      "source": [
        "df1 = df.drop(['Y'], axis=1)\n",
        "df1"
      ],
      "execution_count": 0,
      "outputs": [
        {
          "output_type": "execute_result",
          "data": {
            "text/html": [
              "<div>\n",
              "<style scoped>\n",
              "    .dataframe tbody tr th:only-of-type {\n",
              "        vertical-align: middle;\n",
              "    }\n",
              "\n",
              "    .dataframe tbody tr th {\n",
              "        vertical-align: top;\n",
              "    }\n",
              "\n",
              "    .dataframe thead th {\n",
              "        text-align: right;\n",
              "    }\n",
              "</style>\n",
              "<table border=\"1\" class=\"dataframe\">\n",
              "  <thead>\n",
              "    <tr style=\"text-align: right;\">\n",
              "      <th></th>\n",
              "      <th>X1</th>\n",
              "      <th>X2</th>\n",
              "    </tr>\n",
              "  </thead>\n",
              "  <tbody>\n",
              "    <tr>\n",
              "      <th>0</th>\n",
              "      <td>1.201204</td>\n",
              "      <td>2.685858</td>\n",
              "    </tr>\n",
              "    <tr>\n",
              "      <th>1</th>\n",
              "      <td>-0.475656</td>\n",
              "      <td>1.278883</td>\n",
              "    </tr>\n",
              "    <tr>\n",
              "      <th>2</th>\n",
              "      <td>1.854452</td>\n",
              "      <td>0.021771</td>\n",
              "    </tr>\n",
              "    <tr>\n",
              "      <th>3</th>\n",
              "      <td>0.126927</td>\n",
              "      <td>0.024181</td>\n",
              "    </tr>\n",
              "    <tr>\n",
              "      <th>4</th>\n",
              "      <td>-0.988873</td>\n",
              "      <td>0.788911</td>\n",
              "    </tr>\n",
              "    <tr>\n",
              "      <th>...</th>\n",
              "      <td>...</td>\n",
              "      <td>...</td>\n",
              "    </tr>\n",
              "    <tr>\n",
              "      <th>195</th>\n",
              "      <td>0.020843</td>\n",
              "      <td>1.029939</td>\n",
              "    </tr>\n",
              "    <tr>\n",
              "      <th>196</th>\n",
              "      <td>0.662639</td>\n",
              "      <td>-1.150929</td>\n",
              "    </tr>\n",
              "    <tr>\n",
              "      <th>197</th>\n",
              "      <td>2.077741</td>\n",
              "      <td>-1.610384</td>\n",
              "    </tr>\n",
              "    <tr>\n",
              "      <th>198</th>\n",
              "      <td>-1.710734</td>\n",
              "      <td>0.684729</td>\n",
              "    </tr>\n",
              "    <tr>\n",
              "      <th>199</th>\n",
              "      <td>-1.331830</td>\n",
              "      <td>0.891024</td>\n",
              "    </tr>\n",
              "  </tbody>\n",
              "</table>\n",
              "<p>200 rows × 2 columns</p>\n",
              "</div>"
            ],
            "text/plain": [
              "           X1        X2\n",
              "0    1.201204  2.685858\n",
              "1   -0.475656  1.278883\n",
              "2    1.854452  0.021771\n",
              "3    0.126927  0.024181\n",
              "4   -0.988873  0.788911\n",
              "..        ...       ...\n",
              "195  0.020843  1.029939\n",
              "196  0.662639 -1.150929\n",
              "197  2.077741 -1.610384\n",
              "198 -1.710734  0.684729\n",
              "199 -1.331830  0.891024\n",
              "\n",
              "[200 rows x 2 columns]"
            ]
          },
          "metadata": {
            "tags": []
          },
          "execution_count": 52
        }
      ]
    },
    {
      "cell_type": "markdown",
      "metadata": {
        "id": "hnMxjJ3Y-kz4",
        "colab_type": "text"
      },
      "source": [
        "### Having a feel of the data by visualising it oon a scatter plot"
      ]
    },
    {
      "cell_type": "code",
      "metadata": {
        "id": "LxepGED48lTI",
        "colab_type": "code",
        "outputId": "fb465617-fe74-48d9-e6e7-67e27fe03c05",
        "colab": {
          "base_uri": "https://localhost:8080/",
          "height": 388
        }
      },
      "source": [
        "fig, ax=plt.subplots(figsize = (8,6))\n",
        "ax = sns.scatterplot(x= 'X1', y= 'X2', data=df)"
      ],
      "execution_count": 0,
      "outputs": [
        {
          "output_type": "display_data",
          "data": {
            "image/png": "[encoded data removed]",
            "text/plain": [
              "<Figure size 576x432 with 1 Axes>"
            ]
          },
          "metadata": {
            "tags": [],
            "needs_background": "light"
          }
        }
      ]
    },
    {
      "cell_type": "markdown",
      "metadata": {
        "id": "-n2w-Llq-zIf",
        "colab_type": "text"
      },
      "source": [
        "### Building and testing the K Mean Model"
      ]
    },
    {
      "cell_type": "code",
      "metadata": {
        "id": "FfFjKOz2_7O_",
        "colab_type": "code",
        "colab": {}
      },
      "source": [
        "from sklearn.cluster import KMeans"
      ],
      "execution_count": 0,
      "outputs": []
    },
    {
      "cell_type": "code",
      "metadata": {
        "id": "SPlFnKDCA9O_",
        "colab_type": "code",
        "outputId": "2371d082-be2a-423f-f033-c0a1dcff17e4",
        "colab": {
          "base_uri": "https://localhost:8080/",
          "height": 68
        }
      },
      "source": [
        "kmeans = KMeans(n_clusters=3)\n",
        "kmeans"
      ],
      "execution_count": 0,
      "outputs": [
        {
          "output_type": "execute_result",
          "data": {
            "text/plain": [
              "KMeans(algorithm='auto', copy_x=True, init='k-means++', max_iter=300,\n",
              "       n_clusters=3, n_init=10, n_jobs=None, precompute_distances='auto',\n",
              "       random_state=None, tol=0.0001, verbose=0)"
            ]
          },
          "metadata": {
            "tags": []
          },
          "execution_count": 49
        }
      ]
    },
    {
      "cell_type": "code",
      "metadata": {
        "id": "F_waKYnjBRZ8",
        "colab_type": "code",
        "outputId": "86368fc6-949a-4eb1-b03a-2d5a2de9ea58",
        "colab": {
          "base_uri": "https://localhost:8080/",
          "height": 34
        }
      },
      "source": [
        "# Inertia value\n",
        "KModel = kmeans.fit(df1)\n",
        "KModel.inertia_"
      ],
      "execution_count": 0,
      "outputs": [
        {
          "output_type": "execute_result",
          "data": {
            "text/plain": [
              "187.91367060704124"
            ]
          },
          "metadata": {
            "tags": []
          },
          "execution_count": 55
        }
      ]
    },
    {
      "cell_type": "markdown",
      "metadata": {
        "id": "E_KsiIrgAB6O",
        "colab_type": "text"
      },
      "source": [
        "### Predicted clustering from KMean Model"
      ]
    },
    {
      "cell_type": "code",
      "metadata": {
        "id": "ZNcnCuiUC5BL",
        "colab_type": "code",
        "outputId": "6baed005-8a98-486a-d281-a3229641e3eb",
        "colab": {
          "base_uri": "https://localhost:8080/",
          "height": 187
        }
      },
      "source": [
        "KModel.labels_"
      ],
      "execution_count": 0,
      "outputs": [
        {
          "output_type": "execute_result",
          "data": {
            "text/plain": [
              "array([1, 0, 2, 2, 0, 0, 0, 2, 1, 0, 2, 2, 1, 1, 1, 0, 1, 0, 1, 2, 2, 2,\n",
              "       2, 1, 0, 0, 2, 1, 2, 2, 1, 2, 2, 1, 0, 0, 2, 0, 0, 2, 1, 2, 2, 0,\n",
              "       1, 1, 1, 1, 2, 0, 2, 0, 1, 1, 1, 0, 0, 2, 1, 0, 1, 2, 0, 2, 0, 2,\n",
              "       0, 1, 1, 0, 2, 2, 2, 2, 1, 2, 1, 0, 0, 0, 2, 2, 1, 0, 1, 0, 0, 0,\n",
              "       0, 2, 2, 1, 1, 2, 1, 2, 2, 2, 2, 0, 2, 2, 2, 1, 2, 1, 1, 2, 1, 0,\n",
              "       2, 0, 1, 0, 1, 0, 2, 1, 1, 0, 2, 2, 2, 0, 1, 2, 1, 1, 2, 1, 0, 1,\n",
              "       1, 0, 2, 2, 1, 2, 2, 0, 0, 2, 2, 1, 2, 2, 1, 1, 1, 1, 2, 2, 1, 0,\n",
              "       2, 0, 1, 2, 0, 0, 1, 0, 2, 0, 2, 2, 2, 1, 1, 1, 0, 1, 2, 2, 0, 2,\n",
              "       2, 1, 1, 2, 2, 0, 0, 2, 2, 0, 0, 2, 2, 1, 2, 2, 2, 1, 1, 1, 2, 2,\n",
              "       0, 0], dtype=int32)"
            ]
          },
          "metadata": {
            "tags": []
          },
          "execution_count": 56
        }
      ]
    },
    {
      "cell_type": "code",
      "metadata": {
        "id": "xvoXVSdWDHST",
        "colab_type": "code",
        "outputId": "8ac91ad2-d479-40ff-8531-d830a9538303",
        "colab": {
          "base_uri": "https://localhost:8080/",
          "height": 173
        }
      },
      "source": [
        "# Checking the performance of the Model\n",
        "\n",
        "pd.crosstab(df.Y, KModel.labels_)"
      ],
      "execution_count": 0,
      "outputs": [
        {
          "output_type": "execute_result",
          "data": {
            "text/html": [
              "<div>\n",
              "<style scoped>\n",
              "    .dataframe tbody tr th:only-of-type {\n",
              "        vertical-align: middle;\n",
              "    }\n",
              "\n",
              "    .dataframe tbody tr th {\n",
              "        vertical-align: top;\n",
              "    }\n",
              "\n",
              "    .dataframe thead th {\n",
              "        text-align: right;\n",
              "    }\n",
              "</style>\n",
              "<table border=\"1\" class=\"dataframe\">\n",
              "  <thead>\n",
              "    <tr style=\"text-align: right;\">\n",
              "      <th>col_0</th>\n",
              "      <th>0</th>\n",
              "      <th>1</th>\n",
              "      <th>2</th>\n",
              "    </tr>\n",
              "    <tr>\n",
              "      <th>Y</th>\n",
              "      <th></th>\n",
              "      <th></th>\n",
              "      <th></th>\n",
              "    </tr>\n",
              "  </thead>\n",
              "  <tbody>\n",
              "    <tr>\n",
              "      <th>0</th>\n",
              "      <td>55</td>\n",
              "      <td>11</td>\n",
              "      <td>0</td>\n",
              "    </tr>\n",
              "    <tr>\n",
              "      <th>1</th>\n",
              "      <td>0</td>\n",
              "      <td>51</td>\n",
              "      <td>17</td>\n",
              "    </tr>\n",
              "    <tr>\n",
              "      <th>2</th>\n",
              "      <td>1</td>\n",
              "      <td>1</td>\n",
              "      <td>64</td>\n",
              "    </tr>\n",
              "  </tbody>\n",
              "</table>\n",
              "</div>"
            ],
            "text/plain": [
              "col_0   0   1   2\n",
              "Y                \n",
              "0      55  11   0\n",
              "1       0  51  17\n",
              "2       1   1  64"
            ]
          },
          "metadata": {
            "tags": []
          },
          "execution_count": 57
        }
      ]
    },
    {
      "cell_type": "code",
      "metadata": {
        "id": "95qyXsvhF12F",
        "colab_type": "code",
        "outputId": "b2121327-26cd-4fe8-b7c0-7660245f0ae8",
        "colab": {
          "base_uri": "https://localhost:8080/",
          "height": 419
        }
      },
      "source": [
        "Y_train = KModel.labels_\n",
        "df['Y_train'] = Y_train\n",
        "df"
      ],
      "execution_count": 0,
      "outputs": [
        {
          "output_type": "execute_result",
          "data": {
            "text/html": [
              "<div>\n",
              "<style scoped>\n",
              "    .dataframe tbody tr th:only-of-type {\n",
              "        vertical-align: middle;\n",
              "    }\n",
              "\n",
              "    .dataframe tbody tr th {\n",
              "        vertical-align: top;\n",
              "    }\n",
              "\n",
              "    .dataframe thead th {\n",
              "        text-align: right;\n",
              "    }\n",
              "</style>\n",
              "<table border=\"1\" class=\"dataframe\">\n",
              "  <thead>\n",
              "    <tr style=\"text-align: right;\">\n",
              "      <th></th>\n",
              "      <th>X1</th>\n",
              "      <th>X2</th>\n",
              "      <th>Y</th>\n",
              "      <th>Y_train</th>\n",
              "    </tr>\n",
              "  </thead>\n",
              "  <tbody>\n",
              "    <tr>\n",
              "      <th>0</th>\n",
              "      <td>1.201204</td>\n",
              "      <td>2.685858</td>\n",
              "      <td>1</td>\n",
              "      <td>1</td>\n",
              "    </tr>\n",
              "    <tr>\n",
              "      <th>1</th>\n",
              "      <td>-0.475656</td>\n",
              "      <td>1.278883</td>\n",
              "      <td>0</td>\n",
              "      <td>0</td>\n",
              "    </tr>\n",
              "    <tr>\n",
              "      <th>2</th>\n",
              "      <td>1.854452</td>\n",
              "      <td>0.021771</td>\n",
              "      <td>2</td>\n",
              "      <td>2</td>\n",
              "    </tr>\n",
              "    <tr>\n",
              "      <th>3</th>\n",
              "      <td>0.126927</td>\n",
              "      <td>0.024181</td>\n",
              "      <td>2</td>\n",
              "      <td>2</td>\n",
              "    </tr>\n",
              "    <tr>\n",
              "      <th>4</th>\n",
              "      <td>-0.988873</td>\n",
              "      <td>0.788911</td>\n",
              "      <td>0</td>\n",
              "      <td>0</td>\n",
              "    </tr>\n",
              "    <tr>\n",
              "      <th>...</th>\n",
              "      <td>...</td>\n",
              "      <td>...</td>\n",
              "      <td>...</td>\n",
              "      <td>...</td>\n",
              "    </tr>\n",
              "    <tr>\n",
              "      <th>195</th>\n",
              "      <td>0.020843</td>\n",
              "      <td>1.029939</td>\n",
              "      <td>0</td>\n",
              "      <td>1</td>\n",
              "    </tr>\n",
              "    <tr>\n",
              "      <th>196</th>\n",
              "      <td>0.662639</td>\n",
              "      <td>-1.150929</td>\n",
              "      <td>2</td>\n",
              "      <td>2</td>\n",
              "    </tr>\n",
              "    <tr>\n",
              "      <th>197</th>\n",
              "      <td>2.077741</td>\n",
              "      <td>-1.610384</td>\n",
              "      <td>2</td>\n",
              "      <td>2</td>\n",
              "    </tr>\n",
              "    <tr>\n",
              "      <th>198</th>\n",
              "      <td>-1.710734</td>\n",
              "      <td>0.684729</td>\n",
              "      <td>0</td>\n",
              "      <td>0</td>\n",
              "    </tr>\n",
              "    <tr>\n",
              "      <th>199</th>\n",
              "      <td>-1.331830</td>\n",
              "      <td>0.891024</td>\n",
              "      <td>0</td>\n",
              "      <td>0</td>\n",
              "    </tr>\n",
              "  </tbody>\n",
              "</table>\n",
              "<p>200 rows × 4 columns</p>\n",
              "</div>"
            ],
            "text/plain": [
              "           X1        X2  Y  Y_train\n",
              "0    1.201204  2.685858  1        1\n",
              "1   -0.475656  1.278883  0        0\n",
              "2    1.854452  0.021771  2        2\n",
              "3    0.126927  0.024181  2        2\n",
              "4   -0.988873  0.788911  0        0\n",
              "..        ...       ... ..      ...\n",
              "195  0.020843  1.029939  0        1\n",
              "196  0.662639 -1.150929  2        2\n",
              "197  2.077741 -1.610384  2        2\n",
              "198 -1.710734  0.684729  0        0\n",
              "199 -1.331830  0.891024  0        0\n",
              "\n",
              "[200 rows x 4 columns]"
            ]
          },
          "metadata": {
            "tags": []
          },
          "execution_count": 67
        }
      ]
    },
    {
      "cell_type": "code",
      "metadata": {
        "id": "oqiwzlJyDwrL",
        "colab_type": "code",
        "outputId": "490a2ff1-0f51-4f08-d560-95cc07677b0e",
        "colab": {
          "base_uri": "https://localhost:8080/",
          "height": 374
        }
      },
      "source": [
        "# Two plots showing the actual and modelled clustering labels\n",
        "# Model not too bad!!!\n",
        "\n",
        "fig, (ax,bx)= plt.subplots(nrows=1, ncols=2, figsize=(16, 6))\n",
        "\n",
        "ax.scatter(df[\"X1\"], df[\"X2\"], c=df[\"Y\"])\n",
        "bx.scatter(df[\"X1\"], df[\"X2\"], c=df[\"Y_train\"]);"
      ],
      "execution_count": 0,
      "outputs": [
        {
          "output_type": "display_data",
          "data": {
            "image/png": "[encoded data removed]",
            "text/plain": [
              "<Figure size 1152x432 with 2 Axes>"
            ]
          },
          "metadata": {
            "tags": [],
            "needs_background": "light"
          }
        }
      ]
    }
  ]
}