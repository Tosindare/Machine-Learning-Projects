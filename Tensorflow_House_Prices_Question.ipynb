{
  "nbformat": 4,
  "nbformat_minor": 0,
  "metadata": {
    "colab": {
      "name": "Tensorflow_House_Prices_Question.ipynb",
      "provenance": [],
      "toc_visible": true
    },
    "kernelspec": {
      "display_name": "Python 3",
      "name": "python3"
    }
  },
  "cells": [
    {
      "cell_type": "markdown",
      "metadata": {
        "colab_type": "text",
        "id": "mw2VBrBcgvGa"
      },
      "source": [
        "In this exercise you'll try to build a neural network that predicts the price of a house according to a simple formula.\n",
        "\n",
        "So, imagine if house pricing was as easy as a house costs 50k + 55k per bedroom, so that a 1 bedroom house costs 5k, a 2 bedroom house costs 150k etc.\n",
        "\n",
        "How would you create a neural network that learns this relationship so that it would predict a 7 bedroom house as costing close to 400k etc.\n",
        "\n",
        "Hint: Your network might work better if you scale the house price down. You don't have to give the answer 400...it might be better to create something that predicts the number 4, and then your answer is in the 'hundreds of thousands' etc."
      ]
    },
    {
      "cell_type": "code",
      "metadata": {
        "colab_type": "code",
        "id": "PUNO2E6SeURH",
        "colab": {}
      },
      "source": [
        "import tensorflow as tf\n",
        "import pandas as pd\n",
        "import numpy as np\n",
        "import matplotlib.pyplot as plt\n",
        "import seaborn as sn\n",
        "from tensorflow import keras\n",
        "# model = # Your Code Here#\n",
        "# model.compile(# Your Code Here#)\n",
        "# xs = # Your Code Here#\n",
        "# ys = # Your Code Here#\n",
        "# model.fit(# Your Code here#)\n",
        "# print(model.predict([7.0]))"
      ],
      "execution_count": 0,
      "outputs": []
    },
    {
      "cell_type": "code",
      "metadata": {
        "id": "S8AW4FPfb6Os",
        "colab_type": "code",
        "outputId": "f45c304c-72a7-40b4-dfce-22a0a9284a38",
        "colab": {
          "base_uri": "https://localhost:8080/",
          "height": 204
        }
      },
      "source": [
        "house_price = pd.read_csv(\"HousePrices.csv\")\n",
        "house_price[\"Price\"]/=10000\n",
        "house_price.head()"
      ],
      "execution_count": 0,
      "outputs": [
        {
          "output_type": "execute_result",
          "data": {
            "text/html": [
              "<div>\n",
              "<style scoped>\n",
              "    .dataframe tbody tr th:only-of-type {\n",
              "        vertical-align: middle;\n",
              "    }\n",
              "\n",
              "    .dataframe tbody tr th {\n",
              "        vertical-align: top;\n",
              "    }\n",
              "\n",
              "    .dataframe thead th {\n",
              "        text-align: right;\n",
              "    }\n",
              "</style>\n",
              "<table border=\"1\" class=\"dataframe\">\n",
              "  <thead>\n",
              "    <tr style=\"text-align: right;\">\n",
              "      <th></th>\n",
              "      <th>House ID</th>\n",
              "      <th>Bedrooms</th>\n",
              "      <th>cost</th>\n",
              "      <th>Price</th>\n",
              "    </tr>\n",
              "  </thead>\n",
              "  <tbody>\n",
              "    <tr>\n",
              "      <th>0</th>\n",
              "      <td>1</td>\n",
              "      <td>7</td>\n",
              "      <td>401490.93</td>\n",
              "      <td>40.149</td>\n",
              "    </tr>\n",
              "    <tr>\n",
              "      <th>1</th>\n",
              "      <td>2</td>\n",
              "      <td>7</td>\n",
              "      <td>401359.15</td>\n",
              "      <td>40.136</td>\n",
              "    </tr>\n",
              "    <tr>\n",
              "      <th>2</th>\n",
              "      <td>3</td>\n",
              "      <td>9</td>\n",
              "      <td>519101.36</td>\n",
              "      <td>51.910</td>\n",
              "    </tr>\n",
              "    <tr>\n",
              "      <th>3</th>\n",
              "      <td>4</td>\n",
              "      <td>6</td>\n",
              "      <td>352602.83</td>\n",
              "      <td>35.260</td>\n",
              "    </tr>\n",
              "    <tr>\n",
              "      <th>4</th>\n",
              "      <td>5</td>\n",
              "      <td>9</td>\n",
              "      <td>535648.32</td>\n",
              "      <td>53.565</td>\n",
              "    </tr>\n",
              "  </tbody>\n",
              "</table>\n",
              "</div>"
            ],
            "text/plain": [
              "   House ID  Bedrooms       cost   Price\n",
              "0         1         7  401490.93  40.149\n",
              "1         2         7  401359.15  40.136\n",
              "2         3         9  519101.36  51.910\n",
              "3         4         6  352602.83  35.260\n",
              "4         5         9  535648.32  53.565"
            ]
          },
          "metadata": {
            "tags": []
          },
          "execution_count": 63
        }
      ]
    },
    {
      "cell_type": "code",
      "metadata": {
        "id": "w7lCYzIikFy7",
        "colab_type": "code",
        "colab": {}
      },
      "source": [
        "model = tf.keras.Sequential([keras.layers.Dense(units=1, input_shape=[1])])"
      ],
      "execution_count": 0,
      "outputs": []
    },
    {
      "cell_type": "code",
      "metadata": {
        "id": "qAQFupdCkmuA",
        "colab_type": "code",
        "colab": {}
      },
      "source": [
        "model.compile(optimizer='sgd', loss='mean_squared_error')"
      ],
      "execution_count": 0,
      "outputs": []
    },
    {
      "cell_type": "code",
      "metadata": {
        "id": "hWb89UUNko6U",
        "colab_type": "code",
        "colab": {}
      },
      "source": [
        "bedroom = house_price['Bedrooms']\n",
        "price = house_price['Price']\n"
      ],
      "execution_count": 0,
      "outputs": []
    },
    {
      "cell_type": "code",
      "metadata": {
        "id": "AVchtFNDldvG",
        "colab_type": "code",
        "colab": {}
      },
      "source": [
        "model.fit(bedroom, price, epochs=500)"
      ],
      "execution_count": 0,
      "outputs": []
    },
    {
      "cell_type": "code",
      "metadata": {
        "id": "cSAT3AY2M7hR",
        "colab_type": "code",
        "outputId": "f7b75adc-c6e4-4bb3-e53c-694899233b22",
        "colab": {
          "base_uri": "https://localhost:8080/",
          "height": 34
        }
      },
      "source": [
        "print(model.predict([11.0]))"
      ],
      "execution_count": 0,
      "outputs": [
        {
          "output_type": "stream",
          "text": [
            "[[63.884415]]\n"
          ],
          "name": "stdout"
        }
      ]
    },
    {
      "cell_type": "markdown",
      "metadata": {
        "id": "FkKg9kUYNEuF",
        "colab_type": "text"
      },
      "source": [
        "#Another example"
      ]
    },
    {
      "cell_type": "markdown",
      "metadata": {
        "id": "S8JiGGCCNX4I",
        "colab_type": "text"
      },
      "source": [
        "\n",
        "Make a function which trains a neural network to predict\n",
        "house prices following the rule:\n",
        "price = $50k + $50k*number of bedrooms\n"
      ]
    },
    {
      "cell_type": "code",
      "metadata": {
        "id": "Fo_xhwIBNgnE",
        "colab_type": "code",
        "colab": {}
      },
      "source": [
        "def house_model(y_new):\n",
        "    # Number of bedrooms\n",
        "    xs = np.array([10.0, 5.0, 6.0, 8.0, 4.0, 3.0, 9.0, 5.0, 2.0, 1.0, 50.0], \n",
        "                  dtype=float)\n",
        "\t\t# Price (in hundreds of thousands)\n",
        "    ys = np.array([5.5, 3.0, 3.5, 4.5, 2.5, 2.0, 5.0, 3.0, 1.5, 1.0, 25.5], \n",
        "                  dtype=float)\n",
        "    \n",
        "    model = tf.keras.Sequential([keras.layers.Dense(units=1, input_shape=[1])])\n",
        "    model.compile(optimizer=\"adam\", loss=\"mean_squared_error\")\n",
        "    model.fit(xs, ys, epochs=500)\n",
        "    return model.predict(y_new)[0]\n",
        "\n",
        "print(house_model([7]))"
      ],
      "execution_count": 0,
      "outputs": []
    }
  ]
}