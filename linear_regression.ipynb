{
  "nbformat": 4,
  "nbformat_minor": 0,
  "metadata": {
    "colab": {
      "name": "linear_regression.ipynb",
      "provenance": [],
      "collapsed_sections": [],
      "authorship_tag": "ABX9TyOd7WstBsO8Pr7HEw4/VVUJ"
    },
    "kernelspec": {
      "name": "python3",
      "display_name": "Python 3"
    }
  },
  "cells": [
    {
      "cell_type": "markdown",
      "metadata": {
        "id": "xuLQb4DXRUUN",
        "colab_type": "text"
      },
      "source": [
        "# Predict house prices \n",
        "Machine learning using linear regression\n",
        "Dataset based on 1990 census data from California"
      ]
    },
    {
      "cell_type": "code",
      "metadata": {
        "id": "WNnm_-gGGyaZ",
        "colab_type": "code",
        "colab": {}
      },
      "source": [
        "import pandas as pd\n",
        "import numpy as np\n",
        "import tensorflow as tf\n",
        "from matplotlib import pyplot as plt\n",
        "%tensorflow_version 2.x\n",
        "\n",
        "# pd.options.display.max_rows = 10\n",
        "# pd.options.display.float_format = \"{:.1f}\".format"
      ],
      "execution_count": 0,
      "outputs": []
    },
    {
      "cell_type": "markdown",
      "metadata": {
        "id": "9IRqI7fnRFmF",
        "colab_type": "text"
      },
      "source": [
        "##Load data"
      ]
    },
    {
      "cell_type": "code",
      "metadata": {
        "id": "WM2iq_1zVEYl",
        "colab_type": "code",
        "colab": {}
      },
      "source": [
        "training_data = pd.read_csv(\"https://download.mlcc.google.com/mledu-datasets/california_housing_train.csv\")\n",
        "\n",
        "training_data[\"median_house_value\"]/=1000.0\n",
        "training_data.head()"
      ],
      "execution_count": 0,
      "outputs": []
    },
    {
      "cell_type": "code",
      "metadata": {
        "id": "XrV8Qk3BWQJ1",
        "colab_type": "code",
        "colab": {}
      },
      "source": [
        "training_data.describe()"
      ],
      "execution_count": 0,
      "outputs": []
    },
    {
      "cell_type": "code",
      "metadata": {
        "id": "S50kKs5xXlvv",
        "colab_type": "code",
        "colab": {}
      },
      "source": [
        "# plt.scatter(training_data.total_rooms, training_data.median_house_value); "
      ],
      "execution_count": 0,
      "outputs": []
    },
    {
      "cell_type": "markdown",
      "metadata": {
        "id": "-nJasOuuXAq3",
        "colab_type": "text"
      },
      "source": [
        "##Define functions for Build and train our prospective Model"
      ]
    },
    {
      "cell_type": "code",
      "metadata": {
        "id": "sgHE6TDuXavj",
        "colab_type": "code",
        "colab": {
          "base_uri": "https://localhost:8080/",
          "height": 34
        },
        "outputId": "9b03b1cd-c7ed-4c50-acef-afff2805723f"
      },
      "source": [
        "def build_model(my_learning_rate):\n",
        "  # M0 describes the topography of the simple linear regression \n",
        "  # Model, which is a single node in a single layer \n",
        "\n",
        "  M0 = tf.keras.layers.Dense(units=1, input_shape=(1,))\n",
        "\n",
        "  # the model function>>\n",
        "  model = tf.keras.models.Sequential(M0)\n",
        "\n",
        "  #compile the model\n",
        "  model.compile(optimizer=tf.keras.optimizers.RMSprop(lr=my_learning_rate),\n",
        "                loss=\"mean_squared_error\",\n",
        "                metrics = [tf.keras.metrics.RootMeanSquaredError()])\n",
        "  \n",
        "  return model\n",
        "\n",
        "\n",
        "def train_model(model, df, feature, label, epochs, batch_size):\n",
        "  history = model.fit(x=df[feature], \n",
        "                          y=df[label], \n",
        "                          batch_size = batch_size,\n",
        "                          epochs=epochs)\n",
        "  \n",
        "  # collect model weight and bias\n",
        "  trained_weight = model.get_weights()[0]\n",
        "  trained_bias = model.get_weights()[1]\n",
        "\n",
        "  epochs = history.epoch\n",
        "\n",
        "  #Isolate the error for each epoch.\n",
        "  hist = pd.DataFrame(history.history)\n",
        "\n",
        "  # snapshot of the model's root mean squared error at each epoch.\n",
        "  rmse = hist[\"root_mean_squared_error\"]\n",
        "\n",
        "  return trained_weight, trained_bias, epochs, rmse\n",
        "\n",
        "print(\"Defined the create_model and traing_model functions.\")"
      ],
      "execution_count": 39,
      "outputs": [
        {
          "output_type": "stream",
          "text": [
            "Defined the create_model and traing_model functions.\n"
          ],
          "name": "stdout"
        }
      ]
    },
    {
      "cell_type": "code",
      "metadata": {
        "id": "I8cvBouPxzSx",
        "colab_type": "code",
        "colab": {
          "base_uri": "https://localhost:8080/",
          "height": 34
        },
        "outputId": "474828f2-9012-4d6d-9727-8a1c396d856a"
      },
      "source": [
        "def plot_the_model(trained_weight, trained_bias, feature, label):\n",
        "  \"\"\"Plot the trained model against 200 random training examples.\"\"\"\n",
        "\n",
        "  # Label the axes.\n",
        "  plt.xlabel(feature)\n",
        "  plt.ylabel(label)\n",
        "\n",
        "  # Create a scatter plot from 200 random points of the dataset.\n",
        "  random_examples = training_data.sample(n=200)\n",
        "  plt.scatter(random_examples[feature], random_examples[label])\n",
        "\n",
        "  # Create a red line representing the model. The red line starts\n",
        "  # at coordinates (x0, y0) and ends at coordinates (x1, y1).\n",
        "  x0 = 0\n",
        "  y0 = trained_bias\n",
        "  x1 = 10000\n",
        "  y1 = trained_bias + (trained_weight * x1)\n",
        "  plt.plot([x0, x1], [y0, y1], c='r')\n",
        "\n",
        "  # Render the scatter plot and the red line.\n",
        "  plt.show()\n",
        "\n",
        "\n",
        "def plot_the_loss_curve(epochs, rmse):\n",
        "  \"\"\"Plot a curve of loss vs. epoch.\"\"\"\n",
        "\n",
        "  plt.figure()\n",
        "  plt.xlabel(\"Epoch\")\n",
        "  plt.ylabel(\"Root Mean Squared Error\")\n",
        "\n",
        "  plt.plot(epochs, rmse, label=\"Loss\")\n",
        "  plt.legend()\n",
        "  plt.ylim([rmse.min()*0.97, rmse.max()])\n",
        "  plt.show()  \n",
        "\n",
        "print(\"Defined the plot_the_model and plot_the_loss_curve functions.\")"
      ],
      "execution_count": 40,
      "outputs": [
        {
          "output_type": "stream",
          "text": [
            "Defined the plot_the_model and plot_the_loss_curve functions.\n"
          ],
          "name": "stdout"
        }
      ]
    },
    {
      "cell_type": "markdown",
      "metadata": {
        "id": "fOFHfehu1GCY",
        "colab_type": "text"
      },
      "source": [
        "## Define function to call the model"
      ]
    },
    {
      "cell_type": "code",
      "metadata": {
        "id": "jL39AXbC0aEP",
        "colab_type": "code",
        "colab": {
          "base_uri": "https://localhost:8080/",
          "height": 1000
        },
        "outputId": "241facff-5fc1-46ef-80c1-ae95a22ed4e3"
      },
      "source": [
        "# The following variables are the hyperparameters.\n",
        "learning_rate = 0.02\n",
        "epochs = 50\n",
        "batch_size = 30\n",
        "\n",
        "# Specify the feature and the label.\n",
        "my_feature = \"total_rooms\"  # the total number of rooms on a specific city block.\n",
        "my_label=\"median_house_value\" # the median value of a house on a specific city block.\n",
        "# That is, you're going to create a model that predicts house value based \n",
        "# solely on total_rooms.  \n",
        "\n",
        "# Discard any pre-existing version of the model.\n",
        "my_model = None\n",
        "\n",
        "# Invoke the functions.\n",
        "my_model = build_model(learning_rate)\n",
        "weight, bias, epochs, rmse = train_model(my_model, training_data, \n",
        "                                         my_feature, my_label, \n",
        "                                         epochs, batch_size)\n",
        "\n",
        "print(\"\\nThe learned weight for your model is %.4f\" % weight)\n",
        "print(\"The learned bias for your model is %.4f\\n\" % bias )\n",
        "\n",
        "plot_the_model(weight, bias, my_feature, my_label)\n",
        "plot_the_loss_curve(epochs, rmse)"
      ],
      "execution_count": 41,
      "outputs": [
        {
          "output_type": "stream",
          "text": [
            "Epoch 1/50\n",
            "567/567 [==============================] - 1s 1ms/step - loss: 40842.1289 - root_mean_squared_error: 202.1362\n",
            "Epoch 2/50\n",
            "567/567 [==============================] - 1s 992us/step - loss: 28325.5996 - root_mean_squared_error: 168.2707\n",
            "Epoch 3/50\n",
            "567/567 [==============================] - 1s 1ms/step - loss: 27114.1387 - root_mean_squared_error: 164.6741\n",
            "Epoch 4/50\n",
            "567/567 [==============================] - 1s 1ms/step - loss: 25838.1953 - root_mean_squared_error: 160.7608\n",
            "Epoch 5/50\n",
            "567/567 [==============================] - 1s 979us/step - loss: 24554.2422 - root_mean_squared_error: 156.7142\n",
            "Epoch 6/50\n",
            "567/567 [==============================] - 1s 1ms/step - loss: 23444.2109 - root_mean_squared_error: 153.1170\n",
            "Epoch 7/50\n",
            "567/567 [==============================] - 1s 1ms/step - loss: 22474.6426 - root_mean_squared_error: 149.9433\n",
            "Epoch 8/50\n",
            "567/567 [==============================] - 1s 997us/step - loss: 21550.6289 - root_mean_squared_error: 146.8140\n",
            "Epoch 9/50\n",
            "567/567 [==============================] - 1s 992us/step - loss: 20786.9961 - root_mean_squared_error: 144.1542\n",
            "Epoch 10/50\n",
            "567/567 [==============================] - 1s 921us/step - loss: 20023.6855 - root_mean_squared_error: 141.5000\n",
            "Epoch 11/50\n",
            "567/567 [==============================] - 1s 943us/step - loss: 19259.6328 - root_mean_squared_error: 138.7880\n",
            "Epoch 12/50\n",
            "567/567 [==============================] - 1s 929us/step - loss: 18730.7910 - root_mean_squared_error: 136.8615\n",
            "Epoch 13/50\n",
            "567/567 [==============================] - 1s 936us/step - loss: 17944.7441 - root_mean_squared_error: 133.9767\n",
            "Epoch 14/50\n",
            "567/567 [==============================] - 1s 927us/step - loss: 17567.8320 - root_mean_squared_error: 132.5699\n",
            "Epoch 15/50\n",
            "567/567 [==============================] - 1s 994us/step - loss: 17065.2617 - root_mean_squared_error: 130.6249\n",
            "Epoch 16/50\n",
            "567/567 [==============================] - 1s 908us/step - loss: 16893.2188 - root_mean_squared_error: 129.9873\n",
            "Epoch 17/50\n",
            "567/567 [==============================] - 1s 920us/step - loss: 16527.1992 - root_mean_squared_error: 128.5286\n",
            "Epoch 18/50\n",
            "567/567 [==============================] - 1s 910us/step - loss: 16319.0283 - root_mean_squared_error: 127.7657\n",
            "Epoch 19/50\n",
            "567/567 [==============================] - 1s 924us/step - loss: 15921.3135 - root_mean_squared_error: 126.1776\n",
            "Epoch 20/50\n",
            "567/567 [==============================] - 1s 949us/step - loss: 15804.9277 - root_mean_squared_error: 125.7152\n",
            "Epoch 21/50\n",
            "567/567 [==============================] - 1s 943us/step - loss: 15632.2275 - root_mean_squared_error: 125.0352\n",
            "Epoch 22/50\n",
            "567/567 [==============================] - 1s 908us/step - loss: 15331.6963 - root_mean_squared_error: 123.8114\n",
            "Epoch 23/50\n",
            "567/567 [==============================] - 1s 930us/step - loss: 15451.6240 - root_mean_squared_error: 124.3133\n",
            "Epoch 24/50\n",
            "567/567 [==============================] - 1s 921us/step - loss: 15182.6123 - root_mean_squared_error: 123.2083\n",
            "Epoch 25/50\n",
            "567/567 [==============================] - 1s 936us/step - loss: 15068.9863 - root_mean_squared_error: 122.7651\n",
            "Epoch 26/50\n",
            "567/567 [==============================] - 1s 939us/step - loss: 15004.5771 - root_mean_squared_error: 122.4961\n",
            "Epoch 27/50\n",
            "567/567 [==============================] - 1s 924us/step - loss: 14901.5449 - root_mean_squared_error: 122.0768\n",
            "Epoch 28/50\n",
            "567/567 [==============================] - 1s 924us/step - loss: 15046.7109 - root_mean_squared_error: 122.6635\n",
            "Epoch 29/50\n",
            "567/567 [==============================] - 1s 921us/step - loss: 15088.7373 - root_mean_squared_error: 122.8485\n",
            "Epoch 30/50\n",
            "567/567 [==============================] - 1s 911us/step - loss: 14739.4580 - root_mean_squared_error: 121.4069\n",
            "Epoch 31/50\n",
            "567/567 [==============================] - 1s 926us/step - loss: 15042.7393 - root_mean_squared_error: 122.5795\n",
            "Epoch 32/50\n",
            "567/567 [==============================] - 1s 917us/step - loss: 14760.2139 - root_mean_squared_error: 121.4890\n",
            "Epoch 33/50\n",
            "567/567 [==============================] - 1s 914us/step - loss: 14926.1182 - root_mean_squared_error: 122.1700\n",
            "Epoch 34/50\n",
            "567/567 [==============================] - 1s 928us/step - loss: 14908.1592 - root_mean_squared_error: 122.1149\n",
            "Epoch 35/50\n",
            "567/567 [==============================] - 1s 933us/step - loss: 14969.1162 - root_mean_squared_error: 122.3601\n",
            "Epoch 36/50\n",
            "567/567 [==============================] - 1s 943us/step - loss: 14933.7988 - root_mean_squared_error: 122.1958\n",
            "Epoch 37/50\n",
            "567/567 [==============================] - 1s 914us/step - loss: 14818.6982 - root_mean_squared_error: 121.7485\n",
            "Epoch 38/50\n",
            "567/567 [==============================] - 1s 926us/step - loss: 15031.9492 - root_mean_squared_error: 122.6082\n",
            "Epoch 39/50\n",
            "567/567 [==============================] - 1s 935us/step - loss: 14897.4229 - root_mean_squared_error: 122.0444\n",
            "Epoch 40/50\n",
            "567/567 [==============================] - 1s 937us/step - loss: 14781.0566 - root_mean_squared_error: 121.5771\n",
            "Epoch 41/50\n",
            "567/567 [==============================] - 1s 927us/step - loss: 14833.8799 - root_mean_squared_error: 121.7898\n",
            "Epoch 42/50\n",
            "567/567 [==============================] - 1s 949us/step - loss: 14731.6875 - root_mean_squared_error: 121.3548\n",
            "Epoch 43/50\n",
            "567/567 [==============================] - 1s 890us/step - loss: 14731.2998 - root_mean_squared_error: 121.3772\n",
            "Epoch 44/50\n",
            "567/567 [==============================] - 1s 910us/step - loss: 14890.1504 - root_mean_squared_error: 122.0306\n",
            "Epoch 45/50\n",
            "567/567 [==============================] - 1s 923us/step - loss: 14751.3506 - root_mean_squared_error: 121.4595\n",
            "Epoch 46/50\n",
            "567/567 [==============================] - 1s 925us/step - loss: 14762.2686 - root_mean_squared_error: 121.5003\n",
            "Epoch 47/50\n",
            "567/567 [==============================] - 1s 924us/step - loss: 14927.1973 - root_mean_squared_error: 122.1684\n",
            "Epoch 48/50\n",
            "567/567 [==============================] - 1s 950us/step - loss: 14723.1826 - root_mean_squared_error: 121.3363\n",
            "Epoch 49/50\n",
            "567/567 [==============================] - 1s 934us/step - loss: 14878.2207 - root_mean_squared_error: 121.9867\n",
            "Epoch 50/50\n",
            "567/567 [==============================] - 1s 937us/step - loss: 14846.0137 - root_mean_squared_error: 121.8525\n",
            "\n",
            "The learned weight for your model is 0.0056\n",
            "The learned bias for your model is 187.3078\n",
            "\n"
          ],
          "name": "stdout"
        },
        {
          "output_type": "display_data",
          "data": {
            "image/png": "[encoded data removed]",
            "text/plain": [
              "<Figure size 432x288 with 1 Axes>"
            ]
          },
          "metadata": {
            "tags": [],
            "needs_background": "light"
          }
        },
        {
          "output_type": "display_data",
          "data": {
            "image/png": "[encoded data removed]",
            "text/plain": [
              "<Figure size 432x288 with 1 Axes>"
            ]
          },
          "metadata": {
            "tags": [],
            "needs_background": "light"
          }
        }
      ]
    },
    {
      "cell_type": "code",
      "metadata": {
        "id": "z2Wxu8utjcBM",
        "colab_type": "code",
        "colab": {}
      },
      "source": [
        ""
      ],
      "execution_count": 0,
      "outputs": []
    },
    {
      "cell_type": "markdown",
      "metadata": {
        "id": "fIoDLbIcjqZ2",
        "colab_type": "text"
      },
      "source": [
        "## Predictions using the model "
      ]
    },
    {
      "cell_type": "code",
      "metadata": {
        "id": "dd1ntMFWj0on",
        "colab_type": "code",
        "colab": {}
      },
      "source": [
        "def predict_house_values(n, feature, label):\n",
        "  \"\"\"Predict house values based on a feature.\"\"\"\n",
        "\n",
        "  batch = training_data[feature][10000:10000 + n]\n",
        "  predicted_values = my_model.predict_on_batch(x=batch)\n",
        "\n",
        "  print(\"feature   label          predicted\")\n",
        "  print(\"  value   value          value\")\n",
        "  print(\"          in thousand$   in thousand$\")\n",
        "  print(\"--------------------------------------\")\n",
        "  for i in range(n):\n",
        "    print (\"%5.0f %6.0f %15.0f\" % (training_data[feature][i],\n",
        "                                   training_data[label][i],\n",
        "                                   predicted_values[i][0] ))"
      ],
      "execution_count": 0,
      "outputs": []
    },
    {
      "cell_type": "code",
      "metadata": {
        "id": "XgyclgLGvGfa",
        "colab_type": "code",
        "colab": {
          "base_uri": "https://localhost:8080/",
          "height": 255
        },
        "outputId": "b43ac096-f871-4b25-90da-6eea687a6dd9"
      },
      "source": [
        "predict_house_values(10, my_feature, my_label)"
      ],
      "execution_count": 43,
      "outputs": [
        {
          "output_type": "stream",
          "text": [
            "feature   label          predicted\n",
            "  value   value          value\n",
            "          in thousand$   in thousand$\n",
            "--------------------------------------\n",
            " 5612     67             198\n",
            " 7650     80             206\n",
            "  720     86             208\n",
            " 1501     73             200\n",
            " 1454     66             201\n",
            " 1387     74             219\n",
            " 2907     82             206\n",
            "  812     48             202\n",
            " 4789     58             195\n",
            " 1497     48             207\n"
          ],
          "name": "stdout"
        }
      ]
    },
    {
      "cell_type": "code",
      "metadata": {
        "id": "40BJWGktwy_u",
        "colab_type": "code",
        "colab": {
          "base_uri": "https://localhost:8080/",
          "height": 1000
        },
        "outputId": "b227f320-2cf2-4b44-bb12-6dd83fc55c53"
      },
      "source": [
        "learning_rate = 0.02\n",
        "epochs = 30\n",
        "batch_size = 15\n",
        "\n",
        "# Specify the feature and the label.\n",
        "my_feature = \"population\"  # the total number of rooms on a specific city block.\n",
        "my_label=\"median_house_value\" # the median value of a house on a specific city block.\n",
        "# That is, you're going to create a model that predicts house value based \n",
        "# solely on total_rooms.  \n",
        "\n",
        "# Discard any pre-existing version of the model.\n",
        "my_model = None\n",
        "\n",
        "# Invoke the functions.\n",
        "my_model = build_model(learning_rate)\n",
        "weight, bias, epochs, rmse = train_model(my_model, training_data, \n",
        "                                         my_feature, my_label, \n",
        "                                         epochs, batch_size)\n",
        "\n",
        "print(\"\\nThe learned weight for your model is %.4f\" % weight)\n",
        "print(\"The learned bias for your model is %.4f\\n\" % bias )\n",
        "\n",
        "plot_the_model(weight, bias, my_feature, my_label)\n",
        "plot_the_loss_curve(epochs, rmse)\n",
        "\n",
        "predict_house_values(10, my_feature, my_label)"
      ],
      "execution_count": 44,
      "outputs": [
        {
          "output_type": "stream",
          "text": [
            "Epoch 1/30\n",
            "1134/1134 [==============================] - 1s 908us/step - loss: 65370.4414 - root_mean_squared_error: 255.7209\n",
            "Epoch 2/30\n",
            "1134/1134 [==============================] - 1s 945us/step - loss: 28355.7949 - root_mean_squared_error: 168.3795\n",
            "Epoch 3/30\n",
            "1134/1134 [==============================] - 1s 927us/step - loss: 25710.9473 - root_mean_squared_error: 160.3764\n",
            "Epoch 4/30\n",
            "1134/1134 [==============================] - 1s 906us/step - loss: 23384.0332 - root_mean_squared_error: 152.9550\n",
            "Epoch 5/30\n",
            "1134/1134 [==============================] - 1s 908us/step - loss: 21447.4434 - root_mean_squared_error: 146.4862\n",
            "Epoch 6/30\n",
            "1134/1134 [==============================] - 1s 907us/step - loss: 19955.1895 - root_mean_squared_error: 141.1723\n",
            "Epoch 7/30\n",
            "1134/1134 [==============================] - 1s 931us/step - loss: 18626.4746 - root_mean_squared_error: 136.4398\n",
            "Epoch 8/30\n",
            "1134/1134 [==============================] - 1s 909us/step - loss: 17302.1094 - root_mean_squared_error: 131.5621\n",
            "Epoch 9/30\n",
            "1134/1134 [==============================] - 1s 934us/step - loss: 16338.5557 - root_mean_squared_error: 127.8453\n",
            "Epoch 10/30\n",
            "1134/1134 [==============================] - 1s 921us/step - loss: 15719.2949 - root_mean_squared_error: 125.4050\n",
            "Epoch 11/30\n",
            "1134/1134 [==============================] - 1s 946us/step - loss: 15187.7676 - root_mean_squared_error: 123.2515\n",
            "Epoch 12/30\n",
            "1134/1134 [==============================] - 1s 911us/step - loss: 14710.8594 - root_mean_squared_error: 121.3079\n",
            "Epoch 13/30\n",
            "1134/1134 [==============================] - 1s 926us/step - loss: 14580.4355 - root_mean_squared_error: 120.7437\n",
            "Epoch 14/30\n",
            "1134/1134 [==============================] - 1s 927us/step - loss: 14433.5205 - root_mean_squared_error: 120.1208\n",
            "Epoch 15/30\n",
            "1134/1134 [==============================] - 1s 925us/step - loss: 14344.2100 - root_mean_squared_error: 119.7931\n",
            "Epoch 16/30\n",
            "1134/1134 [==============================] - 1s 914us/step - loss: 14296.4531 - root_mean_squared_error: 119.5723\n",
            "Epoch 17/30\n",
            "1134/1134 [==============================] - 1s 923us/step - loss: 14158.8359 - root_mean_squared_error: 119.0032\n",
            "Epoch 18/30\n",
            "1134/1134 [==============================] - 1s 919us/step - loss: 14169.1045 - root_mean_squared_error: 119.0449\n",
            "Epoch 19/30\n",
            "1134/1134 [==============================] - 1s 919us/step - loss: 14207.4346 - root_mean_squared_error: 119.2051\n",
            "Epoch 20/30\n",
            "1134/1134 [==============================] - 1s 941us/step - loss: 14105.7686 - root_mean_squared_error: 118.7966\n",
            "Epoch 21/30\n",
            "1134/1134 [==============================] - 1s 930us/step - loss: 14161.5391 - root_mean_squared_error: 119.0138\n",
            "Epoch 22/30\n",
            "1134/1134 [==============================] - 1s 928us/step - loss: 14156.1338 - root_mean_squared_error: 119.0023\n",
            "Epoch 23/30\n",
            "1134/1134 [==============================] - 1s 928us/step - loss: 14076.0596 - root_mean_squared_error: 118.6405\n",
            "Epoch 24/30\n",
            "1134/1134 [==============================] - 1s 922us/step - loss: 14216.8203 - root_mean_squared_error: 119.2540\n",
            "Epoch 25/30\n",
            "1134/1134 [==============================] - 1s 923us/step - loss: 14186.6406 - root_mean_squared_error: 119.0981\n",
            "Epoch 26/30\n",
            "1134/1134 [==============================] - 1s 927us/step - loss: 14080.0410 - root_mean_squared_error: 118.6690\n",
            "Epoch 27/30\n",
            "1134/1134 [==============================] - 1s 923us/step - loss: 14110.2139 - root_mean_squared_error: 118.7575\n",
            "Epoch 28/30\n",
            "1134/1134 [==============================] - 1s 936us/step - loss: 14085.5156 - root_mean_squared_error: 118.6915\n",
            "Epoch 29/30\n",
            "1134/1134 [==============================] - 1s 931us/step - loss: 14131.5684 - root_mean_squared_error: 118.8716\n",
            "Epoch 30/30\n",
            "1134/1134 [==============================] - 1s 914us/step - loss: 14126.5967 - root_mean_squared_error: 118.8731\n",
            "\n",
            "The learned weight for your model is -0.0119\n",
            "The learned bias for your model is 210.5945\n",
            "\n"
          ],
          "name": "stdout"
        },
        {
          "output_type": "display_data",
          "data": {
            "image/png": "[encoded data removed]",
            "text/plain": [
              "<Figure size 432x288 with 1 Axes>"
            ]
          },
          "metadata": {
            "tags": [],
            "needs_background": "light"
          }
        },
        {
          "output_type": "display_data",
          "data": {
            "image/png": "[encoded data removed]",
            "text/plain": [
              "<Figure size 432x288 with 1 Axes>"
            ]
          },
          "metadata": {
            "tags": [],
            "needs_background": "light"
          }
        },
        {
          "output_type": "stream",
          "text": [
            "feature   label          predicted\n",
            "  value   value          value\n",
            "          in thousand$   in thousand$\n",
            "--------------------------------------\n",
            " 1015     67             195\n",
            " 1129     80             188\n",
            "  333     86             184\n",
            "  515     73             198\n",
            "  624     66             191\n",
            "  671     74             183\n",
            " 1841     82             191\n",
            "  375     48             198\n",
            " 3134     58             207\n",
            "  787     48             191\n"
          ],
          "name": "stdout"
        }
      ]
    },
    {
      "cell_type": "code",
      "metadata": {
        "id": "Z056wmAyx-BV",
        "colab_type": "code",
        "colab": {}
      },
      "source": [
        "training_data['rooms_per_person'] = training_data.total_rooms/training_data.population\n",
        "training_data.head(5)"
      ],
      "execution_count": 0,
      "outputs": []
    },
    {
      "cell_type": "code",
      "metadata": {
        "id": "_pjIQ7Vmyi3Z",
        "colab_type": "code",
        "colab": {}
      },
      "source": [
        "learning_rate = 0.007\n",
        "epochs = 20\n",
        "batch_size = 10\n",
        "\n",
        "# Specify the feature and the label.\n",
        "my_feature = \"median_income\"  # the total number of rooms on a specific city block.\n",
        "my_label=\"median_house_value\" # the median value of a house on a specific city block.\n",
        "# That is, you're going to create a model that predicts house value based \n",
        "# solely on total_rooms.  \n",
        "\n",
        "# Discard any pre-existing version of the model.\n",
        "my_model = None\n",
        "\n",
        "# Invoke the functions.\n",
        "my_model = build_model(learning_rate)\n",
        "weight, bias, epochs, rmse = train_model(my_model, training_data, \n",
        "                                         my_feature, my_label, \n",
        "                                         epochs, batch_size)\n",
        "\n",
        "print(\"\\nThe learned weight for your model is %.4f\" % weight)\n",
        "print(\"The learned bias for your model is %.4f\\n\" % bias )\n",
        "\n",
        "plot_the_model(weight, bias, my_feature, my_label)\n",
        "plot_the_loss_curve(epochs, rmse)\n",
        "\n",
        "predict_house_values(10, my_feature, my_label)"
      ],
      "execution_count": 0,
      "outputs": []
    },
    {
      "cell_type": "code",
      "metadata": {
        "id": "sDTPPKBIzYXK",
        "colab_type": "code",
        "colab": {}
      },
      "source": [
        "# training_data.corr()"
      ],
      "execution_count": 0,
      "outputs": []
    }
  ]
}